{
 "cells": [
  {
   "cell_type": "markdown",
   "metadata": {},
   "source": [
    "#### Project: Feedback summarizer\n",
    "\n",
    "In this project, we analyze the feedback of Amazon products."
   ]
  },
  {
   "cell_type": "markdown",
   "metadata": {},
   "source": [
    "#### Imports"
   ]
  },
  {
   "cell_type": "code",
   "execution_count": 1,
   "metadata": {},
   "outputs": [
    {
     "name": "stdout",
     "output_type": "stream",
     "text": [
      "Defaulting to user installation because normal site-packages is not writeable\n",
      "Requirement already satisfied: python-dotenv in /home/praneeth/.local/lib/python3.10/site-packages (1.0.1)\n"
     ]
    }
   ],
   "source": [
    "from common_functions import datasets_dir, ensure_installed, ensure_llama_running\n",
    "ensure_installed(['langchain', 'langchain_community'])\n",
    "ensure_llama_running()\n",
    "\n",
    "import os\n",
    "\n",
    "from bs4 import BeautifulSoup\n",
    "from IPython.display import display, Markdown\n",
    "from dotenv import load_dotenv\n",
    "import pandas as pd\n",
    "from selenium import webdriver\n",
    "\n",
    "from langchain_core.prompts import ChatPromptTemplate\n",
    "from langchain_community.llms import Ollama\n",
    "from langchain_core.output_parsers import StrOutputParser\n",
    "\n",
    "load_dotenv()\n",
    "llm_model = os.getenv('LLM_MODEL')"
   ]
  },
  {
   "cell_type": "markdown",
   "metadata": {},
   "source": [
    "#### Data collection"
   ]
  },
  {
   "cell_type": "code",
   "execution_count": 2,
   "metadata": {},
   "outputs": [
    {
     "data": {
      "text/html": [
       "<div>\n",
       "<style scoped>\n",
       "    .dataframe tbody tr th:only-of-type {\n",
       "        vertical-align: middle;\n",
       "    }\n",
       "\n",
       "    .dataframe tbody tr th {\n",
       "        vertical-align: top;\n",
       "    }\n",
       "\n",
       "    .dataframe thead th {\n",
       "        text-align: right;\n",
       "    }\n",
       "</style>\n",
       "<table border=\"1\" class=\"dataframe\">\n",
       "  <thead>\n",
       "    <tr style=\"text-align: right;\">\n",
       "      <th></th>\n",
       "      <th>feedback</th>\n",
       "    </tr>\n",
       "  </thead>\n",
       "  <tbody>\n",
       "    <tr>\n",
       "      <th>0</th>\n",
       "      <td>I recently purchased the TP-Link AC750 WiFi Ra...</td>\n",
       "    </tr>\n",
       "    <tr>\n",
       "      <th>1</th>\n",
       "      <td>I have a range issue in the second floor as th...</td>\n",
       "    </tr>\n",
       "    <tr>\n",
       "      <th>2</th>\n",
       "      <td>Excellent product, does the job very well and ...</td>\n",
       "    </tr>\n",
       "    <tr>\n",
       "      <th>3</th>\n",
       "      <td>I purchased a TP Link RE450 (AC1750) Wi-Fi ext...</td>\n",
       "    </tr>\n",
       "    <tr>\n",
       "      <th>4</th>\n",
       "      <td>The RE450 is an 802.11ac range extender with a...</td>\n",
       "    </tr>\n",
       "  </tbody>\n",
       "</table>\n",
       "</div>"
      ],
      "text/plain": [
       "                                            feedback\n",
       "0  I recently purchased the TP-Link AC750 WiFi Ra...\n",
       "1  I have a range issue in the second floor as th...\n",
       "2  Excellent product, does the job very well and ...\n",
       "3  I purchased a TP Link RE450 (AC1750) Wi-Fi ext...\n",
       "4  The RE450 is an 802.11ac range extender with a..."
      ]
     },
     "execution_count": 2,
     "metadata": {},
     "output_type": "execute_result"
    }
   ],
   "source": [
    "\n",
    "\n",
    "def scrape_amazon_reviews(link):\n",
    "\t\n",
    "\t# get product ID from link\n",
    "\tproduct_id = link.split('/')[-1].split('?')[0]\n",
    "\t\n",
    "\t# ensure no spaces in product ID\n",
    "\tproduct_id = product_id.replace(' ', '')\n",
    "\t\n",
    "\tfilename = f'reviews_{product_id}.csv'\n",
    "\tfilepath = os.path.join(datasets_dir, filename)\n",
    "\t# if file exists, return the reviews\n",
    "\tif os.path.exists(filepath):\n",
    "\t\treturn pd.read_csv(filepath)\n",
    "\t\n",
    "\toptions = webdriver.ChromeOptions()\n",
    "\toptions.add_argument('headless')  # to run the browser in background\n",
    "\n",
    "\tdriver = webdriver.Chrome(options=options)\n",
    "\tdriver.get(link)\n",
    "\tsoup = BeautifulSoup(driver.page_source, \"html.parser\")\n",
    "\tdriver.quit()\n",
    "\treviews = []\n",
    "\n",
    "\tfor review in soup.find_all('div', {'data-hook': 'review'}):\n",
    "\t\ttitle = review.find('a', {'data-hook': 'review-title'}).span.text\n",
    "\t\t# rating = review.find('i', {'data-hook': 'review-star-rating'}).span.text\n",
    "\t\tbody = review.find('span', {'data-hook': 'review-body'}).span.text\n",
    "\t\tfeedback = title + ' ' + body\n",
    "\t\t# remove new lines\n",
    "\t\tfeedback = feedback.replace('\\n', ' ')\n",
    "\n",
    "\t\treviews.append({\n",
    "\t\t\t# 'rating': rating,\n",
    "\t\t\t'feedback': feedback,\n",
    "\t\t})\n",
    "\n",
    "\treviews_df = pd.DataFrame(reviews)\n",
    "\treviews_df.to_csv(filepath, index=False)\n",
    "\treturn reviews_df\n",
    "\n",
    "amazon_in_link = 'https://www.amazon.in/dp/B00KXULGJQ?th=1'\n",
    "reviews_df = scrape_amazon_reviews(amazon_in_link)\n",
    "reviews_df.head()"
   ]
  },
  {
   "cell_type": "code",
   "execution_count": 3,
   "metadata": {},
   "outputs": [
    {
     "data": {
      "text/plain": [
       "'I recently purchased the TP-Link AC750 WiFi Range Extender, and I must say, it has made a significan'"
      ]
     },
     "execution_count": 3,
     "metadata": {},
     "output_type": "execute_result"
    }
   ],
   "source": [
    "# convert reviews into single string\n",
    "reviews = ' '.join(reviews_df['feedback'].tolist())\n",
    "reviews[:100]"
   ]
  },
  {
   "cell_type": "markdown",
   "metadata": {},
   "source": [
    "#### Creating the model"
   ]
  },
  {
   "cell_type": "code",
   "execution_count": 4,
   "metadata": {},
   "outputs": [
    {
     "data": {
      "text/plain": [
       "'Ollama'"
      ]
     },
     "execution_count": 4,
     "metadata": {},
     "output_type": "execute_result"
    }
   ],
   "source": [
    "llm = Ollama(model=\"llama2\")\n",
    "llm.get_name()"
   ]
  },
  {
   "cell_type": "markdown",
   "metadata": {},
   "source": [
    "Define the prompt"
   ]
  },
  {
   "cell_type": "code",
   "execution_count": 5,
   "metadata": {},
   "outputs": [],
   "source": [
    "# prompt can also be saved to a file and used as a template\n",
    "prompt = \"\"\"\n",
    "Amazon reviews of a product are given below. Give me insights into what should be improved in the product based on the reviews.\n",
    "\"\"\"\n",
    "\n",
    "prompt = prompt.strip().replace(\"\\n\", \" \")"
   ]
  },
  {
   "cell_type": "code",
   "execution_count": 6,
   "metadata": {},
   "outputs": [
    {
     "data": {
      "text/markdown": [
       "**Insights based on the reviews:**\n",
       "\n",
       "Based on the Amazon reviews provided, here are some insights into what could be improved in the TP-Link AC750 WiFi Range Extender:\n",
       "\n",
       "1. Ethernet Port Issue: Some reviewers have reported a strange issue with the Ethernet port on the RE450 range extender. The cause of this issue is not clear, but it may be related to hardware or software glitches. TP-Link could consider improving the Ethernet port design or troubleshooting methods to address this problem.\n",
       "2. Range Extension: While the AC750 range extender effectively expanded the coverage of the WiFi network for some reviewers, others experienced range issues in certain areas. To improve the product, TP-Link could consider developing a more powerful amplifier or adjusting the antenna design to provide better coverage and signal strength.\n",
       "3. Setup Ease: Some reviewers appreciated the ease of setup with WPS, but a few reported difficulties in configuring the range extender. To improve the setup process, TP-Link could consider providing more detailed instructions or adding a user-friendly interface for easier configuration.\n",
       "4. Speed and Performance: While some reviewers were satisfied with the speed and performance of the AC750 range extender, others experienced slower speeds on the extension. To address this issue, TP-Link could focus on improving the hardware or software to deliver faster and more reliable connections.\n",
       "5. Durability: A few reviewers mentioned that the device's antennas were prone to bending or breaking when manipulated. To improve the durability of the product, TP-Link could consider using more robust materials or designing the antennas with a more flexible structure.\n",
       "6. Expandability: Some reviewers expressed interest in expanding their WiFi network beyond the range extender's capabilities. To address this issue, TP-Link could consider developing a more advanced range extender that can integrate with other devices and provide more comprehensive coverage.\n",
       "7. Compatibility: A few reviewers reported compatibility issues with their existing router or device. To improve compatibility, TP-Link could ensure that the AC750 range extender is compatible with a wider range of routers and devices, or provide more detailed instructions for configuring the product with different hardware.\n",
       "8. Customer Support: Some reviewers appreciated the customer support provided by TP-Link, while others experienced difficulties in getting help. To improve customer satisfaction, TP-Link could consider providing more comprehensive documentation, improving their response time to customer inquiries, or offering additional resources for troubleshooting and maintenance.\n",
       "\n",
       "By addressing these areas of improvement, TP-Link can enhance the performance, durability, and overall value of the AC750 WiFi Range Extender, leading to increased customer satisfaction and loyalty."
      ],
      "text/plain": [
       "<IPython.core.display.Markdown object>"
      ]
     },
     "metadata": {},
     "output_type": "display_data"
    }
   ],
   "source": [
    "CHARACTER_LIMIT = 2000\n",
    "\n",
    "promptTemplate = ChatPromptTemplate.from_messages([\n",
    "\t(\"system\", prompt),\n",
    "\t(\"system\", reviews[:CHARACTER_LIMIT]),\n",
    "\t(\"user\", \"{question}\"),\n",
    "])\n",
    "chain = promptTemplate | llm | StrOutputParser()  # Parse output as string\n",
    "# Different operations are chained together to form a 'pipeline'.\n",
    "# The output of one operation is passed as input to the next.\n",
    "\n",
    "result = chain.invoke({ \"question\": \"Please provide insights based on the reviews.\" })\n",
    "\n",
    "display(Markdown(f\"**Insights based on the reviews:**\\n\\n{result}\"))"
   ]
  }
 ],
 "metadata": {
  "kernelspec": {
   "display_name": "Python 3",
   "language": "python",
   "name": "python3"
  },
  "language_info": {
   "codemirror_mode": {
    "name": "ipython",
    "version": 3
   },
   "file_extension": ".py",
   "mimetype": "text/x-python",
   "name": "python",
   "nbconvert_exporter": "python",
   "pygments_lexer": "ipython3",
   "version": "3.10.12"
  }
 },
 "nbformat": 4,
 "nbformat_minor": 2
}
