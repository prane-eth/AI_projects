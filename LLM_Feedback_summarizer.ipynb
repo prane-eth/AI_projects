{
 "cells": [
  {
   "cell_type": "markdown",
   "metadata": {},
   "source": [
    "#### Project: Feedback summarizer"
   ]
  },
  {
   "cell_type": "markdown",
   "metadata": {},
   "source": [
    "In this project, we analyze the feedback of Amazon products."
   ]
  },
  {
   "cell_type": "code",
   "execution_count": null,
   "metadata": {},
   "outputs": [],
   "source": [
    "# %pip install langchain"
   ]
  },
  {
   "cell_type": "markdown",
   "metadata": {},
   "source": [
    "Before you run this, please install [Ollama](https://ollama.com/download) and run\n",
    "`ollama pull` and `ollama pull llama2`"
   ]
  },
  {
   "cell_type": "markdown",
   "metadata": {},
   "source": [
    "#### Imports"
   ]
  },
  {
   "cell_type": "code",
   "execution_count": null,
   "metadata": {},
   "outputs": [],
   "source": [
    "import time\n",
    "from IPython.display import display, Markdown\n",
    "from langchain_core.prompts import ChatPromptTemplate\n",
    "from langchain_core.output_parsers import StrOutputParser\n",
    "from langchain_community.llms import Ollama\n",
    "\n",
    "from common_functions import load_data_from_url"
   ]
  },
  {
   "cell_type": "markdown",
   "metadata": {},
   "source": [
    "#### Data collection"
   ]
  },
  {
   "cell_type": "code",
   "execution_count": 6,
   "metadata": {},
   "outputs": [],
   "source": [
    "import requests\n",
    "from bs4 import BeautifulSoup\n",
    "\n",
    "def scrape_amazon_reviews(link):\n",
    "\theaders = {\n",
    "\t\t'User-Agent': 'Mozilla/5.0 (Windows NT 10.0; Win64; x64) AppleWebKit/537.36 (KHTML, like Gecko) Chrome/58.0.3029.110 Safari/537.3'}\n",
    "\n",
    "\treviews = []\n",
    "\n",
    "\tresponse = requests.get(link, headers=headers)\n",
    "\tsoup = BeautifulSoup(response.content, \"html.parser\")\n",
    "\n",
    "\tfor review in soup.find_all('div', {'data-hook': 'review'}):\n",
    "\t\ttitle = review.find('a', {'data-hook': 'review-title'}).span.text\n",
    "\t\t# rating = review.find('i', {'data-hook': 'review-star-rating'}).span.text\n",
    "\t\tbody = review.find('span', {'data-hook': 'review-body'}).span.text\n",
    "\n",
    "\t\treviews.append({\n",
    "\t\t\t'title': title,\n",
    "\t\t\t# 'rating': rating,\n",
    "\t\t\t'body': body\n",
    "\t\t})\n",
    "\n",
    "\t# # Find the 'See more reviews' link and update the link\n",
    "\t# see_more = soup.find('a', {'data-hook': 'see-all-reviews-link-foot'})\n",
    "\t# link = 'https://www.amazon.in' + see_more['href'] if see_more else None\n",
    "\n",
    "\treturn reviews\n",
    "\n",
    "amazon_in_link = 'https://www.amazon.in/dp/B00KXULGJQ'\n",
    "reviews = scrape_amazon_reviews(amazon_in_link)\n",
    "for review in reviews:\n",
    "\tprint(review)"
   ]
  },
  {
   "cell_type": "markdown",
   "metadata": {},
   "source": [
    "#### Creating the model"
   ]
  },
  {
   "cell_type": "code",
   "execution_count": null,
   "metadata": {},
   "outputs": [
    {
     "data": {
      "text/plain": [
       "Ollama()"
      ]
     },
     "metadata": {},
     "output_type": "display_data"
    }
   ],
   "source": [
    "llm = Ollama(model=\"llama2\")\n",
    "llm"
   ]
  },
  {
   "cell_type": "markdown",
   "metadata": {},
   "source": [
    "Define the prompt"
   ]
  },
  {
   "cell_type": "code",
   "execution_count": null,
   "metadata": {},
   "outputs": [],
   "source": [
    "# prompt can also be saved to a file and used as a template\n",
    "prompt = \"\"\"\n",
    "content from wikipedia page is mentioned below. Answer the user's question using the content.\n",
    "Keep the answers very short and to the point.\n",
    "If user asks something not related to the content, avoid answering even partially\n",
    "and apologize the user for not answering.\n",
    "Avoid using technical jargon.\n",
    "Avoid using words like \"Hi\", \"According to\", \"In my opinion\", \"I think\", \"I believe\", etc unless mandatory.\n",
    "Keep the answers very short and to the point.\n",
    "\"\"\"  # emphasizing on a short answer for a faster response and saving CPU time\n",
    "\n",
    "prompt = prompt.strip().replace(\"\\n\", \" \")"
   ]
  },
  {
   "cell_type": "code",
   "execution_count": null,
   "metadata": {},
   "outputs": [
    {
     "name": "stdout",
     "output_type": "stream",
     "text": [
      "Functions ready\n"
     ]
    }
   ],
   "source": [
    "CHARACTER_LIMIT = 2000\n",
    "\n",
    "promptTemplate = ChatPromptTemplate.from_messages([\n",
    "\t(\"system\", prompt),\n",
    "\t(\"system\", page_content[:CHARACTER_LIMIT]),\n",
    "\t(\"user\", \"{question}\"),\n",
    "])\n",
    "chain = promptTemplate | llm | StrOutputParser()  # Parse output as string\n",
    "# Different operations are chained together to form a 'pipeline'.\n",
    "# The output of one operation is passed as input to the next.\n",
    "\n",
    "def answer_question(question):\n",
    "\treturn chain.invoke({ \"question\": question })\n",
    "\n",
    "def test_for_question(question):\n",
    "\tprint(f\"Question: {question}\")\n",
    "\tanswer = answer_question(question)\n",
    "\tanswer = f\"Answer: {answer}\"\n",
    "\tdisplay(Markdown(answer))\n",
    "\ttime.sleep(2)  # CPU cooldown break\n",
    "\n",
    "print(\"Functions ready\")"
   ]
  },
  {
   "cell_type": "markdown",
   "metadata": {},
   "source": [
    "#### Testing with some queries"
   ]
  },
  {
   "cell_type": "code",
   "execution_count": null,
   "metadata": {},
   "outputs": [
    {
     "name": "stdout",
     "output_type": "stream",
     "text": [
      "Question: what is python?\n"
     ]
    },
    {
     "data": {
      "text/markdown": [
       "Answer: Python is a high-level, general-purpose programming language that emphasizes code readability with significant indentation. It's dynamically typed and garbage-collected, supporting multiple paradigms like procedural, object-oriented, and functional programming."
      ],
      "text/plain": [
       "<IPython.core.display.Markdown object>"
      ]
     },
     "metadata": {},
     "output_type": "display_data"
    }
   ],
   "source": [
    "test_for_question(\"what is python?\")"
   ]
  },
  {
   "cell_type": "code",
   "execution_count": null,
   "metadata": {},
   "outputs": [
    {
     "name": "stdout",
     "output_type": "stream",
     "text": [
      "Question: why python? why not javascript?\n"
     ]
    },
    {
     "data": {
      "text/markdown": [
       "Answer: Python is a popular programming language due to its ease of use, readability, and extensive standard library. It's often preferred over JavaScript for several reasons:\n",
       "\n",
       "1. Syntax: Python has a simpler syntax than JavaScript, making it easier to learn and understand.\n",
       "2. Dynamically typed vs statically typed: Python is dynamically typed, which means you don't need to declare variables before using them. JavaScript, on the other hand, is statically typed, requiring explicit type declarations.\n",
       "3. Memory management: Python uses automatic memory management through garbage collection, reducing the risk of memory leaks and making it easier to write programs that handle large amounts of data. JavaScript also has automatic memory management through its garbage collector, but it's not as efficient as Python's.\n",
       "4. Cross-platform compatibility: Python can run on multiple operating systems without modification, while JavaScript is primarily associated with the web and can be more challenging to use on other platforms.\n",
       "5. Libraries and frameworks: Python has a vast collection of libraries and frameworks for various tasks, such as machine learning, data analysis, and web development. JavaScript also has a rich ecosystem of libraries and frameworks, but Python's are often considered more mature and robust.\n",
       "6. Learning curve: Many developers find Python easier to learn and use than JavaScript, especially for beginners.\n",
       "7. Job prospects: Both languages have strong job prospects, but Python is often preferred in the industry due to its versatility and wide range of applications.\n",
       "\n",
       "Ultimately, the choice between Python and JavaScript depends on your specific needs, goals, and preferences as a developer."
      ],
      "text/plain": [
       "<IPython.core.display.Markdown object>"
      ]
     },
     "metadata": {},
     "output_type": "display_data"
    }
   ],
   "source": [
    "test_for_question(\"why python? why not javascript?\")"
   ]
  },
  {
   "cell_type": "code",
   "execution_count": null,
   "metadata": {},
   "outputs": [
    {
     "name": "stdout",
     "output_type": "stream",
     "text": [
      "Question: what is garbage collector in java?\n"
     ]
    },
    {
     "data": {
      "text/markdown": [
       "Answer: A garbage collector in Java is a component that automatically reclaims memory occupied by objects that are no longer needed or that have reached the end of their lifecycle. It frees up memory for use by other objects, improving the overall performance and efficiency of the program."
      ],
      "text/plain": [
       "<IPython.core.display.Markdown object>"
      ]
     },
     "metadata": {},
     "output_type": "display_data"
    }
   ],
   "source": [
    "# Unrelated question\n",
    "test_for_question(\"what is garbage collector in java?\")"
   ]
  },
  {
   "cell_type": "code",
   "execution_count": null,
   "metadata": {},
   "outputs": [
    {
     "name": "stdout",
     "output_type": "stream",
     "text": [
      "Question: quien inventó python\n"
     ]
    },
    {
     "data": {
      "text/markdown": [
       "Answer: Guido van Rossum es el creador de Python."
      ],
      "text/plain": [
       "<IPython.core.display.Markdown object>"
      ]
     },
     "metadata": {},
     "output_type": "display_data"
    }
   ],
   "source": [
    "# Asking in Spanish - who invented python\n",
    "test_for_question(\"quien inventó python\")"
   ]
  },
  {
   "cell_type": "code",
   "execution_count": null,
   "metadata": {},
   "outputs": [
    {
     "name": "stdout",
     "output_type": "stream",
     "text": [
      "Question: पाइथॉन का आविष्कार किसने किया\n"
     ]
    },
    {
     "data": {
      "text/markdown": [
       "Answer: Guido van Rossum conceived Python in the late 1980s as a successor to the ABC programming language."
      ],
      "text/plain": [
       "<IPython.core.display.Markdown object>"
      ]
     },
     "metadata": {},
     "output_type": "display_data"
    }
   ],
   "source": [
    "# Asking in Hindi - who invented python\n",
    "test_for_question(\"पाइथॉन का आविष्कार किसने किया\")"
   ]
  }
 ],
 "metadata": {
  "kernelspec": {
   "display_name": "Python 3",
   "language": "python",
   "name": "python3"
  },
  "language_info": {
   "codemirror_mode": {
    "name": "ipython",
    "version": 3
   },
   "file_extension": ".py",
   "mimetype": "text/x-python",
   "name": "python",
   "nbconvert_exporter": "python",
   "pygments_lexer": "ipython3",
   "version": "3.10.12"
  }
 },
 "nbformat": 4,
 "nbformat_minor": 2
}
