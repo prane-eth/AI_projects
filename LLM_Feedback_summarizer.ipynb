{
 "cells": [
  {
   "cell_type": "markdown",
   "metadata": {},
   "source": [
    "#### Project: Feedback summarizer"
   ]
  },
  {
   "cell_type": "markdown",
   "metadata": {},
   "source": [
    "In this project, we analyze the feedback of Amazon products."
   ]
  },
  {
   "cell_type": "code",
   "execution_count": 21,
   "metadata": {},
   "outputs": [],
   "source": [
    "# %pip install langchain"
   ]
  },
  {
   "cell_type": "markdown",
   "metadata": {},
   "source": [
    "Before you run this, please install [Ollama](https://ollama.com/download) and run\n",
    "`ollama pull` and `ollama pull llama2`"
   ]
  },
  {
   "cell_type": "markdown",
   "metadata": {},
   "source": [
    "#### Imports"
   ]
  },
  {
   "cell_type": "code",
   "execution_count": 22,
   "metadata": {},
   "outputs": [],
   "source": [
    "import time\n",
    "from IPython.display import display, Markdown\n",
    "from langchain_core.prompts import ChatPromptTemplate\n",
    "from langchain_core.output_parsers import StrOutputParser\n",
    "from langchain_community.llms import Ollama\n",
    "\n",
    "from common_functions import datasets_dir"
   ]
  },
  {
   "cell_type": "markdown",
   "metadata": {},
   "source": [
    "#### Data collection"
   ]
  },
  {
   "cell_type": "code",
   "execution_count": 23,
   "metadata": {},
   "outputs": [
    {
     "data": {
      "text/html": [
       "<div>\n",
       "<style scoped>\n",
       "    .dataframe tbody tr th:only-of-type {\n",
       "        vertical-align: middle;\n",
       "    }\n",
       "\n",
       "    .dataframe tbody tr th {\n",
       "        vertical-align: top;\n",
       "    }\n",
       "\n",
       "    .dataframe thead th {\n",
       "        text-align: right;\n",
       "    }\n",
       "</style>\n",
       "<table border=\"1\" class=\"dataframe\">\n",
       "  <thead>\n",
       "    <tr style=\"text-align: right;\">\n",
       "      <th></th>\n",
       "      <th>feedback</th>\n",
       "    </tr>\n",
       "  </thead>\n",
       "  <tbody>\n",
       "    <tr>\n",
       "      <th>0</th>\n",
       "      <td>I recently purchased the TP-Link AC750 WiFi Ra...</td>\n",
       "    </tr>\n",
       "    <tr>\n",
       "      <th>1</th>\n",
       "      <td>I have a range issue in the second floor as th...</td>\n",
       "    </tr>\n",
       "    <tr>\n",
       "      <th>2</th>\n",
       "      <td>Excellent product, does the job very well and ...</td>\n",
       "    </tr>\n",
       "    <tr>\n",
       "      <th>3</th>\n",
       "      <td>I purchased a TP Link RE450 (AC1750) Wi-Fi ext...</td>\n",
       "    </tr>\n",
       "    <tr>\n",
       "      <th>4</th>\n",
       "      <td>The RE450 is an 802.11ac range extender with a...</td>\n",
       "    </tr>\n",
       "  </tbody>\n",
       "</table>\n",
       "</div>"
      ],
      "text/plain": [
       "                                            feedback\n",
       "0  I recently purchased the TP-Link AC750 WiFi Ra...\n",
       "1  I have a range issue in the second floor as th...\n",
       "2  Excellent product, does the job very well and ...\n",
       "3  I purchased a TP Link RE450 (AC1750) Wi-Fi ext...\n",
       "4  The RE450 is an 802.11ac range extender with a..."
      ]
     },
     "execution_count": 23,
     "metadata": {},
     "output_type": "execute_result"
    }
   ],
   "source": [
    "import requests\n",
    "import os\n",
    "import pandas as pd\n",
    "from selenium import webdriver\n",
    "from bs4 import BeautifulSoup\n",
    "\n",
    "def scrape_amazon_reviews(link):\n",
    "\t\n",
    "\t# get product ID from link\n",
    "\tproduct_id = link.split('/')[-1].split('?')[0]\n",
    "\t\n",
    "\t# ensure no spaces in product ID\n",
    "\tproduct_id = product_id.replace(' ', '')\n",
    "\t\n",
    "\tfilename = f'reviews_{product_id}.csv'\n",
    "\tfilepath = os.path.join(datasets_dir, filename)\n",
    "\t# if file exists, return the reviews\n",
    "\tif os.path.exists(filepath):\n",
    "\t\treturn pd.read_csv(filepath)\n",
    "\t\n",
    "\toptions = webdriver.ChromeOptions()\n",
    "\toptions.add_argument('headless')  # to run the browser in background\n",
    "\n",
    "\tdriver = webdriver.Chrome(options=options)\n",
    "\tdriver.get(link)\n",
    "\tsoup = BeautifulSoup(driver.page_source, \"html.parser\")\n",
    "\tdriver.quit()\n",
    "\treviews = []\n",
    "\n",
    "\tfor review in soup.find_all('div', {'data-hook': 'review'}):\n",
    "\t\ttitle = review.find('a', {'data-hook': 'review-title'}).span.text\n",
    "\t\t# rating = review.find('i', {'data-hook': 'review-star-rating'}).span.text\n",
    "\t\tbody = review.find('span', {'data-hook': 'review-body'}).span.text\n",
    "\t\tfeedback = title + ' ' + body\n",
    "\t\t# remove new lines\n",
    "\t\tfeedback = feedback.replace('\\n', ' ')\n",
    "\n",
    "\t\treviews.append({\n",
    "\t\t\t# 'rating': rating,\n",
    "\t\t\t'feedback': feedback,\n",
    "\t\t})\n",
    "\n",
    "\treviews_df = pd.DataFrame(reviews)\n",
    "\treviews_df.to_csv(filepath, index=False)\n",
    "\treturn reviews_df\n",
    "\n",
    "amazon_in_link = 'https://www.amazon.in/dp/B00KXULGJQ?th=1'\n",
    "reviews_df = scrape_amazon_reviews(amazon_in_link)\n",
    "reviews_df.head()"
   ]
  },
  {
   "cell_type": "code",
   "execution_count": 24,
   "metadata": {},
   "outputs": [
    {
     "data": {
      "text/plain": [
       "'I recently purchased the TP-Link AC750 WiFi Range Extender, and I must say, it has made a significan'"
      ]
     },
     "execution_count": 24,
     "metadata": {},
     "output_type": "execute_result"
    }
   ],
   "source": [
    "# convert reviews into single string\n",
    "reviews = ' '.join(reviews_df['feedback'].tolist())\n",
    "reviews[:100]"
   ]
  },
  {
   "cell_type": "markdown",
   "metadata": {},
   "source": [
    "#### Creating the model"
   ]
  },
  {
   "cell_type": "code",
   "execution_count": 25,
   "metadata": {},
   "outputs": [
    {
     "data": {
      "text/plain": [
       "Ollama()"
      ]
     },
     "execution_count": 25,
     "metadata": {},
     "output_type": "execute_result"
    }
   ],
   "source": [
    "llm = Ollama(model=\"llama2\")\n",
    "llm"
   ]
  },
  {
   "cell_type": "markdown",
   "metadata": {},
   "source": [
    "Define the prompt"
   ]
  },
  {
   "cell_type": "code",
   "execution_count": 26,
   "metadata": {},
   "outputs": [],
   "source": [
    "# prompt can also be saved to a file and used as a template\n",
    "prompt = \"\"\"\n",
    "Amazon reviews of a product are given below. Give me insights into what should be improved in the product based on the reviews.\n",
    "\"\"\"\n",
    "\n",
    "prompt = prompt.strip().replace(\"\\n\", \" \")"
   ]
  },
  {
   "cell_type": "code",
   "execution_count": 27,
   "metadata": {},
   "outputs": [
    {
     "data": {
      "text/markdown": [
       "**Insights based on the reviews:**\n",
       "\n",
       "Based on the reviews provided, here are some insights into what could be improved in the TP-Link AC750 WiFi Range Extender:\n",
       "\n",
       "1. Ethernet port issue: Some users have reported a strange issue with the Ethernet port on the RE450 range extender. This may indicate a design flaw or manufacturing defect that needs to be addressed. TP-Link could improve the quality control process to avoid such issues in future products.\n",
       "2. Range expansion: While the AC750 range extender effectively expanded the coverage of the WiFi network, some users reported that the signal strength decreased with distance from the main router. This suggests that the device may not provide adequate range extension, especially for larger homes or apartments. TP-Link could consider upgrading the antenna design or increasing the transmit power to improve the range of the product.\n",
       "3. Setup ease: While some users found the setup process easy with WPS, others reported difficulties in setting up the device. TP-Link could simplify the setup process by providing more detailed instructions or introducing a more user-friendly interface.\n",
       "4. Speed: One user reported that the RE450 range extender provided faster speeds than their previous RE200 model. However, some users also noted that the speed on the extension was not as fast as they expected. TP-Link could consider improving the device's hardware specifications or optimizing its software to provide better performance.\n",
       "5. Durability: There is no mention of any durability issues with the product in the reviews. However, TP-Link could consider using higher-quality materials to enhance the product's lifespan and reliability.\n",
       "6. Additional features: Some users may appreciate additional features such as a built-in switch or USB port for storing media content. TP-Link could consider adding these features to future designs to provide more value to customers.\n",
       "\n",
       "In summary, while the AC750 WiFi Range Extender generally receives positive reviews, there are some areas where TP-Link could improve, such as the Ethernet port issue and range expansion. By addressing these concerns, TP-Link can enhance the product's overall performance and customer satisfaction."
      ],
      "text/plain": [
       "<IPython.core.display.Markdown object>"
      ]
     },
     "metadata": {},
     "output_type": "display_data"
    }
   ],
   "source": [
    "CHARACTER_LIMIT = 2000\n",
    "\n",
    "promptTemplate = ChatPromptTemplate.from_messages([\n",
    "\t(\"system\", prompt),\n",
    "\t(\"system\", reviews[:CHARACTER_LIMIT]),\n",
    "\t(\"user\", \"{question}\"),\n",
    "])\n",
    "chain = promptTemplate | llm | StrOutputParser()  # Parse output as string\n",
    "# Different operations are chained together to form a 'pipeline'.\n",
    "# The output of one operation is passed as input to the next.\n",
    "\n",
    "result = chain.invoke({ \"question\": \"Please provide insights based on the reviews.\" })\n",
    "\n",
    "display(Markdown(f\"**Insights based on the reviews:**\\n\\n{result}\"))"
   ]
  }
 ],
 "metadata": {
  "kernelspec": {
   "display_name": "Python 3",
   "language": "python",
   "name": "python3"
  },
  "language_info": {
   "codemirror_mode": {
    "name": "ipython",
    "version": 3
   },
   "file_extension": ".py",
   "mimetype": "text/x-python",
   "name": "python",
   "nbconvert_exporter": "python",
   "pygments_lexer": "ipython3",
   "version": "3.10.12"
  }
 },
 "nbformat": 4,
 "nbformat_minor": 2
}
