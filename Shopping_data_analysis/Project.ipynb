{
  "cells": [
    {
      "cell_type": "markdown",
      "metadata": {},
      "source": [
        "### Importing packages"
      ]
    },
    {
      "cell_type": "code",
      "execution_count": 1,
      "metadata": {},
      "outputs": [],
      "source": [
        "import random\n",
        "import pandas as pd\n",
        "import numpy as np\n",
        "import string\n",
        "import itertools"
      ]
    },
    {
      "cell_type": "markdown",
      "metadata": {},
      "source": [
        "### Emulating the data"
      ]
    },
    {
      "cell_type": "code",
      "execution_count": 2,
      "metadata": {},
      "outputs": [
        {
          "name": "stdout",
          "output_type": "stream",
          "text": [
            "['AAA', 'AAB', 'AAC', 'AAD', 'AAE']\n",
            "Length of products:  100000\n",
            "[14249 24044 23791 39839 24501]\n",
            "Length of prices:  100000\n"
          ]
        }
      ],
      "source": [
        "# generate products\n",
        "n_products = 100_000\n",
        "\n",
        "# Define the characters to use in product codes\n",
        "characters = list(string.ascii_uppercase)\n",
        "\n",
        "# Generate all possible product codes of length 3\n",
        "product_codes = [''.join(product) for product in itertools.product(characters, repeat=3)]\n",
        "\n",
        "# Repeat the product codes until we have n_products number of products\n",
        "products = list(itertools.islice(itertools.cycle(product_codes), n_products))\n",
        "\n",
        "print(products[:5])\n",
        "print(\"Length of products: \", len(products))\n",
        "\n",
        "# prices - generate random prices from 100 to 50_000 - with no decimal places\n",
        "prices = np.random.randint(100, 50_000, size=n_products)\n",
        "print(prices[:5])\n",
        "print(\"Length of prices: \", len(prices))"
      ]
    },
    {
      "cell_type": "code",
      "execution_count": 3,
      "metadata": {},
      "outputs": [
        {
          "data": {
            "text/html": [
              "<div>\n",
              "<style scoped>\n",
              "    .dataframe tbody tr th:only-of-type {\n",
              "        vertical-align: middle;\n",
              "    }\n",
              "\n",
              "    .dataframe tbody tr th {\n",
              "        vertical-align: top;\n",
              "    }\n",
              "\n",
              "    .dataframe thead th {\n",
              "        text-align: right;\n",
              "    }\n",
              "</style>\n",
              "<table border=\"1\" class=\"dataframe\">\n",
              "  <thead>\n",
              "    <tr style=\"text-align: right;\">\n",
              "      <th></th>\n",
              "      <th>customerID</th>\n",
              "      <th>keyword</th>\n",
              "    </tr>\n",
              "  </thead>\n",
              "  <tbody>\n",
              "    <tr>\n",
              "      <th>0</th>\n",
              "      <td>673</td>\n",
              "      <td>JWK</td>\n",
              "    </tr>\n",
              "    <tr>\n",
              "      <th>1</th>\n",
              "      <td>668</td>\n",
              "      <td>LYP</td>\n",
              "    </tr>\n",
              "    <tr>\n",
              "      <th>2</th>\n",
              "      <td>641</td>\n",
              "      <td>ROY</td>\n",
              "    </tr>\n",
              "    <tr>\n",
              "      <th>3</th>\n",
              "      <td>184</td>\n",
              "      <td>HGA</td>\n",
              "    </tr>\n",
              "    <tr>\n",
              "      <th>4</th>\n",
              "      <td>279</td>\n",
              "      <td>NOX</td>\n",
              "    </tr>\n",
              "  </tbody>\n",
              "</table>\n",
              "</div>"
            ],
            "text/plain": [
              "  customerID keyword\n",
              "0        673     JWK\n",
              "1        668     LYP\n",
              "2        641     ROY\n",
              "3        184     HGA\n",
              "4        279     NOX"
            ]
          },
          "execution_count": 3,
          "metadata": {},
          "output_type": "execute_result"
        }
      ],
      "source": [
        "# write code to emulate the shopping data of the customers\n",
        "\n",
        "# user_activities = [\n",
        "# \t{\n",
        "# \t\t\"customerID\": 1,\n",
        "# \t\t\"activity\": \"search\",\n",
        "# \t\t\"keyword\": \"shoes\"\n",
        "# \t},\n",
        "# \t{\n",
        "# \t\t\"customerID\": 1,\n",
        "# \t\t\"activity\": \"add_to_cart\",\n",
        "# \t\t\"productID\": 1\n",
        "# \t},\n",
        "# \t{\n",
        "# \t\t\"customerID\": 1,\n",
        "# \t\t\"activity\": \"place_order\",\n",
        "# \t\t\"productIDs\": [1, 2, 3, 4, 5]\n",
        "# \t},\n",
        "# ]\n",
        "\n",
        "# create random data\n",
        "# number of active customers\n",
        "n_customers = 1000\n",
        "n_activities = 1000\n",
        "\n",
        "user_searches_df = pd.DataFrame(columns=[\"customerID\", \"keyword\"])\n",
        "add_to_cart_df = pd.DataFrame(columns=[\"customerID\", \"productID\"])\n",
        "place_order_df = pd.DataFrame(columns=[\"customerID\", \"productIDs\"])\n",
        "\n",
        "for activity_idx in range(n_activities):\n",
        "\tcustomer_id = np.random.randint(1, n_customers + 1)\n",
        "\tactivity = np.random.choice(['search', 'add_to_cart', 'place_order'])\n",
        "\tif activity == 'search':\n",
        "\t\tuser_searches_df = user_searches_df.append({\n",
        "\t\t\t\"customerID\": customer_id,\n",
        "\t\t\t\"keyword\": random.choice(products)\n",
        "\t\t}, ignore_index=True)\n",
        "\telif activity == 'add_to_cart':\n",
        "\t\tadd_to_cart_df = add_to_cart_df.append({\n",
        "\t\t\t\"customerID\": customer_id,\n",
        "\t\t\t\"productID\": np.random.randint(1, n_products + 1)\n",
        "\t\t}, ignore_index=True)\n",
        "\telse:\n",
        "\t\tn_products_to_order = np.random.randint(1, 6)\n",
        "\t\tproduct_ids = np.random.choice(n_products, n_products_to_order, replace=False)\n",
        "\t\tplace_order_df = place_order_df.append({\n",
        "\t\t\t\"customerID\": customer_id,\n",
        "\t\t\t\"productIDs\": product_ids.tolist()\n",
        "\t\t}, ignore_index=True)\n",
        "\n",
        "user_searches_df.head()"
      ]
    }
  ],
  "metadata": {
    "kernelspec": {
      "display_name": "Python 3",
      "language": "python",
      "name": "python3"
    },
    "language_info": {
      "codemirror_mode": {
        "name": "ipython",
        "version": 3
      },
      "file_extension": ".py",
      "mimetype": "text/x-python",
      "name": "python",
      "nbconvert_exporter": "python",
      "pygments_lexer": "ipython3",
      "version": "3.10.12"
    },
    "orig_nbformat": 4
  },
  "nbformat": 4,
  "nbformat_minor": 2
}
