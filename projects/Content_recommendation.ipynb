{
 "cells": [
  {
   "cell_type": "markdown",
   "metadata": {},
   "source": [
    "### Project: Content Recommendation + User Retention system for OTT"
   ]
  },
  {
   "cell_type": "markdown",
   "metadata": {},
   "source": [
    "Aim of the project:\n",
    "- To recommend content to the users based on their interactions with the OTT platform.\n",
    "- This helps them get into a habit of regularly visiting the platform and engaging with the content, which in turn helps the platform to increase the user engagement, and hence the user base.\n",
    "- This finally helps with user retention and user satisfaction.\n",
    "- If recommendations are not possible, we need to recommend the Top 10 movies with the most ratings."
   ]
  },
  {
   "cell_type": "markdown",
   "metadata": {},
   "source": [
    "### Package installation and import"
   ]
  },
  {
   "cell_type": "code",
   "execution_count": 65,
   "metadata": {},
   "outputs": [],
   "source": [
    "# %pip install numpy pandas scikit-learn matplotlib seaborn"
   ]
  },
  {
   "cell_type": "code",
   "execution_count": 66,
   "metadata": {},
   "outputs": [],
   "source": [
    "import os\n",
    "\n",
    "import numpy as np\n",
    "import pandas as pd\n",
    "import matplotlib.pyplot as plt\n",
    "import seaborn as sns\n",
    "\n",
    "from common_functions import download_and_extract_dataset_zip, datasets_dir, RANDOM_STATE\n",
    "\n",
    "np.random.seed(RANDOM_STATE)"
   ]
  },
  {
   "cell_type": "markdown",
   "metadata": {},
   "source": [
    "### Data collection"
   ]
  },
  {
   "cell_type": "code",
   "execution_count": 67,
   "metadata": {},
   "outputs": [
    {
     "name": "stdout",
     "output_type": "stream",
     "text": [
      "Dimensions of ratings: (100836, 4)\n"
     ]
    },
    {
     "data": {
      "text/html": [
       "<div>\n",
       "<style scoped>\n",
       "    .dataframe tbody tr th:only-of-type {\n",
       "        vertical-align: middle;\n",
       "    }\n",
       "\n",
       "    .dataframe tbody tr th {\n",
       "        vertical-align: top;\n",
       "    }\n",
       "\n",
       "    .dataframe thead th {\n",
       "        text-align: right;\n",
       "    }\n",
       "</style>\n",
       "<table border=\"1\" class=\"dataframe\">\n",
       "  <thead>\n",
       "    <tr style=\"text-align: right;\">\n",
       "      <th></th>\n",
       "      <th>userId</th>\n",
       "      <th>movieId</th>\n",
       "      <th>rating</th>\n",
       "      <th>timestamp</th>\n",
       "    </tr>\n",
       "  </thead>\n",
       "  <tbody>\n",
       "    <tr>\n",
       "      <th>0</th>\n",
       "      <td>1</td>\n",
       "      <td>1</td>\n",
       "      <td>4.0</td>\n",
       "      <td>964982703</td>\n",
       "    </tr>\n",
       "    <tr>\n",
       "      <th>1</th>\n",
       "      <td>1</td>\n",
       "      <td>3</td>\n",
       "      <td>4.0</td>\n",
       "      <td>964981247</td>\n",
       "    </tr>\n",
       "    <tr>\n",
       "      <th>2</th>\n",
       "      <td>1</td>\n",
       "      <td>6</td>\n",
       "      <td>4.0</td>\n",
       "      <td>964982224</td>\n",
       "    </tr>\n",
       "    <tr>\n",
       "      <th>3</th>\n",
       "      <td>1</td>\n",
       "      <td>47</td>\n",
       "      <td>5.0</td>\n",
       "      <td>964983815</td>\n",
       "    </tr>\n",
       "    <tr>\n",
       "      <th>4</th>\n",
       "      <td>1</td>\n",
       "      <td>50</td>\n",
       "      <td>5.0</td>\n",
       "      <td>964982931</td>\n",
       "    </tr>\n",
       "  </tbody>\n",
       "</table>\n",
       "</div>"
      ],
      "text/plain": [
       "   userId  movieId  rating  timestamp\n",
       "0       1        1     4.0  964982703\n",
       "1       1        3     4.0  964981247\n",
       "2       1        6     4.0  964982224\n",
       "3       1       47     5.0  964983815\n",
       "4       1       50     5.0  964982931"
      ]
     },
     "execution_count": 67,
     "metadata": {},
     "output_type": "execute_result"
    }
   ],
   "source": [
    "dataset_foldername = 'ml-latest-small'\n",
    "\n",
    "zip_file_path = os.path.join(datasets_dir, dataset_foldername + '.zip')\n",
    "extracted_folder_path = zip_file_path.replace('.zip', '')\n",
    "ratings_file = os.path.join(extracted_folder_path, 'ratings.csv')\n",
    "movies_file = os.path.join(extracted_folder_path, 'movies.csv')\n",
    "user_tags_file = os.path.join(extracted_folder_path, 'tags.csv')\n",
    "\n",
    "required_files = [ratings_file, movies_file, user_tags_file]\n",
    "dataset_zip_url = f'https://files.grouplens.org/datasets/movielens/{dataset_foldername}.zip'\n",
    "\n",
    "# if the dataset files don't exist\n",
    "download_and_extract_dataset_zip(dataset_zip_url, required_files)\n",
    "\n",
    "# Load the ratings, movies, and user_tags dataframes\n",
    "ratings = pd.read_csv(ratings_file)\n",
    "movies = pd.read_csv(movies_file)\n",
    "user_tags = pd.read_csv(user_tags_file)\n",
    "\n",
    "print(f'Dimensions of ratings: {ratings.shape}')\n",
    "ratings.head()"
   ]
  },
  {
   "cell_type": "code",
   "execution_count": 68,
   "metadata": {},
   "outputs": [
    {
     "name": "stdout",
     "output_type": "stream",
     "text": [
      "Dimensions of movies: (9742, 3)\n"
     ]
    },
    {
     "data": {
      "text/html": [
       "<div>\n",
       "<style scoped>\n",
       "    .dataframe tbody tr th:only-of-type {\n",
       "        vertical-align: middle;\n",
       "    }\n",
       "\n",
       "    .dataframe tbody tr th {\n",
       "        vertical-align: top;\n",
       "    }\n",
       "\n",
       "    .dataframe thead th {\n",
       "        text-align: right;\n",
       "    }\n",
       "</style>\n",
       "<table border=\"1\" class=\"dataframe\">\n",
       "  <thead>\n",
       "    <tr style=\"text-align: right;\">\n",
       "      <th></th>\n",
       "      <th>movieId</th>\n",
       "      <th>title</th>\n",
       "      <th>genres</th>\n",
       "    </tr>\n",
       "  </thead>\n",
       "  <tbody>\n",
       "    <tr>\n",
       "      <th>0</th>\n",
       "      <td>1</td>\n",
       "      <td>Toy Story (1995)</td>\n",
       "      <td>Adventure|Animation|Children|Comedy|Fantasy</td>\n",
       "    </tr>\n",
       "    <tr>\n",
       "      <th>1</th>\n",
       "      <td>2</td>\n",
       "      <td>Jumanji (1995)</td>\n",
       "      <td>Adventure|Children|Fantasy</td>\n",
       "    </tr>\n",
       "    <tr>\n",
       "      <th>2</th>\n",
       "      <td>3</td>\n",
       "      <td>Grumpier Old Men (1995)</td>\n",
       "      <td>Comedy|Romance</td>\n",
       "    </tr>\n",
       "    <tr>\n",
       "      <th>3</th>\n",
       "      <td>4</td>\n",
       "      <td>Waiting to Exhale (1995)</td>\n",
       "      <td>Comedy|Drama|Romance</td>\n",
       "    </tr>\n",
       "    <tr>\n",
       "      <th>4</th>\n",
       "      <td>5</td>\n",
       "      <td>Father of the Bride Part II (1995)</td>\n",
       "      <td>Comedy</td>\n",
       "    </tr>\n",
       "  </tbody>\n",
       "</table>\n",
       "</div>"
      ],
      "text/plain": [
       "   movieId                               title  \\\n",
       "0        1                    Toy Story (1995)   \n",
       "1        2                      Jumanji (1995)   \n",
       "2        3             Grumpier Old Men (1995)   \n",
       "3        4            Waiting to Exhale (1995)   \n",
       "4        5  Father of the Bride Part II (1995)   \n",
       "\n",
       "                                        genres  \n",
       "0  Adventure|Animation|Children|Comedy|Fantasy  \n",
       "1                   Adventure|Children|Fantasy  \n",
       "2                               Comedy|Romance  \n",
       "3                         Comedy|Drama|Romance  \n",
       "4                                       Comedy  "
      ]
     },
     "execution_count": 68,
     "metadata": {},
     "output_type": "execute_result"
    }
   ],
   "source": [
    "print(f'Dimensions of movies: {movies.shape}')\n",
    "movies.head()"
   ]
  },
  {
   "cell_type": "code",
   "execution_count": 69,
   "metadata": {},
   "outputs": [
    {
     "name": "stdout",
     "output_type": "stream",
     "text": [
      "Dimensions of user_tags: (3683, 4)\n"
     ]
    },
    {
     "data": {
      "text/html": [
       "<div>\n",
       "<style scoped>\n",
       "    .dataframe tbody tr th:only-of-type {\n",
       "        vertical-align: middle;\n",
       "    }\n",
       "\n",
       "    .dataframe tbody tr th {\n",
       "        vertical-align: top;\n",
       "    }\n",
       "\n",
       "    .dataframe thead th {\n",
       "        text-align: right;\n",
       "    }\n",
       "</style>\n",
       "<table border=\"1\" class=\"dataframe\">\n",
       "  <thead>\n",
       "    <tr style=\"text-align: right;\">\n",
       "      <th></th>\n",
       "      <th>userId</th>\n",
       "      <th>movieId</th>\n",
       "      <th>tag</th>\n",
       "      <th>timestamp</th>\n",
       "    </tr>\n",
       "  </thead>\n",
       "  <tbody>\n",
       "    <tr>\n",
       "      <th>0</th>\n",
       "      <td>2</td>\n",
       "      <td>60756</td>\n",
       "      <td>funny</td>\n",
       "      <td>1445714994</td>\n",
       "    </tr>\n",
       "    <tr>\n",
       "      <th>1</th>\n",
       "      <td>2</td>\n",
       "      <td>60756</td>\n",
       "      <td>Highly quotable</td>\n",
       "      <td>1445714996</td>\n",
       "    </tr>\n",
       "    <tr>\n",
       "      <th>2</th>\n",
       "      <td>2</td>\n",
       "      <td>60756</td>\n",
       "      <td>will ferrell</td>\n",
       "      <td>1445714992</td>\n",
       "    </tr>\n",
       "    <tr>\n",
       "      <th>3</th>\n",
       "      <td>2</td>\n",
       "      <td>89774</td>\n",
       "      <td>Boxing story</td>\n",
       "      <td>1445715207</td>\n",
       "    </tr>\n",
       "    <tr>\n",
       "      <th>4</th>\n",
       "      <td>2</td>\n",
       "      <td>89774</td>\n",
       "      <td>MMA</td>\n",
       "      <td>1445715200</td>\n",
       "    </tr>\n",
       "  </tbody>\n",
       "</table>\n",
       "</div>"
      ],
      "text/plain": [
       "   userId  movieId              tag   timestamp\n",
       "0       2    60756            funny  1445714994\n",
       "1       2    60756  Highly quotable  1445714996\n",
       "2       2    60756     will ferrell  1445714992\n",
       "3       2    89774     Boxing story  1445715207\n",
       "4       2    89774              MMA  1445715200"
      ]
     },
     "execution_count": 69,
     "metadata": {},
     "output_type": "execute_result"
    }
   ],
   "source": [
    "print(f'Dimensions of user_tags: {user_tags.shape}')\n",
    "user_tags.head()"
   ]
  },
  {
   "cell_type": "markdown",
   "metadata": {},
   "source": [
    "### Data Transformation"
   ]
  },
  {
   "cell_type": "code",
   "execution_count": 70,
   "metadata": {},
   "outputs": [
    {
     "data": {
      "text/html": [
       "<div>\n",
       "<style scoped>\n",
       "    .dataframe tbody tr th:only-of-type {\n",
       "        vertical-align: middle;\n",
       "    }\n",
       "\n",
       "    .dataframe tbody tr th {\n",
       "        vertical-align: top;\n",
       "    }\n",
       "\n",
       "    .dataframe thead th {\n",
       "        text-align: right;\n",
       "    }\n",
       "</style>\n",
       "<table border=\"1\" class=\"dataframe\">\n",
       "  <thead>\n",
       "    <tr style=\"text-align: right;\">\n",
       "      <th></th>\n",
       "      <th>movieId</th>\n",
       "      <th>title</th>\n",
       "      <th>genres</th>\n",
       "    </tr>\n",
       "  </thead>\n",
       "  <tbody>\n",
       "    <tr>\n",
       "      <th>0</th>\n",
       "      <td>1</td>\n",
       "      <td>Toy Story (1995)</td>\n",
       "      <td>Adventure|Animation|Children|Comedy|Fantasy</td>\n",
       "    </tr>\n",
       "    <tr>\n",
       "      <th>1</th>\n",
       "      <td>2</td>\n",
       "      <td>Jumanji (1995)</td>\n",
       "      <td>Adventure|Children|Fantasy</td>\n",
       "    </tr>\n",
       "    <tr>\n",
       "      <th>2</th>\n",
       "      <td>3</td>\n",
       "      <td>Grumpier Old Men (1995)</td>\n",
       "      <td>Comedy|Romance</td>\n",
       "    </tr>\n",
       "    <tr>\n",
       "      <th>3</th>\n",
       "      <td>4</td>\n",
       "      <td>Waiting to Exhale (1995)</td>\n",
       "      <td>Comedy|Drama|Romance</td>\n",
       "    </tr>\n",
       "    <tr>\n",
       "      <th>4</th>\n",
       "      <td>5</td>\n",
       "      <td>Father of the Bride Part II (1995)</td>\n",
       "      <td>Comedy</td>\n",
       "    </tr>\n",
       "  </tbody>\n",
       "</table>\n",
       "</div>"
      ],
      "text/plain": [
       "   movieId                               title  \\\n",
       "0        1                    Toy Story (1995)   \n",
       "1        2                      Jumanji (1995)   \n",
       "2        3             Grumpier Old Men (1995)   \n",
       "3        4            Waiting to Exhale (1995)   \n",
       "4        5  Father of the Bride Part II (1995)   \n",
       "\n",
       "                                        genres  \n",
       "0  Adventure|Animation|Children|Comedy|Fantasy  \n",
       "1                   Adventure|Children|Fantasy  \n",
       "2                               Comedy|Romance  \n",
       "3                         Comedy|Drama|Romance  \n",
       "4                                       Comedy  "
      ]
     },
     "execution_count": 70,
     "metadata": {},
     "output_type": "execute_result"
    }
   ],
   "source": [
    "# Data Cleaning\n",
    "# Drop any rows with missing values from the ratings, movies and user_tags dataframes\n",
    "ratings.dropna(inplace=True)\n",
    "movies.dropna(inplace=True)\n",
    "user_tags.dropna(inplace=True)\n",
    "\n",
    "user_tags.rename(columns={'tag': 'user_tag'}, inplace=True)\n",
    "\n",
    "# Data Manipulation and Wrangling\n",
    "# drop timestamp\n",
    "ratings.drop(columns=['timestamp'], inplace=True)\n",
    "user_tags.drop(columns=['timestamp'], inplace=True)\n",
    "\n",
    "movies.head()"
   ]
  },
  {
   "cell_type": "markdown",
   "metadata": {},
   "source": [
    "### Data Preprocessing"
   ]
  },
  {
   "cell_type": "code",
   "execution_count": 71,
   "metadata": {},
   "outputs": [
    {
     "name": "stdout",
     "output_type": "stream",
     "text": [
      "There are missing values in columns: user_tag\n"
     ]
    },
    {
     "data": {
      "text/html": [
       "<div>\n",
       "<style scoped>\n",
       "    .dataframe tbody tr th:only-of-type {\n",
       "        vertical-align: middle;\n",
       "    }\n",
       "\n",
       "    .dataframe tbody tr th {\n",
       "        vertical-align: top;\n",
       "    }\n",
       "\n",
       "    .dataframe thead th {\n",
       "        text-align: right;\n",
       "    }\n",
       "</style>\n",
       "<table border=\"1\" class=\"dataframe\">\n",
       "  <thead>\n",
       "    <tr style=\"text-align: right;\">\n",
       "      <th></th>\n",
       "      <th>userId</th>\n",
       "      <th>movieId</th>\n",
       "      <th>rating</th>\n",
       "      <th>genres</th>\n",
       "      <th>user_tag</th>\n",
       "    </tr>\n",
       "  </thead>\n",
       "  <tbody>\n",
       "    <tr>\n",
       "      <th>0</th>\n",
       "      <td>1</td>\n",
       "      <td>1</td>\n",
       "      <td>0.777778</td>\n",
       "      <td>[Adventure, Animation, Children, Comedy, Fantasy]</td>\n",
       "      <td>NaN</td>\n",
       "    </tr>\n",
       "    <tr>\n",
       "      <th>1</th>\n",
       "      <td>5</td>\n",
       "      <td>1</td>\n",
       "      <td>0.777778</td>\n",
       "      <td>[Adventure, Animation, Children, Comedy, Fantasy]</td>\n",
       "      <td>NaN</td>\n",
       "    </tr>\n",
       "    <tr>\n",
       "      <th>2</th>\n",
       "      <td>7</td>\n",
       "      <td>1</td>\n",
       "      <td>0.888889</td>\n",
       "      <td>[Adventure, Animation, Children, Comedy, Fantasy]</td>\n",
       "      <td>NaN</td>\n",
       "    </tr>\n",
       "    <tr>\n",
       "      <th>3</th>\n",
       "      <td>15</td>\n",
       "      <td>1</td>\n",
       "      <td>0.444444</td>\n",
       "      <td>[Adventure, Animation, Children, Comedy, Fantasy]</td>\n",
       "      <td>NaN</td>\n",
       "    </tr>\n",
       "    <tr>\n",
       "      <th>4</th>\n",
       "      <td>17</td>\n",
       "      <td>1</td>\n",
       "      <td>0.888889</td>\n",
       "      <td>[Adventure, Animation, Children, Comedy, Fantasy]</td>\n",
       "      <td>NaN</td>\n",
       "    </tr>\n",
       "  </tbody>\n",
       "</table>\n",
       "</div>"
      ],
      "text/plain": [
       "   userId  movieId    rating  \\\n",
       "0       1        1  0.777778   \n",
       "1       5        1  0.777778   \n",
       "2       7        1  0.888889   \n",
       "3      15        1  0.444444   \n",
       "4      17        1  0.888889   \n",
       "\n",
       "                                              genres user_tag  \n",
       "0  [Adventure, Animation, Children, Comedy, Fantasy]      NaN  \n",
       "1  [Adventure, Animation, Children, Comedy, Fantasy]      NaN  \n",
       "2  [Adventure, Animation, Children, Comedy, Fantasy]      NaN  \n",
       "3  [Adventure, Animation, Children, Comedy, Fantasy]      NaN  \n",
       "4  [Adventure, Animation, Children, Comedy, Fantasy]      NaN  "
      ]
     },
     "execution_count": 71,
     "metadata": {},
     "output_type": "execute_result"
    }
   ],
   "source": [
    "# in movies, if genre is '(no genres listed)', replace with NA\n",
    "movies['genres'] = movies['genres'].apply(lambda x: x if x != '(no genres listed)' else None)\n",
    "\n",
    "# Handle missing values\n",
    "movies['genres'].fillna('', inplace=True)\n",
    "\n",
    "# Split genres into a list in movies dataframe\n",
    "if not isinstance(movies['genres'].iloc[0], list):\n",
    "    movies['genres'] = movies['genres'].str.split('|')\n",
    "\n",
    "# Merge the dataframes on 'movieId' to create a single dataframe\n",
    "merged_df = pd.merge(ratings, movies, on='movieId')\n",
    "merged_df.drop(columns=['title'], inplace=True)  # drop movie title\n",
    "merged_df = pd.merge(merged_df, user_tags, on=['movieId', 'userId'], how='left')\n",
    "\n",
    "if merged_df.isnull().sum().any():\n",
    "    columns_with_missing_values = merged_df.columns[merged_df.isnull().any()].tolist()\n",
    "    columns_with_missing_values = ', '.join(columns_with_missing_values)\n",
    "    print(f'There are missing values in columns: {columns_with_missing_values}')\n",
    "\n",
    "# Normalize the data\n",
    "merged_df['rating'] = (merged_df['rating'] - merged_df['rating'].min()) / (merged_df['rating'].max() - merged_df['rating'].min())\n",
    "\n",
    "merged_df.head()"
   ]
  },
  {
   "cell_type": "code",
   "execution_count": 72,
   "metadata": {},
   "outputs": [
    {
     "data": {
      "text/html": [
       "<div>\n",
       "<style scoped>\n",
       "    .dataframe tbody tr th:only-of-type {\n",
       "        vertical-align: middle;\n",
       "    }\n",
       "\n",
       "    .dataframe tbody tr th {\n",
       "        vertical-align: top;\n",
       "    }\n",
       "\n",
       "    .dataframe thead th {\n",
       "        text-align: right;\n",
       "    }\n",
       "</style>\n",
       "<table border=\"1\" class=\"dataframe\">\n",
       "  <thead>\n",
       "    <tr style=\"text-align: right;\">\n",
       "      <th></th>\n",
       "      <th>userId</th>\n",
       "      <th>movieId</th>\n",
       "      <th>rating</th>\n",
       "      <th>genres</th>\n",
       "      <th>user_tag</th>\n",
       "    </tr>\n",
       "  </thead>\n",
       "  <tbody>\n",
       "    <tr>\n",
       "      <th>121</th>\n",
       "      <td>336</td>\n",
       "      <td>1</td>\n",
       "      <td>0.777778</td>\n",
       "      <td>[Adventure, Animation, Children, Comedy, Fantasy]</td>\n",
       "      <td>pixar</td>\n",
       "    </tr>\n",
       "    <tr>\n",
       "      <th>164</th>\n",
       "      <td>474</td>\n",
       "      <td>1</td>\n",
       "      <td>0.777778</td>\n",
       "      <td>[Adventure, Animation, Children, Comedy, Fantasy]</td>\n",
       "      <td>pixar</td>\n",
       "    </tr>\n",
       "    <tr>\n",
       "      <th>193</th>\n",
       "      <td>567</td>\n",
       "      <td>1</td>\n",
       "      <td>0.666667</td>\n",
       "      <td>[Adventure, Animation, Children, Comedy, Fantasy]</td>\n",
       "      <td>fun</td>\n",
       "    </tr>\n",
       "    <tr>\n",
       "      <th>241</th>\n",
       "      <td>289</td>\n",
       "      <td>3</td>\n",
       "      <td>0.444444</td>\n",
       "      <td>[Comedy, Romance]</td>\n",
       "      <td>moldy</td>\n",
       "    </tr>\n",
       "    <tr>\n",
       "      <th>242</th>\n",
       "      <td>289</td>\n",
       "      <td>3</td>\n",
       "      <td>0.444444</td>\n",
       "      <td>[Comedy, Romance]</td>\n",
       "      <td>old</td>\n",
       "    </tr>\n",
       "  </tbody>\n",
       "</table>\n",
       "</div>"
      ],
      "text/plain": [
       "     userId  movieId    rating  \\\n",
       "121     336        1  0.777778   \n",
       "164     474        1  0.777778   \n",
       "193     567        1  0.666667   \n",
       "241     289        3  0.444444   \n",
       "242     289        3  0.444444   \n",
       "\n",
       "                                                genres user_tag  \n",
       "121  [Adventure, Animation, Children, Comedy, Fantasy]    pixar  \n",
       "164  [Adventure, Animation, Children, Comedy, Fantasy]    pixar  \n",
       "193  [Adventure, Animation, Children, Comedy, Fantasy]      fun  \n",
       "241                                  [Comedy, Romance]    moldy  \n",
       "242                                  [Comedy, Romance]      old  "
      ]
     },
     "execution_count": 72,
     "metadata": {},
     "output_type": "execute_result"
    }
   ],
   "source": [
    "# display where merged_ratings_df is not null\n",
    "merged_df[merged_df['user_tag'].notnull()].head()"
   ]
  },
  {
   "cell_type": "code",
   "execution_count": 73,
   "metadata": {},
   "outputs": [
    {
     "data": {
      "text/html": [
       "<div>\n",
       "<style scoped>\n",
       "    .dataframe tbody tr th:only-of-type {\n",
       "        vertical-align: middle;\n",
       "    }\n",
       "\n",
       "    .dataframe tbody tr th {\n",
       "        vertical-align: top;\n",
       "    }\n",
       "\n",
       "    .dataframe thead th {\n",
       "        text-align: right;\n",
       "    }\n",
       "</style>\n",
       "<table border=\"1\" class=\"dataframe\">\n",
       "  <thead>\n",
       "    <tr style=\"text-align: right;\">\n",
       "      <th></th>\n",
       "      <th>title</th>\n",
       "      <th>genres</th>\n",
       "      <th>average_rating</th>\n",
       "      <th>number_of_ratings</th>\n",
       "    </tr>\n",
       "    <tr>\n",
       "      <th>movieId</th>\n",
       "      <th></th>\n",
       "      <th></th>\n",
       "      <th></th>\n",
       "      <th></th>\n",
       "    </tr>\n",
       "  </thead>\n",
       "  <tbody>\n",
       "    <tr>\n",
       "      <th>1</th>\n",
       "      <td>Toy Story (1995)</td>\n",
       "      <td>[Adventure, Animation, Children, Comedy, Fantasy]</td>\n",
       "      <td>NaN</td>\n",
       "      <td>NaN</td>\n",
       "    </tr>\n",
       "    <tr>\n",
       "      <th>2</th>\n",
       "      <td>Jumanji (1995)</td>\n",
       "      <td>[Adventure, Children, Fantasy]</td>\n",
       "      <td>3.920930</td>\n",
       "      <td>215.0</td>\n",
       "    </tr>\n",
       "    <tr>\n",
       "      <th>3</th>\n",
       "      <td>Grumpier Old Men (1995)</td>\n",
       "      <td>[Comedy, Romance]</td>\n",
       "      <td>3.431818</td>\n",
       "      <td>110.0</td>\n",
       "    </tr>\n",
       "    <tr>\n",
       "      <th>4</th>\n",
       "      <td>Waiting to Exhale (1995)</td>\n",
       "      <td>[Comedy, Drama, Romance]</td>\n",
       "      <td>3.259615</td>\n",
       "      <td>52.0</td>\n",
       "    </tr>\n",
       "    <tr>\n",
       "      <th>5</th>\n",
       "      <td>Father of the Bride Part II (1995)</td>\n",
       "      <td>[Comedy]</td>\n",
       "      <td>2.357143</td>\n",
       "      <td>7.0</td>\n",
       "    </tr>\n",
       "  </tbody>\n",
       "</table>\n",
       "</div>"
      ],
      "text/plain": [
       "                                      title  \\\n",
       "movieId                                       \n",
       "1                          Toy Story (1995)   \n",
       "2                            Jumanji (1995)   \n",
       "3                   Grumpier Old Men (1995)   \n",
       "4                  Waiting to Exhale (1995)   \n",
       "5        Father of the Bride Part II (1995)   \n",
       "\n",
       "                                                    genres  average_rating  \\\n",
       "movieId                                                                      \n",
       "1        [Adventure, Animation, Children, Comedy, Fantasy]             NaN   \n",
       "2                           [Adventure, Children, Fantasy]        3.920930   \n",
       "3                                        [Comedy, Romance]        3.431818   \n",
       "4                                 [Comedy, Drama, Romance]        3.259615   \n",
       "5                                                 [Comedy]        2.357143   \n",
       "\n",
       "         number_of_ratings  \n",
       "movieId                     \n",
       "1                      NaN  \n",
       "2                    215.0  \n",
       "3                    110.0  \n",
       "4                     52.0  \n",
       "5                      7.0  "
      ]
     },
     "execution_count": 73,
     "metadata": {},
     "output_type": "execute_result"
    }
   ],
   "source": [
    "# Calculate the average rating of each movie\n",
    "movies['average_rating'] = ratings.groupby('movieId')['rating'].mean()\n",
    "# Calculate the number of ratings of each movie\n",
    "movies['number_of_ratings'] = ratings.groupby('movieId')['rating'].count()\n",
    "\n",
    "movies = movies.set_index('movieId')\n",
    "\n",
    "movies.head()"
   ]
  },
  {
   "cell_type": "markdown",
   "metadata": {},
   "source": [
    "### Data Exploration"
   ]
  },
  {
   "cell_type": "markdown",
   "metadata": {},
   "source": [
    "#### EDA"
   ]
  },
  {
   "cell_type": "code",
   "execution_count": 74,
   "metadata": {},
   "outputs": [
    {
     "name": "stdout",
     "output_type": "stream",
     "text": [
      "Ratings Dataframe Info:\n",
      "<class 'pandas.core.frame.DataFrame'>\n",
      "Int64Index: 100836 entries, 0 to 100835\n",
      "Data columns (total 3 columns):\n",
      " #   Column   Non-Null Count   Dtype  \n",
      "---  ------   --------------   -----  \n",
      " 0   userId   100836 non-null  int64  \n",
      " 1   movieId  100836 non-null  int64  \n",
      " 2   rating   100836 non-null  float64\n",
      "dtypes: float64(1), int64(2)\n",
      "memory usage: 3.1 MB\n",
      "None\n",
      "\n",
      "Movies Dataframe Info:\n",
      "<class 'pandas.core.frame.DataFrame'>\n",
      "Int64Index: 9742 entries, 1 to 193609\n",
      "Data columns (total 4 columns):\n",
      " #   Column             Non-Null Count  Dtype  \n",
      "---  ------             --------------  -----  \n",
      " 0   title              9742 non-null   object \n",
      " 1   genres             9742 non-null   object \n",
      " 2   average_rating     5390 non-null   float64\n",
      " 3   number_of_ratings  5390 non-null   float64\n",
      "dtypes: float64(2), object(2)\n",
      "memory usage: 380.5+ KB\n",
      "None\n",
      "\n",
      "User Tags Dataframe Info:\n",
      "<class 'pandas.core.frame.DataFrame'>\n",
      "Int64Index: 3683 entries, 0 to 3682\n",
      "Data columns (total 3 columns):\n",
      " #   Column    Non-Null Count  Dtype \n",
      "---  ------    --------------  ----- \n",
      " 0   userId    3683 non-null   int64 \n",
      " 1   movieId   3683 non-null   int64 \n",
      " 2   user_tag  3683 non-null   object\n",
      "dtypes: int64(2), object(1)\n",
      "memory usage: 115.1+ KB\n",
      "None\n"
     ]
    }
   ],
   "source": [
    "print('Ratings Dataframe Info:')\n",
    "print(ratings.info())\n",
    "print('\\nMovies Dataframe Info:')\n",
    "print(movies.info())\n",
    "print('\\nUser Tags Dataframe Info:')\n",
    "print(user_tags.info())"
   ]
  },
  {
   "cell_type": "markdown",
   "metadata": {},
   "source": [
    "#### Data Visualization"
   ]
  },
  {
   "cell_type": "code",
   "execution_count": 75,
   "metadata": {},
   "outputs": [
    {
     "data": {
      "image/png": "[encoded data removed]",
      "text/plain": [
       "<Figure size 1000x400 with 1 Axes>"
      ]
     },
     "metadata": {},
     "output_type": "display_data"
    }
   ],
   "source": [
    "# Distribution of ratings\n",
    "plt.figure(figsize=(10, 4))\n",
    "sns.countplot(x='rating', data=ratings)\n",
    "plt.title('Distribution of Ratings')\n",
    "plt.show()"
   ]
  },
  {
   "cell_type": "markdown",
   "metadata": {},
   "source": [
    "#### Top 10 movies with the most ratings"
   ]
  },
  {
   "cell_type": "code",
   "execution_count": 76,
   "metadata": {},
   "outputs": [
    {
     "data": {
      "image/png": "[encoded data removed]",
      "text/plain": [
       "<Figure size 1000x400 with 1 Axes>"
      ]
     },
     "metadata": {},
     "output_type": "display_data"
    }
   ],
   "source": [
    "top_movies = ratings['movieId'].value_counts()[:10]\n",
    "top_movies = pd.DataFrame({'movieId': top_movies.index, 'count': top_movies.values})\n",
    "top_movies = pd.merge(top_movies, movies, on='movieId')\n",
    "\n",
    "plt.figure(figsize=(10, 4))\n",
    "sns.barplot(x='count', y='title', hue='title', data=top_movies, palette='viridis')\n",
    "plt.title('Top 10 Movies with the Most Ratings')\n",
    "plt.xlabel('Count')\n",
    "plt.ylabel('Movie Title')\n",
    "plt.show()"
   ]
  },
  {
   "cell_type": "code",
   "execution_count": 77,
   "metadata": {},
   "outputs": [
    {
     "data": {
      "image/png": "[encoded data removed]",
      "text/plain": [
       "<Figure size 1000x400 with 1 Axes>"
      ]
     },
     "metadata": {},
     "output_type": "display_data"
    }
   ],
   "source": [
    "# Consider movies with more than specific ratings\n",
    "movies_to_consider = movies[movies['number_of_ratings'] >= 50]\n",
    "top_rated_movies = movies_to_consider.sort_values('average_rating', ascending=False)[:10]\n",
    "\n",
    "# Plot the top 10 rated movies\n",
    "plt.figure(figsize=(10, 4))\n",
    "sns.barplot(x='average_rating', y='title', hue='title', data=top_rated_movies, palette='viridis')\n",
    "plt.title('Top 10 Rated Movies with More Than 100 Ratings')\n",
    "plt.xlabel('Average Rating')\n",
    "plt.ylabel('Movie Title')\n",
    "plt.show()"
   ]
  },
  {
   "cell_type": "markdown",
   "metadata": {},
   "source": [
    "### Feature Engineering"
   ]
  },
  {
   "cell_type": "markdown",
   "metadata": {},
   "source": [
    "#### Feature Selection"
   ]
  },
  {
   "cell_type": "code",
   "execution_count": null,
   "metadata": {},
   "outputs": [],
   "source": []
  },
  {
   "cell_type": "markdown",
   "metadata": {},
   "source": [
    "#### Feature Extraction"
   ]
  },
  {
   "cell_type": "code",
   "execution_count": null,
   "metadata": {},
   "outputs": [],
   "source": []
  },
  {
   "cell_type": "markdown",
   "metadata": {},
   "source": [
    "#### Feature Scaling"
   ]
  },
  {
   "cell_type": "code",
   "execution_count": null,
   "metadata": {},
   "outputs": [],
   "source": []
  },
  {
   "cell_type": "markdown",
   "metadata": {},
   "source": [
    "#### Visualization of the selected features with pair plots"
   ]
  },
  {
   "cell_type": "code",
   "execution_count": null,
   "metadata": {},
   "outputs": [],
   "source": []
  },
  {
   "cell_type": "markdown",
   "metadata": {},
   "source": [
    "#### Correlation Matrix"
   ]
  },
  {
   "cell_type": "code",
   "execution_count": null,
   "metadata": {},
   "outputs": [],
   "source": []
  },
  {
   "cell_type": "markdown",
   "metadata": {},
   "source": [
    "### Prediction"
   ]
  },
  {
   "cell_type": "code",
   "execution_count": 78,
   "metadata": {},
   "outputs": [
    {
     "name": "stdout",
     "output_type": "stream",
     "text": [
      "Training the model...\n",
      "Done\n"
     ]
    }
   ],
   "source": [
    "from surprise import Reader, Dataset, SVD\n",
    "\n",
    "reader = Reader(rating_scale=(0, 1))\n",
    "\n",
    "# Load the data from the dataframe\n",
    "data = Dataset.load_from_df(merged_df[['userId', 'movieId', 'rating']], reader)\n",
    "model = SVD()  # Use the SVD algorithm\n",
    "\n",
    "# Train the algorithm on the whole dataset\n",
    "print('Training the model...')\n",
    "trainset = data.build_full_trainset()\n",
    "model.fit(trainset)\n",
    "print('Done')"
   ]
  },
  {
   "cell_type": "code",
   "execution_count": 79,
   "metadata": {},
   "outputs": [
    {
     "name": "stdout",
     "output_type": "stream",
     "text": [
      "Testing the model...\n",
      "User 1 would rate movie 318 with 1\n",
      "User 1 would rate movie 1704 with 0.9248911339246826\n",
      "User 1 would rate movie 6874 with 0.9188497867713541\n",
      "User 1 would rate movie 8798 with 0.8768604815213337\n",
      "User 1 would rate movie 46970 with 0.8062784142353187\n",
      "\n",
      "\n",
      "Accuracy Metrics:\n",
      "RMSE: 0.1332\n",
      "MAE:  0.1048\n",
      "MSE: 0.0177\n"
     ]
    },
    {
     "data": {
      "text/plain": [
       "0.01774623985315659"
      ]
     },
     "execution_count": 79,
     "metadata": {},
     "output_type": "execute_result"
    }
   ],
   "source": [
    "# Predict ratings for all pairs (u, i) that are NOT in the training set\n",
    "print('Testing the model...')\n",
    "testset = trainset.build_anti_testset()\n",
    "predictions = model.test(testset)\n",
    "\n",
    "# Print the first few predictions\n",
    "for uid, iid, true_r, est, _ in predictions[:5]:\n",
    "\tprint(f'User {uid} would rate movie {iid} with {est}')\n",
    "\n",
    "# find accuracy\n",
    "from surprise import accuracy\n",
    "\n",
    "print('\\n\\nAccuracy Metrics:')\n",
    "accuracy.rmse(predictions)\n",
    "accuracy.mae(predictions)\n",
    "accuracy.mse(predictions)"
   ]
  },
  {
   "cell_type": "code",
   "execution_count": 80,
   "metadata": {},
   "outputs": [
    {
     "name": "stdout",
     "output_type": "stream",
     "text": [
      "Top 10 Movie Recommendations for User 123:\n"
     ]
    },
    {
     "data": {
      "text/plain": [
       "movieId\n",
       "1203                                    12 Angry Men (1957)\n",
       "1261                     Evil Dead II (Dead by Dawn) (1987)\n",
       "1358                                     Sling Blade (1996)\n",
       "3266      Man Bites Dog (C'est arrivé près de chez vous)...\n",
       "3275                            Boondock Saints, The (2000)\n",
       "3378                         Ogre, The (Unhold, Der) (1996)\n",
       "4011                                          Snatch (2000)\n",
       "7044                                   Wild at Heart (1990)\n",
       "74510     Girl Who Played with Fire, The (Flickan som le...\n",
       "158966                             Captain Fantastic (2016)\n",
       "Name: title, dtype: object"
      ]
     },
     "execution_count": 80,
     "metadata": {},
     "output_type": "execute_result"
    }
   ],
   "source": [
    "# given a user ID, recommend movies\n",
    "def recommend_movies(user_id, top_n=10):\n",
    "\t# Get a list of all movie IDs\n",
    "\tall_movie_ids = merged_df['movieId'].unique()\n",
    "\t\n",
    "\t# Get a list of movie IDs that the user has already rated\n",
    "\tmovie_ids_rated_by_user = merged_df[merged_df['userId'] == user_id]['movieId'].unique()\n",
    "\t\n",
    "\t# Remove the movie IDs that the user has already rated\n",
    "\tmovie_ids_to_predict = np.setdiff1d(all_movie_ids, movie_ids_rated_by_user)\n",
    "\t\n",
    "\t# Create a testset with the user ID and the movie IDs to predict\n",
    "\ttestset = [[user_id, movie_id, 0] for movie_id in movie_ids_to_predict]\n",
    "\t\n",
    "\t# Predict the ratings\n",
    "\tpredictions = model.test(testset)\n",
    "\t\n",
    "\t# Create a list of the top N recommendations\n",
    "\ttop_n_recommendations = []\n",
    "\tfor uid, iid, true_r, est, _ in predictions:\n",
    "\t\ttop_n_recommendations.append((iid, est))\n",
    "\t\n",
    "\t# Sort the list by estimated ratings\n",
    "\ttop_n_recommendations.sort(key=lambda x: x[1], reverse=True)\n",
    "\t\n",
    "\t# Get the top N movie IDs\n",
    "\ttop_n_movie_ids = [movie_id for movie_id, _ in top_n_recommendations[:top_n]]\n",
    "\t\n",
    "\t# Get the movie titles\n",
    "\ttop_n_movie_titles = movies.loc[top_n_movie_ids, 'title']\n",
    "\t\n",
    "\treturn top_n_movie_titles\n",
    "\n",
    "# Get the top 10 movie recommendations for user 123\n",
    "print('Top 10 Movie Recommendations for User 123:')\n",
    "recommend_movies(123, top_n=10)"
   ]
  },
  {
   "cell_type": "code",
   "execution_count": 81,
   "metadata": {},
   "outputs": [
    {
     "name": "stdout",
     "output_type": "stream",
     "text": [
      "Evaluating RMSE, MAE of algorithm SVD on 5 split(s).\n",
      "\n",
      "                  Fold 1  Fold 2  Fold 3  Fold 4  Fold 5  Mean    Std     \n",
      "RMSE (testset)    0.1993  0.1997  0.1991  0.1989  0.1996  0.1993  0.0003  \n",
      "MAE (testset)     0.1538  0.1539  0.1538  0.1533  0.1535  0.1537  0.0002  \n",
      "Fit time          0.62    0.67    0.64    0.68    0.63    0.65    0.02    \n",
      "Test time         0.05    0.05    0.05    0.05    0.05    0.05    0.00    \n",
      "Average RMSE: 0.19933298246726414\n",
      "Average MAE: 0.15365970635871398\n"
     ]
    }
   ],
   "source": [
    "# Perform cross validation and store the results\n",
    "from surprise.model_selection import cross_validate\n",
    "cv_results = cross_validate(model, data, measures=['RMSE', 'MAE'], cv=5, verbose=True)\n",
    "\n",
    "# Print the average RMSE and MAE over the 5 folds\n",
    "print(f\"Average RMSE: {np.mean(cv_results['test_rmse'])}\")\n",
    "print(f\"Average MAE: {np.mean(cv_results['test_mae'])}\")"
   ]
  }
 ],
 "metadata": {
  "kernelspec": {
   "display_name": "Python 3",
   "language": "python",
   "name": "python3"
  },
  "language_info": {
   "codemirror_mode": {
    "name": "ipython",
    "version": 3
   },
   "file_extension": ".py",
   "mimetype": "text/x-python",
   "name": "python",
   "nbconvert_exporter": "python",
   "pygments_lexer": "ipython3",
   "version": "3.10.12"
  }
 },
 "nbformat": 4,
 "nbformat_minor": 2
}
