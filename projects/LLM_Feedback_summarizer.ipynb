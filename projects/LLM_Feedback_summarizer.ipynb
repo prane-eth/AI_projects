{
 "cells": [
  {
   "cell_type": "markdown",
   "metadata": {},
   "source": [
    "#### Project: Feedback summarizer\n",
    "\n",
    "In this project, we analyze the feedback of Amazon products."
   ]
  },
  {
   "cell_type": "markdown",
   "metadata": {},
   "source": [
    "#### Imports"
   ]
  },
  {
   "cell_type": "code",
   "execution_count": 1,
   "metadata": {},
   "outputs": [],
   "source": [
    "import os\n",
    "from urllib.parse import urlparse\n",
    "\n",
    "from bs4 import BeautifulSoup\n",
    "from dotenv import load_dotenv\n",
    "import pandas as pd\n",
    "\n",
    "from langchain_core.prompts import PromptTemplate\n",
    "from langchain_community.llms import Ollama\n",
    "from langchain.chains.summarize import load_summarize_chain\n",
    "from langchain.docstore.document import Document\n",
    "\n",
    "from common_functions import datasets_dir, ensure_llama_running, clean_prompt, display_md\n",
    "ensure_llama_running()\n",
    "\n",
    "load_dotenv()\n",
    "llm_model = os.getenv('LLM_MODEL')"
   ]
  },
  {
   "cell_type": "markdown",
   "metadata": {},
   "source": [
    "#### Data collection"
   ]
  },
  {
   "cell_type": "code",
   "execution_count": 2,
   "metadata": {},
   "outputs": [
    {
     "data": {
      "text/html": [
       "<div>\n",
       "<style scoped>\n",
       "    .dataframe tbody tr th:only-of-type {\n",
       "        vertical-align: middle;\n",
       "    }\n",
       "\n",
       "    .dataframe tbody tr th {\n",
       "        vertical-align: top;\n",
       "    }\n",
       "\n",
       "    .dataframe thead th {\n",
       "        text-align: right;\n",
       "    }\n",
       "</style>\n",
       "<table border=\"1\" class=\"dataframe\">\n",
       "  <thead>\n",
       "    <tr style=\"text-align: right;\">\n",
       "      <th></th>\n",
       "      <th>rating</th>\n",
       "      <th>feedback</th>\n",
       "    </tr>\n",
       "  </thead>\n",
       "  <tbody>\n",
       "    <tr>\n",
       "      <th>0</th>\n",
       "      <td>5</td>\n",
       "      <td>I recently purchased the TP-Link AC750 WiFi Ra...</td>\n",
       "    </tr>\n",
       "    <tr>\n",
       "      <th>1</th>\n",
       "      <td>4</td>\n",
       "      <td>I have a range issue in the second floor as th...</td>\n",
       "    </tr>\n",
       "    <tr>\n",
       "      <th>2</th>\n",
       "      <td>5</td>\n",
       "      <td>Excellent product, does the job very well and ...</td>\n",
       "    </tr>\n",
       "    <tr>\n",
       "      <th>3</th>\n",
       "      <td>5</td>\n",
       "      <td>I bought this product , because someone has su...</td>\n",
       "    </tr>\n",
       "    <tr>\n",
       "      <th>4</th>\n",
       "      <td>5</td>\n",
       "      <td>The RE450 is an 802.11ac range extender with a...</td>\n",
       "    </tr>\n",
       "  </tbody>\n",
       "</table>\n",
       "</div>"
      ],
      "text/plain": [
       "   rating                                           feedback\n",
       "0       5  I recently purchased the TP-Link AC750 WiFi Ra...\n",
       "1       4  I have a range issue in the second floor as th...\n",
       "2       5  Excellent product, does the job very well and ...\n",
       "3       5  I bought this product , because someone has su...\n",
       "4       5  The RE450 is an 802.11ac range extender with a..."
      ]
     },
     "execution_count": 2,
     "metadata": {},
     "output_type": "execute_result"
    }
   ],
   "source": [
    "def scrape_amazon_reviews(link, dropna=True):\n",
    "\tbase_url = '{uri.scheme}://{uri.netloc}/'.format(uri=urlparse(link))\n",
    "\t\n",
    "\t# get product ID from link - last part of the link\n",
    "\tproduct_id = link.split('/')[-1].split('?')[0]\n",
    "\t\n",
    "\t# ensure no spaces in product ID\n",
    "\tproduct_id = product_id.replace(' ', '')\n",
    "\t\n",
    "\tfilename = f'reviews_{product_id}.csv'\n",
    "\tfilepath = os.path.join(datasets_dir, filename)\n",
    "\t# if file exists, return the reviews\n",
    "\tif os.path.exists(filepath):\n",
    "\t\treviews_df = pd.read_csv(filepath)\n",
    "\t\treviews_df.dropna(inplace=True)\n",
    "\t\treturn reviews_df\n",
    "\t\n",
    "\tfrom selenium import webdriver\n",
    "\toptions = webdriver.ChromeOptions()\n",
    "\toptions.add_argument('headless')  # to run the browser in background\n",
    "\n",
    "\tdriver = webdriver.Chrome(options=options)\n",
    "\tdriver.get(link)\n",
    "\tsoup = BeautifulSoup(driver.page_source, \"html.parser\")\n",
    "\t\n",
    "\t# new code to find the button and open its link\n",
    "\tbutton = soup.find('a', {'class': 'a-link-emphasis a-text-bold', 'data-hook': 'see-all-reviews-link-foot'})\n",
    "\tbutton_link = button['href']\n",
    "\tdriver.get(base_url + button_link)\n",
    "\tsoup = BeautifulSoup(driver.page_source, \"html.parser\")\n",
    "\t\n",
    "\t# html_path = os.path.join(datasets_dir, f'amazon_{product_id}.html')\n",
    "\t# with open(html_path, 'w') as f:\n",
    "\t# \tf.write(soup.prettify())\n",
    "\tdriver.quit()\n",
    "\treviews = []\n",
    "\n",
    "\tfor review in soup.find_all('div', {'data-hook': 'review'}):\n",
    "\t\ttitle = review.find('a', {'data-hook': 'review-title'}).span.text\n",
    "\t\t# rating = review.find('i', {'data-hook': 'review-star-rating'}).span.text\n",
    "\t\tfeedback = review.find('span', {'data-hook': 'review-body'}).span.text\n",
    "\t\t# remove new lines\n",
    "\t\tfeedback = feedback.replace('\\n', ' ')\n",
    "\n",
    "\t\treviews.append({\n",
    "\t\t\t'rating': title[0],\n",
    "\t\t\t'feedback': feedback,\n",
    "\t\t})\n",
    "\n",
    "\treviews_df = pd.DataFrame(reviews)\n",
    "\treviews_df.to_csv(filepath, index=False)\n",
    "\t\n",
    "\tif dropna:\n",
    "\t\treviews_df.dropna(inplace=True)\n",
    "\treturn reviews_df\n",
    "\n",
    "amazon_in_link = 'https://www.amazon.in/dp/B00KXULGJQ?th=1'\n",
    "reviews_df = scrape_amazon_reviews(amazon_in_link)\n",
    "reviews_df.head()"
   ]
  },
  {
   "cell_type": "code",
   "execution_count": 3,
   "metadata": {},
   "outputs": [
    {
     "name": "stdout",
     "output_type": "stream",
     "text": [
      "I recently purchased the TP-Link AC750 WiFi Range Extender, and I must say, it has made a significant difference in my home network. Here's my review:Performance (4/5):The AC750 range extender effecti...\n"
     ]
    }
   ],
   "source": [
    "# convert reviews into single string\n",
    "reviews = '\\n\\n'.join(reviews_df['feedback'].tolist())\n",
    "print(reviews[:200] + '...')"
   ]
  },
  {
   "cell_type": "markdown",
   "metadata": {},
   "source": [
    "#### Creating the model"
   ]
  },
  {
   "cell_type": "code",
   "execution_count": 4,
   "metadata": {},
   "outputs": [
    {
     "data": {
      "text/plain": [
       "'Ollama'"
      ]
     },
     "execution_count": 4,
     "metadata": {},
     "output_type": "execute_result"
    }
   ],
   "source": [
    "llm = Ollama(model=llm_model)\n",
    "llm.get_name()"
   ]
  },
  {
   "cell_type": "markdown",
   "metadata": {},
   "source": [
    "Define the prompt"
   ]
  },
  {
   "cell_type": "code",
   "execution_count": 5,
   "metadata": {},
   "outputs": [
    {
     "name": "stderr",
     "output_type": "stream",
     "text": [
      "None of PyTorch, TensorFlow >= 2.0, or Flax have been found. Models won't be available and only tokenizers, configuration and file/data utilities can be used.\n"
     ]
    },
    {
     "name": "stdout",
     "output_type": "stream",
     "text": [
      "Number of tokens before cleanup: 54\n",
      "Number of tokens after cleanup: 49\n"
     ]
    }
   ],
   "source": [
    "prompt = \"\"\"\n",
    "Reviews of my product are given below. I created this product and want to improve using user feedback.\n",
    "Give me insights into what should be improved in the product based on the reviews.\n",
    "Elaborate more in 3 paragraphs.\n",
    "\n",
    "{text}\n",
    "\"\"\"\n",
    "\n",
    "prompt = clean_prompt(prompt, llm)"
   ]
  },
  {
   "cell_type": "code",
   "execution_count": 6,
   "metadata": {},
   "outputs": [
    {
     "name": "stdout",
     "output_type": "stream",
     "text": [
      "Chain created\n"
     ]
    }
   ],
   "source": [
    "docs = [Document(reviews)]\n",
    "\n",
    "prompt_template = PromptTemplate(\n",
    "\tinput_variables=['text'],\n",
    "\ttemplate=prompt,\n",
    ")\n",
    "chain = load_summarize_chain(\n",
    "\tllm,\n",
    "\tprompt=prompt_template,\n",
    "\tverbose=False,\n",
    ")\n",
    "print('Chain created')"
   ]
  },
  {
   "cell_type": "code",
   "execution_count": 7,
   "metadata": {},
   "outputs": [
    {
     "name": "stderr",
     "output_type": "stream",
     "text": [
      "/home/praneeth/Desktop/AI_projects/.venv/lib/python3.10/site-packages/langchain_core/_api/deprecation.py:117: LangChainDeprecationWarning: The function `run` was deprecated in LangChain 0.1.0 and will be removed in 0.2.0. Use invoke instead.\n",
      "  warn_deprecated(\n"
     ]
    },
    {
     "data": {
      "text/markdown": [
       "**Insights based on the reviews:**\n",
       "\n",
       "Overall, I would recommend the TP-Link REoriously as a reliable range extender for users looking to extend the reach of their wireless network. However, if you have limited space or need durability in your device choices, it might not be the best option due to its bulkiness and weight. Additionally, if you require a highly durable product with stable Ethernet performance for day-to-day use, this product may not meet those expectations.The included instructions are clear and concise, making setup quick and easy. The range extender's dual-band compatibility ensures excellent coverage in both 2.4GHz and 5GHz frequency bands. Its WPS feature enables fast and simple wireless network configuration without the need for manual settings. Lastly, its gigabit Ethernet port provides high-speed data transfer rates when connected to a computer or other device."
      ],
      "text/plain": [
       "<IPython.core.display.Markdown object>"
      ]
     },
     "metadata": {},
     "output_type": "display_data"
    }
   ],
   "source": [
    "summary = chain.run(docs)\n",
    "display_md(f\"**Insights based on the reviews:**\\n\\n{summary}\")"
   ]
  },
  {
   "cell_type": "markdown",
   "metadata": {},
   "source": [
    "Note: I used a Small Language Model (SLM) for a faster output. It can be replaced with an LLM."
   ]
  },
  {
   "cell_type": "markdown",
   "metadata": {},
   "source": [
    "#### Hosting with gradio"
   ]
  },
  {
   "cell_type": "markdown",
   "metadata": {},
   "source": [
    "No link to test? Use this: https://www.amazon.in/dp/B08VFF6JQ8"
   ]
  },
  {
   "cell_type": "code",
   "execution_count": 1,
   "metadata": {},
   "outputs": [
    {
     "name": "stderr",
     "output_type": "stream",
     "text": [
      "/home/praneeth/Desktop/AI_projects/.venv/lib/python3.10/site-packages/gradio/interface.py:374: UserWarning: The `allow_flagging` parameter in `Interface` nowtakes a string value ('auto', 'manual', or 'never'), not a boolean. Setting parameter to: 'never'.\n",
      "  warnings.warn(\n"
     ]
    },
    {
     "name": "stdout",
     "output_type": "stream",
     "text": [
      "Running on local URL:  http://127.0.0.1:7865\n",
      "\n",
      "To create a public link, set `share=True` in `launch()`.\n"
     ]
    },
    {
     "data": {
      "text/html": [
       "<div><iframe src=\"http://127.0.0.1:7865/\" width=\"100%\" height=\"500\" allow=\"autoplay; camera; microphone; clipboard-read; clipboard-write;\" frameborder=\"0\" allowfullscreen></iframe></div>"
      ],
      "text/plain": [
       "<IPython.core.display.HTML object>"
      ]
     },
     "metadata": {},
     "output_type": "display_data"
    },
    {
     "data": {
      "text/plain": []
     },
     "execution_count": 1,
     "metadata": {},
     "output_type": "execute_result"
    }
   ],
   "source": [
    "import gradio as gr\n",
    "\n",
    "def summarize_reviews(link):\n",
    "\treviews_df = scrape_amazon_reviews(link)\n",
    "\treviews = '\\n\\n'.join(reviews_df['feedback'].tolist())\n",
    "\tdocs = [Document(reviews)]\n",
    "\tsummary = chain.run(docs)\n",
    "\treturn summary\n",
    "\n",
    "interface=gr.Interface(\n",
    "\tfn=summarize_reviews,\n",
    "\tinputs=gr.Textbox(\n",
    "\t\tlines=4, placeholder=\"Paste Amazon link\", value=\"https://www.amazon.in/dp/B08VFF6JQ8\",\n",
    "\t\tlabel=\"Amazon Product Link\"\n",
    "\t),\n",
    "\toutputs=gr.Textbox(label=\"Summary of reviews\"),\n",
    "\tallow_flagging=False,\n",
    ")\n",
    "interface.launch()"
   ]
  }
 ],
 "metadata": {
  "kernelspec": {
   "display_name": "Python 3",
   "language": "python",
   "name": "python3"
  },
  "language_info": {
   "codemirror_mode": {
    "name": "ipython",
    "version": 3
   },
   "file_extension": ".py",
   "mimetype": "text/x-python",
   "name": "python",
   "nbconvert_exporter": "python",
   "pygments_lexer": "ipython3",
   "version": "3.10.12"
  }
 },
 "nbformat": 4,
 "nbformat_minor": 2
}
