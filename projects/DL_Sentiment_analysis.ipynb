{
  "cells": [
    {
      "cell_type": "code",
      "execution_count": 1,
      "id": "WzpK-j2uZrct",
      "metadata": {
        "id": "WzpK-j2uZrct"
      },
      "outputs": [],
      "source": [
        "import sys\n",
        "if 'google.colab' in sys.modules:\n",
        "\t!pip install --upgrade datasets\n",
        "\tfrom IPython.display import clear_output\n",
        "\tclear_output()"
      ]
    },
    {
      "cell_type": "markdown",
      "id": "db677693",
      "metadata": {
        "id": "db677693"
      },
      "source": [
        "Set a device"
      ]
    },
    {
      "cell_type": "code",
      "execution_count": 2,
      "id": "89078732",
      "metadata": {
        "colab": {
          "base_uri": "https://localhost:8080/",
          "height": 35
        },
        "id": "89078732",
        "outputId": "4c8714bb-fea9-4c3b-9565-c08a0f6cd3c7"
      },
      "outputs": [
        {
          "data": {
            "application/vnd.google.colaboratory.intrinsic+json": {
              "type": "string"
            },
            "text/plain": [
              "'cuda'"
            ]
          },
          "execution_count": 2,
          "metadata": {},
          "output_type": "execute_result"
        }
      ],
      "source": [
        "import torch\n",
        "seed = 42\n",
        "\n",
        "if torch.accelerator.is_available():\n",
        "\tdevice = torch.accelerator.current_accelerator().type\n",
        "\ttorch.set_default_device(device)\n",
        "\tdef set_seed(seed=seed):\n",
        "\t\ttorch.cuda.manual_seed_all(seed)\n",
        "\tset_seed()\n",
        "else:\n",
        "\tdevice = 'cpu'\n",
        "\tdef set_seed(seed=seed):\n",
        "\t\ttorch.manual_seed(seed)\n",
        "\tset_seed()\n",
        "\n",
        "device"
      ]
    },
    {
      "cell_type": "markdown",
      "id": "GigGJA7cFg8Q",
      "metadata": {
        "id": "GigGJA7cFg8Q"
      },
      "source": [
        "Custom functions"
      ]
    },
    {
      "cell_type": "code",
      "execution_count": 3,
      "id": "VZjX4Z-HFjX9",
      "metadata": {
        "id": "VZjX4Z-HFjX9"
      },
      "outputs": [],
      "source": [
        "import time\n",
        "start_time = None\n",
        "\n",
        "def start_timer():\n",
        "\tglobal start_time  # Use global keyword to modify the global start_time\n",
        "\tstart_time = time.time()\n",
        "\n",
        "def end_timer(tag='\\t Elapsed time'):\n",
        "\tglobal start_time\n",
        "\tif start_time is None:\n",
        "\t\tprint('Timer has not been started.')\n",
        "\t\treturn\n",
        "\tend_time = time.time()\n",
        "\telapsed_time = end_time - start_time\n",
        "\tprint(f'{tag}: {elapsed_time:.2f} seconds')\n",
        "\tstart_time = None"
      ]
    },
    {
      "cell_type": "markdown",
      "id": "011f35d7",
      "metadata": {
        "id": "011f35d7"
      },
      "source": [
        "## Loading an embedding model"
      ]
    },
    {
      "cell_type": "code",
      "execution_count": 4,
      "id": "59beb7ae",
      "metadata": {
        "colab": {
          "base_uri": "https://localhost:8080/",
          "height": 444,
          "referenced_widgets": [
            "fb93a4a205244955a5e32bd72f9ba730",
            "e3b7b70ac6334db188ae3a28d3b97787",
            "0b41f038c24f480bbf8662413dba7a00",
            "32c63a8863cf45de896fc16486e1f04a",
            "423c81c398264e50b7ced34ad7085a09",
            "cba4b4a07d6d4bf580edcc01ffbd0090",
            "3f9026f5cb654dc9a53614ab127b608b",
            "5c8c5a3463d24d06beb9918f84e48fdd",
            "48abca116e2845308c7329df554936a6",
            "3972fde269f84298bb015493eb424170",
            "ddf665d59e72474d904b5cb49eb62f52",
            "96f923f5da494b70a82cd4ca17103bfb",
            "efa81661f1cb4de686db74716e1e3a44",
            "a54592ec14e14f2699b874a68bca242a",
            "8431eb7c644e4f82876af1601b10edf4",
            "383efc9d3c804eaf98ad3bc4dfcb28c5",
            "d837acb83d2b42f3875ced970dcd937c",
            "f77e9609ba32464d97f9c20c063b6d30",
            "3ea1a9e7940f4f05833da374c3e6d004",
            "c76f2e1441f04279a4a767b1f1e1ac49",
            "16afc656f8694fea8923140fa0e04dac",
            "2720b76a98f04542bb78bef732317e5c",
            "29d78462c29142fab67b5a5ded554e88",
            "9dd6c45f2d7f49c3a99748fff28e22ff",
            "6db1d32a737f4c59b07ba7e19ad08068",
            "6b5e6a328b3144748909eb4f27404caf",
            "1b66b05c11304739b00f3bda642ad436",
            "f24c366c40b7433391244282fc077a3f",
            "9467fd971a09475d8cf436f7ca6419a4",
            "f775db6dffd44c6d93aac10b48fcd100",
            "2f440d1d31354b98ae92f2401d34361e",
            "87b282bfed5e437291cd04ce9ac8a700",
            "150148ee71b74de3b5c54c8bbef5b718",
            "0271d414df704e4faa8040dce5f8b2de",
            "fb08dd3fcde9465f9926c721e3b223b6",
            "344107bce5d34377a8a92c5a13a78d46",
            "f2346b54b3d5428d8472348cc4b02e7f",
            "58f593a43a0c4473a5123d4abaf75dfd",
            "fecd1c938bf44b6aaf4062a7d4cdf5ce",
            "c0e19b031fe649d7a7e28726eed8fdea",
            "c0d29283755f4923b45aa8deacceac63",
            "030d80eb3d1e414d87c08cdf443ace2a",
            "355c5fa740e847528dde3451796db456",
            "2926bae4d3da48b9b33566eb7d6c4a79",
            "c69863e27c5d479b9cccba997b76ac5d",
            "d2f3852519e044b3b015b22950c0021d",
            "42d7d4f87fb2454f84d0a811664ef9ed",
            "38dbb12027c040a29240771383086fde",
            "fb401730a39a449e94d5a91814ac3e1d",
            "49bd75ddf0934adb80644060d26c9bde",
            "6c81726f9fa749118ebc98f4828b540b",
            "5894d458b40b45799b47bf10ef946032",
            "57e92b362fbd4690ae659126c050e546",
            "83d5126fc29a437bbfbf473ea3d36ebd",
            "a57d4e0291cf4583b03712a738c529d3",
            "3ce6dc20e9464fb3a8d48dc3b40fc2be",
            "e53f03bc798947b6ae7b50b5813a8fb9",
            "0553fb9c321344c280ef60a730f62c45",
            "706c6a9a91214b478c8acf3b447f7739",
            "93ea6925c0e84ea6a6401f1275503a06",
            "e5e24f79172d484abc7640c0af2803ba",
            "d2a554e78b4944c4aaf0577b1304e926",
            "6a1a598e1ec4445a8c51b5f9c63d69b8",
            "d6109b0319524eebbb29817084c82101",
            "bfc874348ea44227a9352f6e681ea4de",
            "2400651de5214b78a87a145bf088194b",
            "0e7107bd6a594b98b0439594b294df2a",
            "ddcff7c0ed1b4f0b8870bd919f0cbce0",
            "cc9c032500cb4cf885e862e96a979a10",
            "8d412742c9f940efb3bd1fd35d25ac3e",
            "923eb2d2cff643e2a5060fc27646d5b5",
            "330812e0d69b44adbf9476b6e722499c",
            "ec291663315542df9e2d7d47f0b80e1d",
            "ee1384da213a432aab8f682b1518930b",
            "160a90a5d16c45fbb9dbef29b9474e6c",
            "d3f03b976a6a4f8a916310d6d1f1204e",
            "d2a4e9ccabfd467fa75ce956910d1e1f",
            "fac6ec2c538d407fa3ccafa1b0d5095e",
            "19169d14c96a4da687fc67f523099ace",
            "9cd6b701bb0b49038db035cec4016cfb",
            "89a4ab4b881c4b2e81211ed64df4ffe5",
            "b3b70dc772d74a1382f5070052bea473",
            "e85586aa12a74861a01f364deff8fb8f",
            "17976cc0e6374c3481a9b3b95b9ea889",
            "bd2e1c3282834f39aa5b6efe4765fd61",
            "81fca08733444339afd2ac107e54dc1e",
            "c5ce8bd84dec4c28bc50e6a09bcb66db",
            "b02a97c881ab42afbb93a0d735fe698f",
            "9a295e8aee9c4de6b8c08cb4fe026076",
            "946f461e9b2a47f0b54df7a16f9760ce",
            "1a91767515e8409d9b35dfbb114a3ebe",
            "4f184eb5d9414e3e95ae2f18a75dcf19",
            "0516a297dd274b60bba264dc94919ed2",
            "6a9ee002e1b145d0b1c237ea2198305d",
            "7de92fd64d2745cb86ca8622e1b780c0",
            "e4b60db156c446eb9a8d0a5d3b3761db",
            "be223cab994a4f978c9482d213867421",
            "28f59e19ca984f6cb422f543965b97ca",
            "a4d1ccf78ca049f78ee24a6e3b23a794",
            "fbff09e9bd7044c4810be99c9275314b",
            "5af90ab6597f42ba92130cc3cfed3a8d",
            "f35d2032d53e49e7af632a44cc4351e1",
            "0d0cff1af4c644d29f9fb828fb1d691f",
            "ff109d73d16a4d029414bfe0ff88f10a",
            "e73d3b6581ed472188c234a439c5f43f",
            "6300e8f7331047d7a974e072e3e0015a",
            "d9408e62b0124e7bbc28ee72e7d278b2",
            "b22aeffb2c704c46a26322ea29fa013e",
            "4969b9b621e643e4b5b659c0648e8711",
            "cc0a5e2ff7904c9eadff27900052ced9",
            "f9f3d9c9433741f8a53fa1fa2f754ac3"
          ]
        },
        "id": "59beb7ae",
        "outputId": "e8a5d297-39ff-4e04-eaa4-7f7f19594886"
      },
      "outputs": [
        {
          "data": {
            "application/vnd.jupyter.widget-view+json": {
              "model_id": "fb93a4a205244955a5e32bd72f9ba730",
              "version_major": 2,
              "version_minor": 0
            },
            "text/plain": [
              "modules.json:   0%|          | 0.00/349 [00:00<?, ?B/s]"
            ]
          },
          "metadata": {},
          "output_type": "display_data"
        },
        {
          "data": {
            "application/vnd.jupyter.widget-view+json": {
              "model_id": "e3b7b70ac6334db188ae3a28d3b97787",
              "version_major": 2,
              "version_minor": 0
            },
            "text/plain": [
              "config_sentence_transformers.json:   0%|          | 0.00/116 [00:00<?, ?B/s]"
            ]
          },
          "metadata": {},
          "output_type": "display_data"
        },
        {
          "data": {
            "application/vnd.jupyter.widget-view+json": {
              "model_id": "efa81661f1cb4de686db74716e1e3a44",
              "version_major": 2,
              "version_minor": 0
            },
            "text/plain": [
              "README.md:   0%|          | 0.00/10.5k [00:00<?, ?B/s]"
            ]
          },
          "metadata": {},
          "output_type": "display_data"
        },
        {
          "data": {
            "application/vnd.jupyter.widget-view+json": {
              "model_id": "9dd6c45f2d7f49c3a99748fff28e22ff",
              "version_major": 2,
              "version_minor": 0
            },
            "text/plain": [
              "sentence_bert_config.json:   0%|          | 0.00/53.0 [00:00<?, ?B/s]"
            ]
          },
          "metadata": {},
          "output_type": "display_data"
        },
        {
          "data": {
            "application/vnd.jupyter.widget-view+json": {
              "model_id": "fb08dd3fcde9465f9926c721e3b223b6",
              "version_major": 2,
              "version_minor": 0
            },
            "text/plain": [
              "config.json:   0%|          | 0.00/612 [00:00<?, ?B/s]"
            ]
          },
          "metadata": {},
          "output_type": "display_data"
        },
        {
          "name": "stderr",
          "output_type": "stream",
          "text": [
            "Xet Storage is enabled for this repo, but the 'hf_xet' package is not installed. Falling back to regular HTTP download. For better performance, install the package with: `pip install huggingface_hub[hf_xet]` or `pip install hf_xet`\n",
            "WARNING:huggingface_hub.file_download:Xet Storage is enabled for this repo, but the 'hf_xet' package is not installed. Falling back to regular HTTP download. For better performance, install the package with: `pip install huggingface_hub[hf_xet]` or `pip install hf_xet`\n"
          ]
        },
        {
          "data": {
            "application/vnd.jupyter.widget-view+json": {
              "model_id": "d2f3852519e044b3b015b22950c0021d",
              "version_major": 2,
              "version_minor": 0
            },
            "text/plain": [
              "model.safetensors:   0%|          | 0.00/90.9M [00:00<?, ?B/s]"
            ]
          },
          "metadata": {},
          "output_type": "display_data"
        },
        {
          "data": {
            "application/vnd.jupyter.widget-view+json": {
              "model_id": "e53f03bc798947b6ae7b50b5813a8fb9",
              "version_major": 2,
              "version_minor": 0
            },
            "text/plain": [
              "tokenizer_config.json:   0%|          | 0.00/350 [00:00<?, ?B/s]"
            ]
          },
          "metadata": {},
          "output_type": "display_data"
        },
        {
          "data": {
            "application/vnd.jupyter.widget-view+json": {
              "model_id": "ddcff7c0ed1b4f0b8870bd919f0cbce0",
              "version_major": 2,
              "version_minor": 0
            },
            "text/plain": [
              "vocab.txt:   0%|          | 0.00/232k [00:00<?, ?B/s]"
            ]
          },
          "metadata": {},
          "output_type": "display_data"
        },
        {
          "data": {
            "application/vnd.jupyter.widget-view+json": {
              "model_id": "19169d14c96a4da687fc67f523099ace",
              "version_major": 2,
              "version_minor": 0
            },
            "text/plain": [
              "tokenizer.json:   0%|          | 0.00/466k [00:00<?, ?B/s]"
            ]
          },
          "metadata": {},
          "output_type": "display_data"
        },
        {
          "data": {
            "application/vnd.jupyter.widget-view+json": {
              "model_id": "946f461e9b2a47f0b54df7a16f9760ce",
              "version_major": 2,
              "version_minor": 0
            },
            "text/plain": [
              "special_tokens_map.json:   0%|          | 0.00/112 [00:00<?, ?B/s]"
            ]
          },
          "metadata": {},
          "output_type": "display_data"
        },
        {
          "data": {
            "application/vnd.jupyter.widget-view+json": {
              "model_id": "5af90ab6597f42ba92130cc3cfed3a8d",
              "version_major": 2,
              "version_minor": 0
            },
            "text/plain": [
              "config.json:   0%|          | 0.00/190 [00:00<?, ?B/s]"
            ]
          },
          "metadata": {},
          "output_type": "display_data"
        },
        {
          "name": "stdout",
          "output_type": "stream",
          "text": [
            "\t Elapsed time: 0.42 seconds\n"
          ]
        },
        {
          "data": {
            "text/plain": [
              "384"
            ]
          },
          "execution_count": 4,
          "metadata": {},
          "output_type": "execute_result"
        }
      ],
      "source": [
        "from sentence_transformers import SentenceTransformer\n",
        "\n",
        "embed_model = SentenceTransformer('sentence-transformers/all-MiniLM-L6-v2', device=device)\n",
        "\n",
        "@torch.inference_mode()  # Disable unnecessary computation (if not using gradients of this model)\n",
        "def get_embedding(sentence):\n",
        "\tembedding = embed_model.encode(sentence, normalize_embeddings=True)\n",
        "\treturn torch.tensor(embedding, device=device)\n",
        "\n",
        "# Find embedding dimension\n",
        "start_timer()\n",
        "test_embedding = get_embedding('This is a test sentence')\n",
        "end_timer()\n",
        "\n",
        "embedding_dim = len(test_embedding)\n",
        "embedding_dim"
      ]
    },
    {
      "cell_type": "markdown",
      "id": "2c5a526d",
      "metadata": {
        "id": "2c5a526d"
      },
      "source": [
        "## Load a dataset"
      ]
    },
    {
      "cell_type": "code",
      "execution_count": 5,
      "id": "e2a3b70e",
      "metadata": {
        "colab": {
          "base_uri": "https://localhost:8080/",
          "height": 261,
          "referenced_widgets": [
            "97810d2ae4794f8eb9296fe1076a5167",
            "8764954f03d74332a37ef90f9fd7f663",
            "6c41513319e944c18056279252af1ed1",
            "a7e6090fc03f43c097a04f6c8f073f77",
            "e4d77a71f3d548a991601143eaf2111e",
            "a3413d08255c4b148dc9d626be5db956",
            "f8be12557a2e4b79b6051693f7352c48",
            "2ac79bb3fbf64e56bf9103be3e09a5ef",
            "3f488c34e4514163b0657439d83cfeb0",
            "70050a398c76438485434dca009756ec",
            "500ff92810d7495d88b04bb14c6da6c7",
            "bfe29fe1477a49c5aac89b6645b56caa",
            "5e0bb5bb95d64aee84cd4476815862be",
            "c8af4945032547b795a2f84a7f59c31e",
            "d20081b8e71746c08c7feebc37f066d3",
            "ff33d9fd8af34c46a3de5c8a70b3bf8f",
            "a917ccd7e9d1410aab48f311eb138a6e",
            "a48d833dc5d949f497adc75f63e427a1",
            "2ccd16a85af5418b93b5781f4dfcd494",
            "10342971178d4d318dff2aab00a4e845",
            "0932135fdb04481894f522f6251fcebc",
            "d263793cf8fc4b8fa7f1253f6e71ebcb",
            "7217382a1a924977a857d6040bb912a3",
            "6b4fd9f7c7794693812ec621f99a96de",
            "234460204bef41d4a05ff4c9d6a9bcd2",
            "b0e909918ce14093b2fa7c2f85581467",
            "5b681062300e4a04ba81b57b5ce05fc1",
            "40f2590b97d2472386cda32fa242bbe4",
            "077782da82c44ca3aeff3b68d57d0a41",
            "6bc26a45e7be498f8f469a3504ad75d5",
            "224caac6223842fcb569f3a4e37fe902",
            "abec2365257a45d48fe4cd6658c05381",
            "051d97f6cd264f88ba1355fa85fd2c1c",
            "d665e42fff444b9385ae160f965d78ae",
            "e6a9f7e426fa4db4919a3b07208545d3",
            "68180a961f394dd99c8dcbbffaf1d8a5",
            "6eb6f57c69e3416bb44c469c579e36b2",
            "6759b3ff6ac64102a18ef1c11da3fe46",
            "c08ae1c89b464626aa0bff0b48d2fddf",
            "55a4839ebea04c5d86ed042ee885f521",
            "9fa2527a00694049854c0a8877d2cd81",
            "d4fc7ab8086b4bcf967cd175c41bc9c6",
            "92ff181916d4485db3ba04f268571466",
            "cc5cfc626298431cb5fa363ef5d04f71",
            "438c8bb1a70948cf99df1223a77636b3",
            "e8be3cc85e9941dfa604049405913278",
            "61e7b32c8a8545cab4161adab096b94a",
            "399f95497b6844bbb01da03725bcf352",
            "489497be69fe4dc0a37f663e2530503a",
            "69e3dad719084bbcb40a4538159e1bd5",
            "2430fd86cd114b1cb66940ef18259486",
            "1ee4526bbe26417ab3c0f8d2408467c4",
            "16eae74c94704f9093e6e22913ec7f2b",
            "7df4606a2d6648bbb965c864dc395030",
            "6ade0493f1074e128878e91b6e68ce5d",
            "2b10cfceab6546df88fde5fa4ee8a5bc",
            "262dc2955f3e48f6a1055f22be1ad492",
            "78a03ee9a46b4f538682210dda220431",
            "0a4589969de745ee9b1af25becc820a7",
            "a35c52398fda4e23a921964a92c5ad4f",
            "7505e1a0cf26422299cc686b8cfdf278",
            "525d6b2ad1604adaaeb2349466d0ad09",
            "84c40d305dca4416b085e6f6d7bcaf2c",
            "c2c35bd20b5e499fb4810a979c496a8d",
            "e4a8e8c214c24325ab3f8e678e11d56f",
            "f9f2c9d69401477d8d82ecc2fa869266",
            "64d7d229201d43f1b24f395ee5df9993"
          ]
        },
        "id": "e2a3b70e",
        "outputId": "83bfc616-de1b-4904-fbd4-3979c26db215"
      },
      "outputs": [
        {
          "data": {
            "application/vnd.jupyter.widget-view+json": {
              "model_id": "97810d2ae4794f8eb9296fe1076a5167",
              "version_major": 2,
              "version_minor": 0
            },
            "text/plain": [
              "README.md:   0%|          | 0.00/7.81k [00:00<?, ?B/s]"
            ]
          },
          "metadata": {},
          "output_type": "display_data"
        },
        {
          "data": {
            "application/vnd.jupyter.widget-view+json": {
              "model_id": "8764954f03d74332a37ef90f9fd7f663",
              "version_major": 2,
              "version_minor": 0
            },
            "text/plain": [
              "train-00000-of-00001.parquet:   0%|          | 0.00/21.0M [00:00<?, ?B/s]"
            ]
          },
          "metadata": {},
          "output_type": "display_data"
        },
        {
          "data": {
            "application/vnd.jupyter.widget-view+json": {
              "model_id": "5e0bb5bb95d64aee84cd4476815862be",
              "version_major": 2,
              "version_minor": 0
            },
            "text/plain": [
              "test-00000-of-00001.parquet:   0%|          | 0.00/20.5M [00:00<?, ?B/s]"
            ]
          },
          "metadata": {},
          "output_type": "display_data"
        },
        {
          "data": {
            "application/vnd.jupyter.widget-view+json": {
              "model_id": "6b4fd9f7c7794693812ec621f99a96de",
              "version_major": 2,
              "version_minor": 0
            },
            "text/plain": [
              "unsupervised-00000-of-00001.parquet:   0%|          | 0.00/42.0M [00:00<?, ?B/s]"
            ]
          },
          "metadata": {},
          "output_type": "display_data"
        },
        {
          "data": {
            "application/vnd.jupyter.widget-view+json": {
              "model_id": "e6a9f7e426fa4db4919a3b07208545d3",
              "version_major": 2,
              "version_minor": 0
            },
            "text/plain": [
              "Generating train split:   0%|          | 0/25000 [00:00<?, ? examples/s]"
            ]
          },
          "metadata": {},
          "output_type": "display_data"
        },
        {
          "data": {
            "application/vnd.jupyter.widget-view+json": {
              "model_id": "e8be3cc85e9941dfa604049405913278",
              "version_major": 2,
              "version_minor": 0
            },
            "text/plain": [
              "Generating test split:   0%|          | 0/25000 [00:00<?, ? examples/s]"
            ]
          },
          "metadata": {},
          "output_type": "display_data"
        },
        {
          "data": {
            "application/vnd.jupyter.widget-view+json": {
              "model_id": "262dc2955f3e48f6a1055f22be1ad492",
              "version_major": 2,
              "version_minor": 0
            },
            "text/plain": [
              "Generating unsupervised split:   0%|          | 0/50000 [00:00<?, ? examples/s]"
            ]
          },
          "metadata": {},
          "output_type": "display_data"
        },
        {
          "name": "stdout",
          "output_type": "stream",
          "text": [
            "Dataset loaded: 25000 training samples, 25000 test samples, \n",
            "            and 2500 partial-test samples\n"
          ]
        }
      ],
      "source": [
        "from datasets import load_dataset\n",
        "import torch\n",
        "from torch.utils.data import DataLoader, Dataset\n",
        "\n",
        "dataset = load_dataset('imdb')  # Load IMDB dataset\n",
        "# # select 1000 samples for test\n",
        "# dataset['partial_test'] = dataset['test'].shuffle(seed=seed).select(range(1000))\n",
        "# temporarily use training data for testing\n",
        "dataset['partial_test'] = dataset['train'].train_test_split(test_size=0.1, seed=seed)['test']\n",
        "print(f'Dataset loaded: {len(dataset[\"train\"])} training samples, {len(dataset[\"test\"])} test samples, ')\n",
        "print(f'            and {len(dataset[\"partial_test\"])} partial-test samples')"
      ]
    },
    {
      "cell_type": "code",
      "execution_count": 6,
      "id": "bb4e749b",
      "metadata": {
        "id": "bb4e749b"
      },
      "outputs": [],
      "source": [
        "class IMDBDataset(Dataset):\n",
        "\tdef __init__(self, data, embed_function, max_length=100):\n",
        "\t\tself.data = data\n",
        "\t\tself.embed_function = embed_function\n",
        "\t\tself.max_length = max_length\n",
        "\n",
        "\tdef __len__(self):\n",
        "\t\treturn len(self.data)\n",
        "\n",
        "\tdef __getitem__(self, idx):\n",
        "\t\ttext = self.data[idx]['text']\n",
        "\t\tlabel = self.data[idx]['label']  # it is already either 0 or 1\n",
        "\t\tembedding = self.embed_function(text)\n",
        "\t\treturn {\n",
        "\t\t\t'text': text,\n",
        "\t\t\t'embedding': embedding,\n",
        "\t\t\t'label': torch.tensor(label)\n",
        "\t\t}\n",
        "\n",
        "batch_size = 128\n",
        "generator = torch.Generator(device=device).manual_seed(seed)\n",
        "\n",
        "train_data = IMDBDataset(dataset['train'], get_embedding)\n",
        "train_loader = DataLoader(train_data, batch_size=batch_size, shuffle=True, generator=generator)\n",
        "\n",
        "partial_test_data = IMDBDataset(dataset['partial_test'], get_embedding)\n",
        "partial_test_loader = DataLoader(partial_test_data, batch_size=batch_size, shuffle=True, generator=generator)\n",
        "\n",
        "test_data = IMDBDataset(dataset['test'], get_embedding)\n",
        "test_loader = DataLoader(test_data, batch_size=batch_size, shuffle=True, generator=generator)"
      ]
    },
    {
      "cell_type": "markdown",
      "id": "c1e430ba",
      "metadata": {
        "id": "c1e430ba"
      },
      "source": [
        "## Create a model"
      ]
    },
    {
      "cell_type": "markdown",
      "id": "0m6MUfiglsEs",
      "metadata": {
        "id": "0m6MUfiglsEs"
      },
      "source": [
        "<!-- include image Sentiment_analysis-network.png in markdown -->\n",
        "<!-- ![Sentiment_analysis-network.png](https://github.com/prane-eth/job-notes/blob/main/1-Pytorch/practice/Sentiment_analysis-network.png?raw=1) -->\n",
        "<img src=\"https://github.com/prane-eth/job-notes/blob/main/1-Pytorch/practice/Sentiment_analysis-network.png?raw=1\" alt=\"Sentiment_analysis-network.png\" height=\"700\"/>"
      ]
    },
    {
      "cell_type": "code",
      "execution_count": 7,
      "id": "8554e0d5",
      "metadata": {
        "id": "8554e0d5"
      },
      "outputs": [],
      "source": [
        "import torch.nn as nn\n",
        "import torch.optim as optim\n",
        "\n",
        "hidden_dim1 = 220\n",
        "hidden_dim2 = 128\n",
        "hidden_dim3 = 64\n",
        "hidden_dim4 = 10\n",
        "output_dim = 2  # to find positive/negative sentiments\n",
        "dropout = 0.1\n",
        "\n",
        "model = nn.Sequential(\n",
        "\t# Layer-1\n",
        "\tnn.Linear(embedding_dim, hidden_dim1),\n",
        "\tnn.LayerNorm(hidden_dim1),\n",
        "\tnn.ReLU(),  # 2 ReLU layers\n",
        "\tnn.Dropout(dropout),  # avoid over-fitting\n",
        "\n",
        "\t# Layer-2\n",
        "\tnn.Linear(hidden_dim1, hidden_dim2),\n",
        "\tnn.LayerNorm(hidden_dim2),\n",
        "\tnn.ReLU(),\n",
        "\tnn.Dropout(dropout),\n",
        "\n",
        "\t# Layer-3\n",
        "\tnn.Linear(hidden_dim2, hidden_dim3),\n",
        "\tnn.LayerNorm(hidden_dim3),\n",
        "\tnn.ELU(),  # 2 ELU layers\n",
        "\tnn.Dropout(dropout),\n",
        "\n",
        "\t# Layer-4\n",
        "\tnn.Linear(hidden_dim3, hidden_dim4),\n",
        "\tnn.LayerNorm(hidden_dim4),\n",
        "\tnn.ELU(),\n",
        "\tnn.Dropout(dropout),\n",
        "\n",
        "\t# Layer-5 - Output layer\n",
        "\tnn.Linear(hidden_dim4, output_dim),\n",
        ").to(device)\n",
        "\n",
        "criterion = nn.CrossEntropyLoss()\n",
        "optimizer = optim.AdamW(model.parameters(), lr=0.01, weight_decay=0.01)\n",
        "# Adam optimizer is preferred for DL models due to its adaptive learning rate and momentum capabilities.\n",
        "# Weight decay (L2 regularization) penalizes large weights, further preventing overfitting and supporting generalization to achieve 90% accuracy.\n",
        "\n",
        "num_epochs = 20  # Increase number of epochs for better performance\n",
        "# scheduler = optim.lr_scheduler.StepLR(optimizer, step_size=1, gamma=0.9)\n",
        "# total_steps = len(train_loader) * num_epochs\n",
        "\n",
        "# from transformers import get_linear_schedule_with_warmup\n",
        "# scheduler = get_linear_schedule_with_warmup(  # learning rate scheduler\n",
        "# \toptimizer,\n",
        "# \tnum_warmup_steps=int(0.03 * total_steps),\n",
        "# \tnum_training_steps=total_steps,\n",
        "# )"
      ]
    },
    {
      "cell_type": "markdown",
      "id": "c14ea806",
      "metadata": {
        "id": "c14ea806"
      },
      "source": [
        "### Train the Model"
      ]
    },
    {
      "cell_type": "code",
      "execution_count": 8,
      "id": "0b881d9f",
      "metadata": {
        "id": "0b881d9f"
      },
      "outputs": [],
      "source": [
        "from sklearn.metrics import accuracy_score\n",
        "\n",
        "def train_epoch(model, dataloader, optimizer, criterion, device):\n",
        "\tset_seed()\n",
        "\tmodel.train()\n",
        "\tepoch_loss = 0\n",
        "\tall_preds = []\n",
        "\tall_labels = []\n",
        "\n",
        "\tfor batch in dataloader:\n",
        "\t\tembedding = batch['embedding'].to(device)\n",
        "\t\tlabels = batch['label'].to(device)\n",
        "\n",
        "\t\t# Forward pass\n",
        "\t\toptimizer.zero_grad()\n",
        "\t\toutputs = model(embedding)\n",
        "\t\tloss = criterion(outputs, labels)\n",
        "\n",
        "\t\t# Backward pass\n",
        "\t\tloss.backward()\n",
        "\t\ttorch.nn.utils.clip_grad_norm_(model.parameters(), max_norm=1.0)\n",
        "\t\toptimizer.step()\n",
        "\n",
        "\t\t# Record metrics\n",
        "\t\tepoch_loss += loss.item()\n",
        "\t\tpreds = torch.argmax(outputs, dim=1).cpu().numpy()  # Can be on only a CPU\n",
        "\t\tall_preds.extend(preds)\n",
        "\t\tall_labels.extend(labels.cpu().numpy())\n",
        "\n",
        "\t# Calculate accuracy\n",
        "\taccuracy = accuracy_score(all_labels, all_preds)\n",
        "\treturn epoch_loss / len(dataloader), accuracy\n",
        "\n",
        "def evaluate(model, dataloader, criterion, device):\n",
        "\tset_seed()\n",
        "\tmodel.eval()  # set model to evaluation mode\n",
        "\tepoch_loss = 0\n",
        "\tall_preds = []\n",
        "\tall_labels = []\n",
        "\n",
        "\twith torch.no_grad():\n",
        "\t\tfor batch in dataloader:\n",
        "\t\t\tembedding = batch['embedding'].to(device)\n",
        "\t\t\tlabels = batch['label'].to(device)\n",
        "\n",
        "\t\t\t# Forward pass\n",
        "\t\t\toutputs = model(embedding)\n",
        "\t\t\tloss = criterion(outputs, labels)\n",
        "\n",
        "\t\t\tepoch_loss += loss.item()\n",
        "\t\t\tpreds = torch.argmax(outputs, dim=1).cpu().numpy()\n",
        "\t\t\tall_preds.extend(preds)\n",
        "\t\t\tall_labels.extend(labels.cpu().numpy())\n",
        "\n",
        "\taccuracy = accuracy_score(all_labels, all_preds)\n",
        "\treturn epoch_loss / len(dataloader), accuracy"
      ]
    },
    {
      "cell_type": "code",
      "execution_count": 9,
      "id": "87e980be",
      "metadata": {
        "colab": {
          "base_uri": "https://localhost:8080/",
          "height": 1000
        },
        "id": "87e980be",
        "outputId": "2976daeb-492b-40df-b7ae-a38e87bf300b"
      },
      "outputs": [
        {
          "name": "stdout",
          "output_type": "stream",
          "text": [
            "Training...\n",
            "Epoch 1/20:\n",
            "  Train Accuracy: 0.7448\n",
            "\t Elapsed time: 274.25 seconds\n",
            "  Val Accuracy: 0.8120\n",
            "\t Elapsed time: 27.02 seconds\n",
            "\n",
            "Epoch 2/20:\n",
            "  Train Accuracy: 0.8089\n",
            "\t Elapsed time: 271.17 seconds\n",
            "  Val Accuracy: 0.8284\n",
            "\t Elapsed time: 28.31 seconds\n",
            "\n",
            "Epoch 3/20:\n",
            "  Train Accuracy: 0.8264\n",
            "\t Elapsed time: 273.39 seconds\n",
            "  Val Accuracy: 0.8216\n",
            "\t Elapsed time: 27.61 seconds\n",
            "\n",
            "Epoch 4/20:\n",
            "  Train Accuracy: 0.8311\n",
            "\t Elapsed time: 270.77 seconds\n",
            "  Val Accuracy: 0.8432\n",
            "\t Elapsed time: 26.73 seconds\n",
            "\n",
            "Epoch 5/20:\n",
            "  Train Accuracy: 0.8447\n",
            "\t Elapsed time: 269.39 seconds\n",
            "  Val Accuracy: 0.8584\n",
            "\t Elapsed time: 27.31 seconds\n",
            "\n",
            "Epoch 6/20:\n",
            "  Train Accuracy: 0.8582\n",
            "\t Elapsed time: 269.22 seconds\n",
            "  Val Accuracy: 0.8900\n",
            "\t Elapsed time: 26.67 seconds\n",
            "\n",
            "Epoch 7/20:\n",
            "  Train Accuracy: 0.8645\n",
            "\t Elapsed time: 287.10 seconds\n",
            "  Val Accuracy: 0.8996\n",
            "\t Elapsed time: 26.61 seconds\n",
            "\n",
            "Epoch 8/20:\n",
            "  Train Accuracy: 0.8810\n",
            "\t Elapsed time: 268.43 seconds\n",
            "  Val Accuracy: 0.9100\n",
            "\t Elapsed time: 27.29 seconds\n",
            "\n",
            "Epoch 9/20:\n",
            "  Train Accuracy: 0.8931\n",
            "\t Elapsed time: 267.87 seconds\n",
            "  Val Accuracy: 0.9252\n",
            "\t Elapsed time: 26.47 seconds\n",
            "\n",
            "Epoch 10/20:\n",
            "  Train Accuracy: 0.8980\n",
            "\t Elapsed time: 267.57 seconds\n",
            "  Val Accuracy: 0.9292\n",
            "\t Elapsed time: 26.82 seconds\n",
            "\n",
            "Epoch 11/20:\n",
            "  Train Accuracy: 0.9077\n",
            "\t Elapsed time: 268.69 seconds\n",
            "  Val Accuracy: 0.9368\n",
            "\t Elapsed time: 26.54 seconds\n",
            "\n",
            "Epoch 12/20:\n",
            "  Train Accuracy: 0.9138\n",
            "\t Elapsed time: 271.98 seconds\n",
            "  Val Accuracy: 0.9460\n",
            "\t Elapsed time: 27.23 seconds\n",
            "\n",
            "Epoch 13/20:\n",
            "  Train Accuracy: 0.9201\n",
            "\t Elapsed time: 267.28 seconds\n",
            "  Val Accuracy: 0.9396\n",
            "\t Elapsed time: 26.59 seconds\n",
            "\n",
            "Epoch 14/20:\n",
            "  Train Accuracy: 0.9262\n",
            "\t Elapsed time: 266.95 seconds\n",
            "  Val Accuracy: 0.9432\n",
            "\t Elapsed time: 26.48 seconds\n",
            "\n",
            "Epoch 15/20:\n",
            "  Train Accuracy: 0.9341\n",
            "\t Elapsed time: 267.35 seconds\n",
            "  Val Accuracy: 0.9544\n",
            "\t Elapsed time: 26.76 seconds\n",
            "\n",
            "Epoch 16/20:\n",
            "  Train Accuracy: 0.9382\n",
            "\t Elapsed time: 267.98 seconds\n",
            "  Val Accuracy: 0.9532\n",
            "\t Elapsed time: 26.51 seconds\n",
            "\n",
            "Epoch 17/20:\n",
            "  Train Accuracy: 0.9416\n",
            "\t Elapsed time: 267.56 seconds\n",
            "  Val Accuracy: 0.9680\n",
            "\t Elapsed time: 27.17 seconds\n",
            "\n",
            "Epoch 18/20:\n",
            "  Train Accuracy: 0.9474\n",
            "\t Elapsed time: 275.19 seconds\n",
            "  Val Accuracy: 0.9656\n",
            "\t Elapsed time: 28.09 seconds\n",
            "\n",
            "Epoch 19/20:\n",
            "  Train Accuracy: 0.9507\n",
            "\t Elapsed time: 276.54 seconds\n",
            "  Val Accuracy: 0.9688\n",
            "\t Elapsed time: 27.20 seconds\n",
            "\n",
            "Epoch 20/20:\n",
            "  Train Accuracy: 0.9509\n",
            "\t Elapsed time: 274.85 seconds\n",
            "  Val Accuracy: 0.9724\n",
            "\t Elapsed time: 27.46 seconds\n",
            "\n"
          ]
        },
        {
          "data": {
            "text/plain": [
              "<matplotlib.legend.Legend at 0x793f2160b150>"
            ]
          },
          "execution_count": 9,
          "metadata": {},
          "output_type": "execute_result"
        },
        {
          "data": {
            "image/png": "[encoded data removed]",
            "text/plain": [
              "<Figure size 1200x500 with 2 Axes>"
            ]
          },
          "metadata": {},
          "output_type": "display_data"
        }
      ],
      "source": [
        "import matplotlib.pyplot as plt\n",
        "\n",
        "best_accuracy = 0\n",
        "best_model_state = None\n",
        "\n",
        "train_accuracies = []\n",
        "val_accuracies = []\n",
        "train_losses = []\n",
        "val_losses = []\n",
        "\n",
        "print('Training...')\n",
        "for epoch in range(num_epochs):\n",
        "\tprint(f'Epoch {epoch+1}/{num_epochs}:')\n",
        "\n",
        "\t# Train the model\n",
        "\tstart_timer()\n",
        "\ttrain_loss, train_acc = train_epoch(model, train_loader, optimizer, criterion, device)\n",
        "\tprint(f'    Train Accuracy: {train_acc:.4f}')\n",
        "\ttrain_accuracies.append(train_acc)\n",
        "\ttrain_losses.append(train_loss)\n",
        "\tend_timer()\n",
        "\n",
        "\t# Evaluate the model\n",
        "\tstart_timer()\n",
        "\tval_loss, val_acc = evaluate(model, partial_test_loader, criterion, device)\n",
        "\tprint(f'    Val Accuracy: {val_acc:.4f}')\n",
        "\tval_accuracies.append(val_acc)\n",
        "\tval_losses.append(val_loss)\n",
        "\tend_timer()\n",
        "\tprint()\n",
        "\n",
        "\t# scheduler.step()  # Update learning rate\n",
        "\tif val_acc > best_accuracy:  # Save best model\n",
        "\t\tbest_accuracy = val_acc\n",
        "\t\tbest_model_state = model.state_dict().copy()\n",
        "\n",
        "# Plot accuracy and loss curves\n",
        "plt.figure(figsize=(12,5))\n",
        "plt.subplot(1,2,1)\n",
        "plt.plot(train_accuracies, label='Train Accuracy')\n",
        "plt.plot(val_accuracies, label='Validation Accuracy')\n",
        "plt.xlabel('Epoch')\n",
        "plt.ylabel('Accuracy')\n",
        "plt.title('Accuracy over Epochs')\n",
        "plt.legend()\n",
        "\n",
        "plt.subplot(1,2,2)\n",
        "plt.plot(train_losses, label='Train Loss')\n",
        "plt.plot(val_losses, label='Validation Loss')\n",
        "plt.xlabel('Epoch')\n",
        "plt.ylabel('Loss')\n",
        "plt.title('Loss over Epochs')\n",
        "plt.legend()"
      ]
    },
    {
      "cell_type": "code",
      "execution_count": 10,
      "id": "OjZAHvOq6D1f",
      "metadata": {
        "colab": {
          "base_uri": "https://localhost:8080/"
        },
        "id": "OjZAHvOq6D1f",
        "outputId": "895e0fb5-ad55-48f2-c377-badf502631c0"
      },
      "outputs": [
        {
          "name": "stdout",
          "output_type": "stream",
          "text": [
            "Loaded best model with the best validation accuracy: 0.9724\n",
            "Final evaluation...\n",
            "\t Elapsed time: 269.92 seconds\n",
            "Final Test Results:\n",
            "  Accuracy: 0.7783\n"
          ]
        }
      ],
      "source": [
        "# Load best model and evaluation results\n",
        "if best_model_state:\n",
        "\tmodel.load_state_dict(best_model_state)\n",
        "\tprint(f'Loaded best model with the best validation accuracy: {best_accuracy:.4f}')\n",
        "\n",
        "# Final Evaluation - on the full test set\n",
        "print(f'Final evaluation...')\n",
        "start_timer()\n",
        "final_loss, final_accuracy = evaluate(model, test_loader, criterion, device)\n",
        "end_timer()\n",
        "print(f'Final Test Results:')\n",
        "print(f'  Accuracy: {final_accuracy:.4f}')"
      ]
    },
    {
      "cell_type": "markdown",
      "id": "713bf967",
      "metadata": {
        "id": "713bf967"
      },
      "source": [
        "### Predict on custom text"
      ]
    },
    {
      "cell_type": "code",
      "execution_count": 11,
      "id": "a3bbd589",
      "metadata": {
        "colab": {
          "base_uri": "https://localhost:8080/"
        },
        "id": "a3bbd589",
        "outputId": "f133e494-d7da-4595-f343-60608c08c53d"
      },
      "outputs": [
        {
          "name": "stdout",
          "output_type": "stream",
          "text": [
            "Testing with example reviews: \n",
            "\n",
            "Review: This movie was fantastic! I loved it.\n",
            "Predicted sentiment: Positive\n",
            "\n",
            "Review: The acting was terrible and the plot made no sense.\n",
            "Predicted sentiment: Negative\n",
            "\n",
            "Review: A masterpiece of cinema that will be remembered for decades.\n",
            "Predicted sentiment: Positive\n",
            "\n",
            "Review: I wasted two hours of my life watching this garbage.\n",
            "Predicted sentiment: Negative\n",
            "\n"
          ]
        }
      ],
      "source": [
        "# Test with some example reviews\n",
        "test_reviews = [\n",
        "\t'This movie was fantastic! I loved it.',  # Positive\n",
        "\t'The acting was terrible and the plot made no sense.',  # Negative\n",
        "\t'A masterpiece of cinema that will be remembered for decades.',  # Positive\n",
        "\t'I wasted two hours of my life watching this garbage.',  # Negative\n",
        "]\n",
        "\n",
        "print('Testing with example reviews: \\n')\n",
        "model.eval()\n",
        "for review in test_reviews:\n",
        "\tprint(f'Review: {review}')\n",
        "\tembedding = get_embedding(review)\n",
        "\n",
        "\t# Add a batch dimension to the embedding\n",
        "\tembedding = embedding.unsqueeze(0)\n",
        "\n",
        "\t# Make prediction\n",
        "\twith torch.no_grad():\n",
        "\t\toutputs = model(embedding)\n",
        "\t\tprediction = torch.argmax(outputs, dim=1).item()\n",
        "\n",
        "\tsentiment = 'Positive' if prediction == 1 else 'Negative'\n",
        "\tprint(f'Predicted sentiment: {sentiment}\\n')\n",
        "\n",
        "# torch.save(model.state_dict(), 'sentiment_classifier.pt')  # Save the model\n",
        "# # To load the model\n",
        "# model = nn.Sequential( .... )\n",
        "# model.load_state_dict(torch.load('sentiment_classifier.pt'))"
      ]
    }
  ],
  "metadata": {
    "accelerator": "GPU",
    "colab": {
      "gpuType": "T4",
      "provenance": []
    },
    "kernelspec": {
      "display_name": "local",
      "language": "python",
      "name": "python3"
    },
    "language_info": {
      "codemirror_mode": {
        "name": "ipython",
        "version": 3
      },
      "file_extension": ".py",
      "mimetype": "text/x-python",
      "name": "python",
      "nbconvert_exporter": "python",
      "pygments_lexer": "ipython3",
      "version": "3.10.12"
    }
  },
  "nbformat": 4,
  "nbformat_minor": 5
}
