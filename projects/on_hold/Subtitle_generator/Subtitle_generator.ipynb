{
 "cells": [
  {
   "cell_type": "markdown",
   "metadata": {},
   "source": [
    "### Project: Subtitle generator\n",
    "Uses YouTube Link or download link as input"
   ]
  },
  {
   "cell_type": "markdown",
   "metadata": {},
   "source": [
    "#### Installing packages"
   ]
  },
  {
   "cell_type": "code",
   "execution_count": 1,
   "metadata": {},
   "outputs": [],
   "source": [
    "# %pip install wget yt-dlp pydub SpeechRecognition googletrans > /dev/null"
   ]
  },
  {
   "cell_type": "code",
   "execution_count": 2,
   "metadata": {},
   "outputs": [],
   "source": [
    "# !sudo apt update && sudo apt install -y ffmpeg"
   ]
  },
  {
   "cell_type": "markdown",
   "metadata": {},
   "source": [
    "#### Importing packages"
   ]
  },
  {
   "cell_type": "code",
   "execution_count": 3,
   "metadata": {},
   "outputs": [],
   "source": [
    "import os\n",
    "import subprocess\n",
    "\n",
    "import wget\n",
    "from yt_dlp import YoutubeDL"
   ]
  },
  {
   "cell_type": "markdown",
   "metadata": {},
   "source": [
    "#### Defining constants"
   ]
  },
  {
   "cell_type": "code",
   "execution_count": 4,
   "metadata": {},
   "outputs": [],
   "source": [
    "media_dir = 'media'\n",
    "chunks_dir = f'{media_dir}/chunks'\n",
    "\n",
    "# create directories if they dont exist\n",
    "os.makedirs(media_dir, exist_ok=True)\n",
    "os.makedirs(chunks_dir, exist_ok=True)"
   ]
  },
  {
   "cell_type": "markdown",
   "metadata": {},
   "source": [
    "#### Downloading video"
   ]
  },
  {
   "cell_type": "code",
   "execution_count": 5,
   "metadata": {},
   "outputs": [
    {
     "name": "stdout",
     "output_type": "stream",
     "text": [
      "[youtube] Extracting URL: https://www.youtube.com/watch?v=7kpGQ_hbU30\n",
      "[youtube] 7kpGQ_hbU30: Downloading webpage\n",
      "[youtube] 7kpGQ_hbU30: Downloading ios player API JSON\n",
      "[youtube] 7kpGQ_hbU30: Downloading android player API JSON\n"
     ]
    },
    {
     "name": "stderr",
     "output_type": "stream",
     "text": [
      "WARNING: [youtube] YouTube said: ERROR - Precondition check failed.\n",
      "WARNING: [youtube] HTTP Error 400: Bad Request. Retrying (1/3)...\n"
     ]
    },
    {
     "name": "stdout",
     "output_type": "stream",
     "text": [
      "[youtube] 7kpGQ_hbU30: Downloading android player API JSON\n"
     ]
    },
    {
     "name": "stderr",
     "output_type": "stream",
     "text": [
      "WARNING: [youtube] YouTube said: ERROR - Precondition check failed.\n",
      "WARNING: [youtube] HTTP Error 400: Bad Request. Retrying (2/3)...\n"
     ]
    },
    {
     "name": "stdout",
     "output_type": "stream",
     "text": [
      "[youtube] 7kpGQ_hbU30: Downloading android player API JSON\n"
     ]
    },
    {
     "name": "stderr",
     "output_type": "stream",
     "text": [
      "WARNING: [youtube] YouTube said: ERROR - Precondition check failed.\n",
      "WARNING: [youtube] HTTP Error 400: Bad Request. Retrying (3/3)...\n"
     ]
    },
    {
     "name": "stdout",
     "output_type": "stream",
     "text": [
      "[youtube] 7kpGQ_hbU30: Downloading android player API JSON\n"
     ]
    },
    {
     "name": "stderr",
     "output_type": "stream",
     "text": [
      "WARNING: [youtube] YouTube said: ERROR - Precondition check failed.\n",
      "WARNING: [youtube] Unable to download API page: HTTP Error 400: Bad Request (caused by <HTTPError 400: Bad Request>); please report this issue on  https://github.com/yt-dlp/yt-dlp/issues?q= , filling out the appropriate issue template. Confirm you are on the latest version using  yt-dlp -U\n"
     ]
    },
    {
     "name": "stdout",
     "output_type": "stream",
     "text": [
      "[youtube] 7kpGQ_hbU30: Downloading player 9383995e\n",
      "[youtube] 7kpGQ_hbU30: Downloading m3u8 information\n",
      "[info] 7kpGQ_hbU30: Downloading 1 format(s): 18\n",
      "[download] Destination: media/7kpGQ_hbU30.mp4\n",
      "[download] 100% of    2.20MiB in 00:00:03 at 642.19KiB/s \n"
     ]
    }
   ],
   "source": [
    "filename = f'{media_dir}/Telugu_trailer.mp4'\n",
    "video_url = 'https://www.youtube.com/watch?v=7kpGQ_hbU30'\n",
    "available_video_formats = ['mp4', 'mkv', 'webm', 'flv', 'avi', 'mov', 'wmv', 'mpg', 'mpeg', '3gp']\n",
    "\n",
    "# convert youtu.be format to youtube.com format\n",
    "if 'youtu.be' in video_url:\n",
    "\tvideo_id = video_url.split('/')[-1]\n",
    "\tvideo_url = f'https://www.youtube.com/watch?v={video_id}'\n",
    "\n",
    "try:\n",
    "\t# get file name from url\n",
    "\turl_filename = video_url.split('/')[-1]\n",
    "\t# remove query string\n",
    "\turl_filename = url_filename.split('?')[0]\n",
    "\turl_file_format = url_filename.split('.')[-1]\n",
    "except:\n",
    "\tpass\n",
    "\n",
    "if 'youtube.com' in video_url and url_filename == 'watch':\n",
    "\t# create filename from video id\n",
    "\t# get v= value from query string. ignore other values after that\n",
    "\tvideo_id = video_url.split('v=')[-1].split('&')[0]\n",
    "\tfilename = f'{media_dir}/{video_id}.mp4'\n",
    "elif url_file_format in available_video_formats:\n",
    "\tfilename = f'{media_dir}/{url_filename}'\n",
    "else:\n",
    "\traise ValueError(f'Unsupported video format: {url_file_format}')\n",
    "\n",
    "\n",
    "if not os.path.exists(filename):\n",
    "\tif url_filename == 'watch':\n",
    "\t\t# 18/best to try for 480p if available, else best available format\n",
    "\t\t# os.system(f\"yt-dlp -f '18/best' --output '{filename}' '{video_url}'\")\n",
    "\t\tydl_opts = {\n",
    "\t\t\t'format': '18/best',\n",
    "\t\t\t'outtmpl': filename,\n",
    "\t\t}\n",
    "\t\twith YoutubeDL(ydl_opts) as ydl:\n",
    "\t\t\tydl.download([video_url])\n",
    "\telif url_file_format in available_video_formats:\n",
    "\t\tfilename = f'{media_dir}/{url_filename}'\n",
    "\t\twget.download(video_url, filename)"
   ]
  },
  {
   "cell_type": "markdown",
   "metadata": {},
   "source": [
    "#### Extracting audio"
   ]
  },
  {
   "cell_type": "code",
   "execution_count": 6,
   "metadata": {},
   "outputs": [],
   "source": [
    "# extract audio\n",
    "file_format = filename.split('.')[-1]\n",
    "audio_filename = filename.replace(file_format, 'mp3')\n",
    "if os.path.exists(audio_filename):\n",
    "\tos.remove(audio_filename)\n",
    "try:\n",
    "    subprocess.check_output(f\"ffmpeg -i '{filename}' -vn -acodec libmp3lame '{audio_filename}' > /dev/null 2>&1\", shell=True)\n",
    "except subprocess.CalledProcessError as e:\n",
    "    print(f\"Command '{e.cmd}' returned non-zero exit status {e.returncode}\")"
   ]
  },
  {
   "cell_type": "markdown",
   "metadata": {},
   "source": [
    "#### Splitting audio into chunks by silence"
   ]
  },
  {
   "cell_type": "code",
   "execution_count": 7,
   "metadata": {},
   "outputs": [
    {
     "ename": "ModuleNotFoundError",
     "evalue": "No module named 'pydub'",
     "output_type": "error",
     "traceback": [
      "\u001b[0;31m---------------------------------------------------------------------------\u001b[0m",
      "\u001b[0;31mModuleNotFoundError\u001b[0m                       Traceback (most recent call last)",
      "Cell \u001b[0;32mIn [7], line 2\u001b[0m\n\u001b[1;32m      1\u001b[0m \u001b[38;5;66;03m# split by silence or change in voice\u001b[39;00m\n\u001b[0;32m----> 2\u001b[0m \u001b[38;5;28;01mfrom\u001b[39;00m \u001b[38;5;21;01mpydub\u001b[39;00m \u001b[38;5;28;01mimport\u001b[39;00m AudioSegment\n\u001b[1;32m      3\u001b[0m \u001b[38;5;28;01mfrom\u001b[39;00m \u001b[38;5;21;01mpydub\u001b[39;00m\u001b[38;5;21;01m.\u001b[39;00m\u001b[38;5;21;01msilence\u001b[39;00m \u001b[38;5;28;01mimport\u001b[39;00m split_on_silence\n\u001b[1;32m      5\u001b[0m \u001b[38;5;66;03m# delete all files in chunks_dir\u001b[39;00m\n",
      "\u001b[0;31mModuleNotFoundError\u001b[0m: No module named 'pydub'"
     ]
    }
   ],
   "source": [
    "# split by silence or change in voice\n",
    "from pydub import AudioSegment\n",
    "from pydub.silence import split_on_silence\n",
    "\n",
    "# delete all files in chunks_dir\n",
    "for file in os.listdir(chunks_dir):\n",
    "\tos.remove(f\"{chunks_dir}/{file}\")\n",
    "\n",
    "audio = AudioSegment.from_file(audio_filename)\n",
    "\n",
    "chunks = split_on_silence(\n",
    "    audio,\n",
    "    min_silence_len=200,\n",
    "    silence_thresh=-30,  # silence threshold in dB\n",
    ")\n",
    "\n",
    "# save chunks to files and note down timestamps\n",
    "timestamps = []\n",
    "current_time = 0  # start time of the first chunk\n",
    "\n",
    "audio_file_format = audio_filename.split('.')[-1]\n",
    "\n",
    "for i, chunk in enumerate(chunks):\n",
    "    chunk_filename = f\"{chunks_dir}/chunk{i}.{audio_file_format}\"\n",
    "    print(f\"exporting chunk {i} to {chunk_filename}\")\n",
    "    chunk.export(chunk_filename, format=audio_file_format)\n",
    "\n",
    "    # note down timestamp\n",
    "    chunk_length_ms = len(chunk)  # length of chunk in milliseconds\n",
    "    timestamps.append((current_time, current_time + chunk_length_ms))\n",
    "    current_time += chunk_length_ms  # update current_time for next chunk\n",
    "\n",
    "# print timestamps\n",
    "for i, (start_time, end_time) in enumerate(timestamps):\n",
    "    print(f\"Chunk {i}: Start Time = {start_time} ms, End Time = {end_time} ms\")"
   ]
  },
  {
   "cell_type": "markdown",
   "metadata": {},
   "source": [
    "##### Attempt to split by change in voice"
   ]
  },
  {
   "cell_type": "code",
   "execution_count": null,
   "metadata": {},
   "outputs": [],
   "source": [
    "# %pip install pyAudioAnalysis hmmlearn eyed3 imblearn tqdm"
   ]
  },
  {
   "cell_type": "code",
   "execution_count": null,
   "metadata": {},
   "outputs": [],
   "source": [
    "# import warnings\n",
    "# from pyAudioAnalysis import audioSegmentation as aS\n",
    "# from pydub import AudioSegment\n",
    "\n",
    "# warnings.filterwarnings(\"ignore\")\n",
    "\n",
    "# audio_file_format = audio_filename.split('.')[-1]\n",
    "# audio = AudioSegment.from_file(audio_filename, format=audio_file_format)\n",
    "\n",
    "# print(f\"Loaded audio file {audio_filename} with format {audio_file_format}\")\n",
    "\n",
    "# best_acc = 0\n",
    "# best_chunks = None\n",
    "# best_n_speakers = None\n",
    "\n",
    "# # try different numbers of speakers\n",
    "# for n_speakers in range(2, 5):  # start the range from 2 instead of 1\n",
    "# \tprint(f\"Trying with {n_speakers} speakers\")\n",
    "# \ttry:\n",
    "# \t\t# perform speaker diarization\n",
    "# \t\tflags, class_names, acc, CM = aS.speaker_diarization(audio_filename, n_speakers, mid_window=2.0, mid_step=0.2, short_window=0.05, lda_dim=min(35, n_speakers-1, 10))  # reduce lda_dim to a smaller value\n",
    "# \texcept ValueError as e:\n",
    "# \t\tprint(f\"ValueError encountered with {n_speakers} speakers: {e}\")\n",
    "# \t\tcontinue\n",
    "\n",
    "# \tprint(f\"Accuracy with {n_speakers} speakers: {acc}\")\n",
    "\n",
    "# \t# if this number of speakers gives a better accuracy, save the chunks\n",
    "# \tif acc > best_acc:\n",
    "# \t\tprint(f\"Better accuracy found with {n_speakers} speakers\")\n",
    "# \t\tbest_acc = acc\n",
    "# \t\tbest_n_speakers = n_speakers\n",
    "\n",
    "# \t\t# flags contains the speaker for each frame, split the audio based on change in speaker\n",
    "# \t\tchunks = []\n",
    "# \t\tstart = 0\n",
    "# \t\tcurrent_speaker = flags[0]\n",
    "# \t\tfor i, speaker in enumerate(flags):\n",
    "# \t\t\tif speaker != current_speaker:\n",
    "# \t\t\t\t# save the chunk of the previous speaker\n",
    "# \t\t\t\tchunk = audio[start:i]\n",
    "# \t\t\t\tchunks.append(chunk)\n",
    "# \t\t\t\t# start a new chunk for the new speaker\n",
    "# \t\t\t\tstart = i\n",
    "# \t\t\t\tcurrent_speaker = speaker\n",
    "# \t\t# save the last chunk\n",
    "# \t\tchunks.append(audio[start:])\n",
    "\n",
    "# \t\tbest_chunks = chunks\n",
    "\n",
    "# # delete all files in chunks_dir\n",
    "# for file in os.listdir(chunks_dir):\n",
    "# \tprint(f\"Deleting file {file} in {chunks_dir}\")\n",
    "# \tos.remove(f\"{chunks_dir}/{file}\")\n",
    "\n",
    "# # save chunks to files\n",
    "# if best_chunks is not None:\n",
    "# \tfor i, chunk in enumerate(best_chunks):\n",
    "# \t\tchunk_filename = f\"{chunks_dir}/chunk{i}.{audio_file_format}\"\n",
    "# \t\tprint(f\"Saving chunk {i} to {chunk_filename}\")\n",
    "# \t\tchunk.export(chunk_filename, format=audio_file_format)\n",
    "# else:\n",
    "# \tprint(\"No chunks to save\")"
   ]
  },
  {
   "cell_type": "markdown",
   "metadata": {},
   "source": [
    "### Generating subtitles"
   ]
  },
  {
   "cell_type": "code",
   "execution_count": null,
   "metadata": {},
   "outputs": [
    {
     "name": "stdout",
     "output_type": "stream",
     "text": [
      "Could not understand audio from chunk 0\n",
      "chunk 1 --> మీరు ఈరోజు ఇల్లు ఖాళీ చేయాలి ప్రాణంగా చూసుకుంటూ నెయ్యి ఇంటిని ఎవరు తీసుకుంటారు ఈ గౌతమ్ పాట\n",
      "chunk 2 --> 13 కోట్ 25 రోడ్డు\n",
      "Could not understand audio from chunk 3\n",
      "Could not understand audio from chunk 4\n"
     ]
    }
   ],
   "source": [
    "import speech_recognition as sr\n",
    "from pydub import AudioSegment\n",
    "from pycaption import CaptionSet, SRTWriter, Caption, CaptionNode\n",
    "from datetime import timedelta\n",
    "import os\n",
    "\n",
    "# Initialize the recognizer\n",
    "r = sr.Recognizer()\n",
    "\n",
    "# Initialize the CaptionSet with an empty dictionary\n",
    "caption_set = CaptionSet({})\n",
    "\n",
    "lang_code = 'te-IN'\n",
    "caption_set.set_captions(lang_code, [])\n",
    "\n",
    "# Iterate over the chunks\n",
    "for i, (start_time, end_time) in enumerate(timestamps):\n",
    "\t# Load the chunk\n",
    "\taudio_file_path = f\"{chunks_dir}/chunk{i}.{audio_file_format}\"\n",
    "\twav_audio_file_path = f\"{chunks_dir}/chunk{i}.wav\"\n",
    "\n",
    "\t# Convert audio file to wav\n",
    "\tAudioSegment.from_file(audio_file_path, format=audio_file_format).export(wav_audio_file_path, format=\"wav\")\n",
    "\n",
    "\t# Transcribe the audio chunk\n",
    "\twith sr.AudioFile(wav_audio_file_path) as source:\n",
    "\t\taudio = r.record(source)\n",
    "\ttry:\n",
    "\t\ttext = r.recognize_google(audio, language=lang_code)\n",
    "\t\tprint(f\"chunk {i} --> {text}\")\n",
    "\texcept sr.UnknownValueError:\n",
    "\t\tprint(f\"Could not understand audio from chunk {i}\")\n",
    "\t\ttext = \"\"\n",
    "\n",
    "\t# Convert start_time and end_time to microseconds\n",
    "\tstart_time_microseconds = start_time * 1000\n",
    "\tend_time_microseconds = end_time * 1000\n",
    "\n",
    "\t# Add the transcription to the CaptionSet only if text is not empty\n",
    "\tif text:\n",
    "\t\tcaption_set.get_captions(lang_code).append(\n",
    "\t\t\tCaption(\n",
    "\t\t\t\tstart=start_time_microseconds,\n",
    "\t\t\t\tend=end_time_microseconds,\n",
    "\t\t\t\tnodes=[CaptionNode.create_text(text)],\n",
    "\t\t\t)\n",
    "\t\t)\n",
    "\n",
    "\t# Delete the wav file after processing\n",
    "\tos.remove(wav_audio_file_path)\n",
    "\n",
    "# Write the CaptionSet to an SRT file\n",
    "with open(\"media/subtitles.srt\", \"w\") as subtitle_file:\n",
    "\tsubtitle_file.write(SRTWriter().write(caption_set))"
   ]
  },
  {
   "cell_type": "markdown",
   "metadata": {},
   "source": [
    "### Translation to English"
   ]
  },
  {
   "cell_type": "code",
   "execution_count": null,
   "metadata": {},
   "outputs": [
    {
     "ename": "ModuleNotFoundError",
     "evalue": "No module named 'googletrans'",
     "output_type": "error",
     "traceback": [
      "\u001b[0;31m---------------------------------------------------------------------------\u001b[0m",
      "\u001b[0;31mModuleNotFoundError\u001b[0m                       Traceback (most recent call last)",
      "Cell \u001b[0;32mIn[2], line 2\u001b[0m\n\u001b[1;32m      1\u001b[0m \u001b[38;5;66;03m# write code to translate above subtitles to english\u001b[39;00m\n\u001b[0;32m----> 2\u001b[0m \u001b[38;5;28;01mfrom\u001b[39;00m \u001b[38;5;21;01mgoogletrans\u001b[39;00m \u001b[38;5;28;01mimport\u001b[39;00m Translator\n\u001b[1;32m      4\u001b[0m translator \u001b[38;5;241m=\u001b[39m Translator()\n\u001b[1;32m      5\u001b[0m lang_code \u001b[38;5;241m=\u001b[39m \u001b[38;5;124m'\u001b[39m\u001b[38;5;124mte-IN\u001b[39m\u001b[38;5;124m'\u001b[39m  \u001b[38;5;66;03m# already defined above\u001b[39;00m\n",
      "\u001b[0;31mModuleNotFoundError\u001b[0m: No module named 'googletrans'"
     ]
    }
   ],
   "source": [
    "# write code to translate above subtitles to english\n",
    "from googletrans import Translator\n",
    "\n",
    "translator = Translator()\n",
    "lang_code = 'te-IN'  # already defined above\n",
    "translated_lang_code = 'en'\n",
    "\n",
    "# Read the SRT file\n",
    "with open(\"media/subtitles.srt\", \"r\") as subtitle_file:\n",
    "\tlines = subtitle_file.readlines()\n",
    "\n",
    "# Initialize the translated caption set\n",
    "translated_caption_set = CaptionSet({})\n",
    "translated_caption_set.set_captions(translated_lang_code, [])\n",
    "\n",
    "# Iterate over the lines of the SRT file\n",
    "for line in lines:\n",
    "\t# Check if the line is a timestamp line\n",
    "\tif '-->' in line:\n",
    "\t\ttimestamps = line.strip().split(' --> ')\n",
    "\t\tstart_time = timedelta(milliseconds=int(timestamps[0].replace(',', '.')))\n",
    "\t\tend_time = timedelta(milliseconds=int(timestamps[1].replace(',', '.')))\n",
    "\n",
    "\t\t# Add the timestamp line to the translated caption set\n",
    "\t\ttranslated_caption_set.get_captions(translated_lang_code).append(\n",
    "\t\t\tCaption(\n",
    "\t\t\t\tstart=start_time,\n",
    "\t\t\t\tend=end_time,\n",
    "\t\t\t\tnodes=[CaptionNode.create_text(line)],\n",
    "\t\t\t)\n",
    "   \t\t)\n",
    "\telse:\n",
    "\t\t# Translate the text line\n",
    "\t\ttranslated_text = translator.translate(line, src=lang_code, dest=translated_lang_code).text\n",
    "\n",
    "\t\t# Add the translated text line to the translated caption set\n",
    "\t\ttranslated_caption_set.get_captions(translated_lang_code)[-1].nodes.append(CaptionNode.create_text(translated_text))\n",
    "  \n",
    "# Write the translated CaptionSet to an SRT file\n",
    "with open(\"media/translated_subtitles.srt\", \"w\") as translated_subtitle_file:\n",
    "\ttranslated_subtitle_file.write(SRTWriter().write(translated_caption_set))"
   ]
  }
 ],
 "metadata": {
  "kernelspec": {
   "display_name": "Python 3",
   "language": "python",
   "name": "python3"
  },
  "language_info": {
   "codemirror_mode": {
    "name": "ipython",
    "version": 3
   },
   "file_extension": ".py",
   "mimetype": "text/x-python",
   "name": "python",
   "nbconvert_exporter": "python",
   "pygments_lexer": "ipython3",
   "version": "3.10.12"
  }
 },
 "nbformat": 4,
 "nbformat_minor": 2
}
