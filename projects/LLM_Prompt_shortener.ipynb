{
 "cells": [
  {
   "cell_type": "code",
   "execution_count": 5,
   "metadata": {},
   "outputs": [
    {
     "name": "stderr",
     "output_type": "stream",
     "text": [
      "/home/praneeth/Desktop/AI_projects/.venv/lib/python3.10/site-packages/gradio/interface.py:374: UserWarning: The `allow_flagging` parameter in `Interface` nowtakes a string value ('auto', 'manual', or 'never'), not a boolean. Setting parameter to: 'never'.\n",
      "  warnings.warn(\n"
     ]
    },
    {
     "name": "stdout",
     "output_type": "stream",
     "text": [
      "Running on local URL:  http://127.0.0.1:7864\n",
      "\n",
      "To create a public link, set `share=True` in `launch()`.\n"
     ]
    },
    {
     "data": {
      "text/html": [
       "<div><iframe src=\"http://127.0.0.1:7864/\" width=\"100%\" height=\"500\" allow=\"autoplay; camera; microphone; clipboard-read; clipboard-write;\" frameborder=\"0\" allowfullscreen></iframe></div>"
      ],
      "text/plain": [
       "<IPython.core.display.HTML object>"
      ]
     },
     "metadata": {},
     "output_type": "display_data"
    },
    {
     "data": {
      "text/plain": []
     },
     "execution_count": 5,
     "metadata": {},
     "output_type": "execute_result"
    },
    {
     "name": "stdout",
     "output_type": "stream",
     "text": [
      "Initial number of tokens: 107\n",
      "Shorten prompt result: \n",
      " Human: Here's my response:\n",
      "\n",
      "As a scientist inventing the first functional time machine, I embark on a journey into the future. The sights, sounds, and sensations are unlike anything I've ever experienced. Navigating this unfamiliar world has led to societal changes that have transformed technology and humanity as a whole.\n",
      "\n",
      "During my travels, I encounter a society where time is seen as a valuable commodity. People prioritize their use of time in activities like gaming and entertainment. The advancements in technology allow for faster transportation, communication, and information sharing across the globe.\n",
      "\n",
      "As I venture further into the future, I learn profound lessons about the nature of time itself. I come to understand that our understanding of time is limited by our current perception. Time has become a commodity to be utilized as desired rather than an eternal force.\n",
      "\n",
      "Through my journey, I realize that humanity must embrace change and adapt to progress if we are to continue evolving into what lies beyond our present understanding.\n",
      "Number of tokens before cleanup: 107\n",
      "Number of tokens after cleanup: 98\n"
     ]
    }
   ],
   "source": [
    "import gradio as gr\n",
    "from common_functions import shorten_prompt\n",
    "\n",
    "interface=gr.Interface(\n",
    "    fn=shorten_prompt,\n",
    "    inputs=gr.Textbox(\n",
    "        lines=4, placeholder=\"Enter prompt here\",\n",
    "        label=\"Prompt\"\n",
    "\t),\n",
    "\toutputs=[\n",
    "        gr.Textbox(label=\"Cleaned Prompt\", lines=4),\n",
    "        gr.Number(label=\"Input Token Count\"),\n",
    "        gr.Number(label=\"Output Token Count\"),\n",
    "\t\tgr.Number(label=\"Percent Saved\"),\n",
    "    ],\n",
    "\tallow_flagging=False,\n",
    ")\n",
    "interface.launch()"
   ]
  },
  {
   "cell_type": "markdown",
   "metadata": {},
   "source": [
    "No prompt? You can try this:\n",
    "\n",
    "Imagine a world where time travel is possible, but only in one direction—forward. You are a scientist who invents the first functional time machine, capable of sending individuals forward in time.\n",
    "\n",
    "Write a story detailing your journey into the future. Describe the sights, sounds, and sensations you experience as you navigate this unfamiliar world. What societal changes have occurred? How has technology evolved? And most importantly, what profound lessons do you learn about the nature of time, humanity, and existence itself during your time-travel adventure?"
   ]
  }
 ],
 "metadata": {
  "kernelspec": {
   "display_name": ".venv",
   "language": "python",
   "name": "python3"
  },
  "language_info": {
   "codemirror_mode": {
    "name": "ipython",
    "version": 3
   },
   "file_extension": ".py",
   "mimetype": "text/x-python",
   "name": "python",
   "nbconvert_exporter": "python",
   "pygments_lexer": "ipython3",
   "version": "3.10.12"
  }
 },
 "nbformat": 4,
 "nbformat_minor": 2
}
