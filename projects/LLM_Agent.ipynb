{
 "cells": [
  {
   "cell_type": "code",
   "execution_count": 1,
   "metadata": {},
   "outputs": [
    {
     "data": {
      "text/plain": [
       "'Ollama'"
      ]
     },
     "execution_count": 1,
     "metadata": {},
     "output_type": "execute_result"
    }
   ],
   "source": [
    "import os\n",
    "import json\n",
    "\n",
    "from dotenv import load_dotenv\n",
    "from langchain.agents import load_tools, initialize_agent, AgentType\n",
    "from langchain_community.llms import Ollama\n",
    "\n",
    "from common_functions import ensure_llama_running\n",
    "\n",
    "\n",
    "ensure_llama_running()\n",
    "load_dotenv()\n",
    "\n",
    "llm_model = os.getenv('LLM_MODEL')\n",
    "llm = Ollama(model=llm_model)\n",
    "llm.get_name()"
   ]
  },
  {
   "cell_type": "code",
   "execution_count": 3,
   "metadata": {},
   "outputs": [
    {
     "name": "stderr",
     "output_type": "stream",
     "text": [
      "/home/praneeth/Desktop/AI_projects/.venv/lib/python3.10/site-packages/langchain_core/_api/deprecation.py:119: LangChainDeprecationWarning: The function `initialize_agent` was deprecated in LangChain 0.1.0 and will be removed in 0.2.0. Use Use new agent constructor methods like create_react_agent, create_json_agent, create_structured_chat_agent, etc. instead.\n",
      "  warn_deprecated(\n"
     ]
    }
   ],
   "source": [
    "tools = load_tools([\n",
    "    'requests_all', 'llm-math', 'openweathermap-api', 'google-serper'\n",
    "], llm=llm)  # 'wikipedia', 'google-search'\n",
    "\n",
    "# from langchain import hub\n",
    "# print('Pulling prompt...', end=' ', flush=True)\n",
    "# prompt = hub.pull('hwchase17/structured-chat-agent')\n",
    "# print('done')\n",
    "# agent = create_structured_chat_agent(tools, llm, prompt=prompt)\n",
    "# agent_executor = AgentExecutor(\n",
    "#     agent=agent, tools=tools, verbose=True, handle_parsing_errors=True\n",
    "# )\n",
    "\n",
    "agent = initialize_agent(\n",
    "\ttools,\n",
    "\tllm,\n",
    "\tagent=AgentType.STRUCTURED_CHAT_ZERO_SHOT_REACT_DESCRIPTION,  # uses Chain-of-Thought\n",
    "\tverbose=True,\n",
    "\thandle_parsing_errors=True,\n",
    ")\n",
    "\n",
    "def ask_query(query):\n",
    "\tresponse = agent.invoke({'input': query})\n",
    "\tif isinstance(response, dict):\n",
    "\t\tresponse = response.get('output')\n",
    "\tresponse = response.strip()\n",
    "\tif '{' in response[:15]:\n",
    "\t\t# get text from first { to last }\n",
    "\t\tresponse = response[response.index('{'):response.rindex('}')+1]\n",
    "\tif response[0] == '{':\n",
    "\t\tresponse_json = json.loads(response)\n",
    "\t\tanswer = response_json.get('action_input')\n",
    "\t\treturn answer\n",
    "\treturn response"
   ]
  },
  {
   "cell_type": "code",
   "execution_count": null,
   "metadata": {},
   "outputs": [],
   "source": [
    "ask_query('Remember I have put my keys on the table')"
   ]
  },
  {
   "cell_type": "code",
   "execution_count": null,
   "metadata": {},
   "outputs": [],
   "source": [
    "ask_query('Where are my keys?')"
   ]
  },
  {
   "cell_type": "code",
   "execution_count": null,
   "metadata": {},
   "outputs": [],
   "source": [
    "ask_query('Forget where I put my keys')"
   ]
  },
  {
   "cell_type": "code",
   "execution_count": null,
   "metadata": {},
   "outputs": [],
   "source": [
    "ask_query('Where are my keys?')"
   ]
  },
  {
   "cell_type": "code",
   "execution_count": 17,
   "metadata": {},
   "outputs": [
    {
     "name": "stdout",
     "output_type": "stream",
     "text": [
      "\n",
      "\n",
      "\u001b[1m> Entering new AgentExecutor chain...\u001b[0m\n",
      "\u001b[32;1m\u001b[1;3mAction:\n",
      "```\n",
      "{\n",
      "   \"action\": \"Final Answer\",\n",
      "   \"action_input\": \"Emmanuel Macron\"\n",
      "}\n",
      "```\n",
      "\u001b[0m\n",
      "\n",
      "\u001b[1m> Finished chain.\u001b[0m\n"
     ]
    },
    {
     "data": {
      "text/plain": [
       "'Emmanuel Macron'"
      ]
     },
     "execution_count": 17,
     "metadata": {},
     "output_type": "execute_result"
    }
   ],
   "source": [
    "ask_query('Who is the current president of France?')"
   ]
  },
  {
   "cell_type": "code",
   "execution_count": 10,
   "metadata": {},
   "outputs": [
    {
     "name": "stdout",
     "output_type": "stream",
     "text": [
      "\n",
      "\n",
      "\u001b[1m> Entering new AgentExecutor chain...\u001b[0m\n",
      "\u001b[32;1m\u001b[1;3mAction:\n",
      "```\n",
      "{\n",
      "  \"action\": \"open_weather_map\",\n",
      "  \"action_input\": \"Paris,FR\"\n",
      "}\n",
      "```\n",
      "\u001b[0m\n",
      "Observation: \u001b[33;1m\u001b[1;3mIn Paris,FR, the current weather is as follows:\n",
      "Detailed status: clear sky\n",
      "Wind speed: 2.57 m/s, direction: 60°\n",
      "Humidity: 82%\n",
      "Temperature: \n",
      "  - Current: 15.33°C\n",
      "  - High: 16.88°C\n",
      "  - Low: 14.06°C\n",
      "  - Feels like: 15.06°C\n",
      "Rain: {}\n",
      "Heat index: None\n",
      "Cloud cover: 0%\u001b[0m\n",
      "Thought:\u001b[32;1m\u001b[1;3mAction:\n",
      "```{\n",
      "    \"action\": \"Final Answer\",\n",
      "    \"action_input\": \"The current weather in Paris, FR is a clear sky with wind speed of 2.57 m/s from the direction of 60°, humidity of 82%, and temperature ranging from 14.06°C to 16.88°C.\"\n",
      "}```\n",
      "\u001b[0m\n",
      "\n",
      "\u001b[1m> Finished chain.\u001b[0m\n"
     ]
    },
    {
     "data": {
      "text/plain": [
       "'The current weather in Paris, FR is a clear sky with wind speed of 2.57 m/s from the direction of 60°, humidity of 82%, and temperature ranging from 14.06°C to 16.88°C.'"
      ]
     },
     "execution_count": 10,
     "metadata": {},
     "output_type": "execute_result"
    }
   ],
   "source": [
    "ask_query('What is weather of the capital of France?')"
   ]
  },
  {
   "cell_type": "code",
   "execution_count": 5,
   "metadata": {},
   "outputs": [
    {
     "name": "stdout",
     "output_type": "stream",
     "text": [
      "\n",
      "\n",
      "\u001b[1m> Entering new AgentExecutor chain...\u001b[0m\n",
      "\u001b[32;1m\u001b[1;3mAction:\n",
      "{\n",
      "   \"action\": \"google_search\",\n",
      "   \"action_input\": \"latest news\"\n",
      "}\n",
      "\n",
      "\u001b[0m\n",
      "\n",
      "\u001b[1m> Finished chain.\u001b[0m\n"
     ]
    },
    {
     "data": {
      "text/plain": [
       "'Action:\\n{\\n   \"action\": \"google_search\",\\n   \"action_input\": \"latest news\"\\n}'"
      ]
     },
     "execution_count": 5,
     "metadata": {},
     "output_type": "execute_result"
    }
   ],
   "source": [
    "ask_query('Latest news')"
   ]
  },
  {
   "cell_type": "code",
   "execution_count": 6,
   "metadata": {},
   "outputs": [
    {
     "name": "stdout",
     "output_type": "stream",
     "text": [
      "\n",
      "\n",
      "\u001b[1m> Entering new AgentExecutor chain...\u001b[0m\n",
      "\u001b[32;1m\u001b[1;3mAction:\n",
      "{\n",
      "   \"action\": \"google_search\",\n",
      "   \"action_input\": \"What events occurred on November 2023\"\n",
      "}\n",
      "\n",
      "\u001b[0m\n",
      "\n",
      "\u001b[1m> Finished chain.\u001b[0m\n"
     ]
    },
    {
     "data": {
      "text/plain": [
       "'Action:\\n{\\n   \"action\": \"google_search\",\\n   \"action_input\": \"What events occurred on November 2023\"\\n}'"
      ]
     },
     "execution_count": 6,
     "metadata": {},
     "output_type": "execute_result"
    }
   ],
   "source": [
    "ask_query('What happened in November 2023?')"
   ]
  },
  {
   "cell_type": "code",
   "execution_count": 33,
   "metadata": {},
   "outputs": [
    {
     "name": "stdout",
     "output_type": "stream",
     "text": [
      "\n",
      "\n",
      "\u001b[1m> Entering new AgentExecutor chain...\u001b[0m\n",
      "\u001b[32;1m\u001b[1;3mThought:\n",
      "Action:\n",
      "```\n",
      "{\n",
      "   \"action\": \"Final Answer\",\n",
      "   \"action_input\": \"February 22, 1732\"\n",
      "}\n",
      "```\n",
      "\u001b[0m\n",
      "\n",
      "\u001b[1m> Finished chain.\u001b[0m\n"
     ]
    },
    {
     "data": {
      "text/plain": [
       "'February 22, 1732'"
      ]
     },
     "execution_count": 33,
     "metadata": {},
     "output_type": "execute_result"
    }
   ],
   "source": [
    "ask_query('On which date was George Washington born?')"
   ]
  }
 ],
 "metadata": {
  "kernelspec": {
   "display_name": ".venv",
   "language": "python",
   "name": "python3"
  },
  "language_info": {
   "codemirror_mode": {
    "name": "ipython",
    "version": 3
   },
   "file_extension": ".py",
   "mimetype": "text/x-python",
   "name": "python",
   "nbconvert_exporter": "python",
   "pygments_lexer": "ipython3",
   "version": "3.10.12"
  }
 },
 "nbformat": 4,
 "nbformat_minor": 2
}
