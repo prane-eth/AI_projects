{
 "cells": [
  {
   "cell_type": "code",
   "execution_count": null,
   "metadata": {},
   "outputs": [],
   "source": [
    "try:\n",
    "\t__import__('lmdeploy')\n",
    "\t__import__('fastapi')\n",
    "except ImportError:\n",
    "\t%%capture\n",
    "\t%pip install lmdeploy fastapi"
   ]
  },
  {
   "cell_type": "code",
   "execution_count": null,
   "metadata": {},
   "outputs": [],
   "source": [
    "import os\n",
    "from lmdeploy import pipeline, TurbomindEngineConfig\n",
    "\n",
    "from pydantic import BaseModel\n",
    "from fastapi import FastAPI\n",
    "from starlette.responses import JSONResponse\n",
    "from dotenv import load_dotenv\n",
    "from typing import List\n",
    "\n",
    "load_dotenv()\n",
    "small_model = os.getenv('FINETUNE_MODEL_NAME')"
   ]
  },
  {
   "cell_type": "code",
   "execution_count": null,
   "metadata": {},
   "outputs": [],
   "source": [
    "# reference: https://github.com/InternLM/lmdeploy/blob/main/docs/en/inference/pipeline.md\n",
    "pipe = pipeline(model_path=small_model, model_name=small_model, backend_config=TurbomindEngineConfig(tp=2))\n",
    "\n",
    "# response = pipe(['Hi, please introduce yourself', 'USA is'])\n",
    "# print(response)"
   ]
  },
  {
   "cell_type": "markdown",
   "metadata": {},
   "source": [
    "Hosting with FastAPI"
   ]
  },
  {
   "cell_type": "code",
   "execution_count": null,
   "metadata": {},
   "outputs": [],
   "source": [
    "class Message(BaseModel):\n",
    "    role: str\n",
    "    content: str\n",
    "\n",
    "class MessageList(BaseModel):\n",
    "    messages: List[Message]\n",
    "\n",
    "\n",
    "app = FastAPI()\n",
    "\n",
    "\n",
    "@app.post(\"/v1/chat/completions\")\n",
    "async def predict(message_list: MessageList):\n",
    "    response = [pipe([message.content]) for message in message_list.messages]\n",
    "    return JSONResponse(content=response)\n",
    "\n",
    "if __name__ == \"__main__\":\n",
    "\timport uvicorn\n",
    "\tuvicorn.run(app, host='0.0.0.0', port=8000)"
   ]
  },
  {
   "cell_type": "code",
   "execution_count": null,
   "metadata": {},
   "outputs": [],
   "source": [
    "'''\n",
    "curl http://localhost:8000/v1/chat/completions \\\n",
    "\t-H \"Content-Type: application/json\" \\\n",
    "\t-d '{\n",
    "\t\t\"messages\": [{\"role\": \"user\", \"content\": \"Say this is a test!\"}]\n",
    "\t}'\n",
    "'''"
   ]
  }
 ],
 "metadata": {
  "kernelspec": {
   "display_name": ".venv",
   "language": "python",
   "name": "python3"
  },
  "language_info": {
   "codemirror_mode": {
    "name": "ipython",
    "version": 3
   },
   "file_extension": ".py",
   "mimetype": "text/x-python",
   "name": "python",
   "nbconvert_exporter": "python",
   "pygments_lexer": "ipython3",
   "version": "3.10.12"
  }
 },
 "nbformat": 4,
 "nbformat_minor": 2
}
