{
 "cells": [
  {
   "cell_type": "markdown",
   "metadata": {},
   "source": [
    "### Chat with Data using Agents"
   ]
  },
  {
   "cell_type": "code",
   "execution_count": 9,
   "metadata": {},
   "outputs": [],
   "source": [
    "import os\n",
    "from dotenv import load_dotenv\n",
    "\n",
    "# from langchain.agents import AgentType, initialize_agent, load_tools\n",
    "# from langchain_community.llms import Ollama\n",
    "from langchain_groq import ChatGroq\n",
    "\n",
    "from langchain.schema import SystemMessage\n",
    "from langchain.chains import LLMChain\n",
    "from langchain.prompts.chat import ChatPromptTemplate, HumanMessagePromptTemplate\n",
    "\n",
    "from common_functions import generate_synthetic_data, \\\n",
    "\tdisplay_md, extract_quotes, datasets_dir  # ensure_ollama_running, \n",
    "\n",
    "load_dotenv()\n",
    "\n",
    "# ensure_llama_running()\n",
    "# llm_model = os.getenv('LLM_MODEL')\n",
    "# llm = Ollama(model=llm_model)\n",
    "llm = ChatGroq(model_name=os.getenv('GROQ_SMALL_MODEL'), temperature=1.0)\n",
    "data_gen_llm = ChatGroq(model_name=os.getenv('GROQ_LARGE_MODEL'), temperature=1.0)"
   ]
  },
  {
   "cell_type": "markdown",
   "metadata": {},
   "source": [
    "#### Generate synthetic data"
   ]
  },
  {
   "cell_type": "code",
   "execution_count": 10,
   "metadata": {},
   "outputs": [
    {
     "data": {
      "text/html": [
       "<div>\n",
       "<style scoped>\n",
       "    .dataframe tbody tr th:only-of-type {\n",
       "        vertical-align: middle;\n",
       "    }\n",
       "\n",
       "    .dataframe tbody tr th {\n",
       "        vertical-align: top;\n",
       "    }\n",
       "\n",
       "    .dataframe thead th {\n",
       "        text-align: right;\n",
       "    }\n",
       "</style>\n",
       "<table border=\"1\" class=\"dataframe\">\n",
       "  <thead>\n",
       "    <tr style=\"text-align: right;\">\n",
       "      <th></th>\n",
       "      <th>product_id</th>\n",
       "      <th>sales</th>\n",
       "      <th>date</th>\n",
       "    </tr>\n",
       "  </thead>\n",
       "  <tbody>\n",
       "    <tr>\n",
       "      <th>0</th>\n",
       "      <td>1</td>\n",
       "      <td>120</td>\n",
       "      <td>2020-01-05</td>\n",
       "    </tr>\n",
       "    <tr>\n",
       "      <th>1</th>\n",
       "      <td>2</td>\n",
       "      <td>80</td>\n",
       "      <td>2020-01-10</td>\n",
       "    </tr>\n",
       "    <tr>\n",
       "      <th>2</th>\n",
       "      <td>3</td>\n",
       "      <td>150</td>\n",
       "      <td>2020-01-15</td>\n",
       "    </tr>\n",
       "    <tr>\n",
       "      <th>3</th>\n",
       "      <td>1</td>\n",
       "      <td>90</td>\n",
       "      <td>2020-02-12</td>\n",
       "    </tr>\n",
       "    <tr>\n",
       "      <th>4</th>\n",
       "      <td>2</td>\n",
       "      <td>70</td>\n",
       "      <td>2020-02-18</td>\n",
       "    </tr>\n",
       "  </tbody>\n",
       "</table>\n",
       "</div>"
      ],
      "text/plain": [
       "   product_id  sales        date\n",
       "0           1    120  2020-01-05\n",
       "1           2     80  2020-01-10\n",
       "2           3    150  2020-01-15\n",
       "3           1     90  2020-02-12\n",
       "4           2     70  2020-02-18"
      ]
     },
     "execution_count": 10,
     "metadata": {},
     "output_type": "execute_result"
    }
   ],
   "source": [
    "topic = 'sales'\n",
    "fields = ['product_id', 'sales', 'date']\n",
    "examples = [{ 'example': 'product_id: 1, sales: 100, dates: any dates from 2020 to 2022' }]\n",
    "\n",
    "data_save_path = os.path.join(datasets_dir, f'{topic}_synthetic_data.csv')\n",
    "df = generate_synthetic_data(data_gen_llm, topic, rows=100, fields=fields,\n",
    "\t\t\t\t\t\t\t\texamples=examples, data_save_path=data_save_path)\n",
    "df.head()"
   ]
  },
  {
   "cell_type": "markdown",
   "metadata": {},
   "source": [
    "#### Define a chain for asking queries"
   ]
  },
  {
   "cell_type": "code",
   "execution_count": 11,
   "metadata": {},
   "outputs": [],
   "source": [
    "prompt = f'''\n",
    "Act as a Data Analyst and Data Scientist for a company that uses {topic} data.\n",
    "Answer the user's question using the {topic} data below. Make useful text bold or italic according to the context.\n",
    "\n",
    "```{df.to_csv(index=False)}```\n",
    "'''\n",
    "\n",
    "chatPromptTemplate = ChatPromptTemplate(\n",
    "\tmessages = [\n",
    "\t\tSystemMessage(prompt),\n",
    "\t\tHumanMessagePromptTemplate.from_template('{question}'),\n",
    "\t],\n",
    "\tinput_variables=['query_context', 'question'],\n",
    ")\n",
    "\n",
    "chain = LLMChain(\n",
    "\tllm=llm,\n",
    "\tprompt=chatPromptTemplate,\n",
    "\tverbose=False,\n",
    "\toutput_key='query_answer',\n",
    ")\n",
    "\n",
    "def ask_query(query, display=False, return_quoted=False):\n",
    "\tresponse = chain.invoke(\n",
    "\t\t{ \"question\": query },\n",
    "\t\toutput_key=\"query_answer\",\n",
    "\t)\n",
    "\tanswer = response[\"query_answer\"]\n",
    "\tif return_quoted:\n",
    "\t\treturn extract_quotes(answer)\n",
    "\tif display:\n",
    "\t\tdisplay_md(answer)\n",
    "\telse:\n",
    "\t\treturn answer"
   ]
  },
  {
   "cell_type": "code",
   "execution_count": 12,
   "metadata": {},
   "outputs": [],
   "source": [
    "# ask_query(\"What is the total sales for product 1?\", display=True)"
   ]
  },
  {
   "cell_type": "code",
   "execution_count": 13,
   "metadata": {},
   "outputs": [],
   "source": [
    "# ask_query(\"On which months are overal sales higher?\", display=True)"
   ]
  },
  {
   "cell_type": "code",
   "execution_count": 14,
   "metadata": {},
   "outputs": [],
   "source": [
    "# ask_query(\"What are the possible reasons for the drop in sales sometimes?\", display=True)"
   ]
  },
  {
   "cell_type": "markdown",
   "metadata": {},
   "source": [
    "#### Chatting with CSV (Similar to RAG over SQL)"
   ]
  },
  {
   "cell_type": "code",
   "execution_count": null,
   "metadata": {},
   "outputs": [],
   "source": [
    "# create a code interpreter agent that can execute code over the data including plotting graphs\n",
    "\n",
    "from codeinterpreterapi import CodeInterpreterSession, File\n",
    "\n",
    "with CodeInterpreterSession(llm) as session:\n",
    "\tresponse = session.generate_response(\n",
    "\t\tuser_msg = 'Plot a graph to represent sales over the years for each product.' \\\n",
    "\t\t\t\t\t'Use columns: ' + ', '.join(df.columns),\n",
    "\t\tfiles = [File.from_path(data_save_path)],\n",
    "\t)\n",
    "\tresponse.show()"
   ]
  }
 ],
 "metadata": {
  "kernelspec": {
   "display_name": ".venv",
   "language": "python",
   "name": "python3"
  },
  "language_info": {
   "codemirror_mode": {
    "name": "ipython",
    "version": 3
   },
   "file_extension": ".py",
   "mimetype": "text/x-python",
   "name": "python",
   "nbconvert_exporter": "python",
   "pygments_lexer": "ipython3",
   "version": "3.10.12"
  }
 },
 "nbformat": 4,
 "nbformat_minor": 2
}
