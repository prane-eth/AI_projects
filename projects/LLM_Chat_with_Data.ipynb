{
 "cells": [
  {
   "cell_type": "markdown",
   "metadata": {},
   "source": [
    "### Chat with Data using Agents\n",
    "using sqlite/csv files"
   ]
  },
  {
   "cell_type": "code",
   "execution_count": 4,
   "metadata": {},
   "outputs": [],
   "source": [
    "import os\n",
    "import io\n",
    "import json\n",
    "from dotenv import load_dotenv\n",
    "# from langchain.agents import AgentType, initialize_agent, load_tools\n",
    "from langchain_core.prompts import ChatPromptTemplate, FewShotPromptTemplate, PromptTemplate\n",
    "from langchain_community.llms import Ollama\n",
    "from langchain_groq import ChatGroq\n",
    "from langchain_experimental.tabular_synthetic_data.base import SyntheticDataGenerator\n",
    "from langchain_experimental.tabular_synthetic_data.prompts import \\\n",
    "\t\t\tSYNTHETIC_FEW_SHOT_PREFIX, SYNTHETIC_FEW_SHOT_SUFFIX\n",
    "import pandas as pd\n",
    "from common_functions import ensure_llama_running, datasets_dir, RANDOM_STATE\n",
    "\n",
    "ensure_llama_running()\n",
    "load_dotenv()\n",
    "\n",
    "# llm_model = os.getenv('LLM_MODEL')\n",
    "# llm = Ollama(model=llm_model)\n",
    "llm = ChatGroq(model_name='llama3-70b-8192')\n",
    "\n",
    "topic = 'sales'\n",
    "data_save_path = os.path.join(datasets_dir, f'{topic}_synthetic_data.csv')"
   ]
  },
  {
   "cell_type": "code",
   "execution_count": 15,
   "metadata": {},
   "outputs": [
    {
     "name": "stdout",
     "output_type": "stream",
     "text": [
      "product_id,sales,date\n",
      "1,120,2020-01-05\n",
      "2,80,2020-01-10\n",
      "3,150,2020-01-15\n",
      "4,90,2020-01-20\n",
      "5,110,2020-01-25\n"
     ]
    }
   ],
   "source": [
    "fields = ['product_id', 'sales', 'date']\n",
    "rows = 5\n",
    "examples = [\n",
    "    {\n",
    "        \"example\": \"\"\"product_id: 1, sales: 100, date: 2020-01-01\"\"\",\n",
    "    },\n",
    "]\n",
    "\n",
    "OPENAI_TEMPLATE = PromptTemplate(input_variables=[\"example\"], template=\"{example}\")\n",
    "prompt_template = FewShotPromptTemplate(\n",
    "    prefix=SYNTHETIC_FEW_SHOT_PREFIX,\n",
    "    examples=examples,\n",
    "    suffix=SYNTHETIC_FEW_SHOT_SUFFIX,\n",
    "    input_variables=fields,\n",
    "    example_prompt=OPENAI_TEMPLATE,\n",
    ")\n",
    "\n",
    "generator = SyntheticDataGenerator(llm=llm, template=prompt_template)\n",
    "data = generator.generate(subject=topic, runs=1,\n",
    "\t\t\t\t\t\t\textra=f\"include columns in csv response in ```: {', '.join(fields)} with row count: {rows}\")\n",
    "response = data[0]\n",
    "# get text in quotes ```\n",
    "response = response[response.find('```')+3:response.rfind('```')]\n",
    "response = response.strip()\n",
    "print(response)\n",
    "\n",
    "\n",
    "try:\n",
    "\tdf = pd.read_csv(io.StringIO(response))\n",
    "\tdf.to_csv(data_save_path, index=False)\n",
    "except Exception as e:\n",
    "\tprint(\"No data generated\")\n",
    "\tprint(e)\n",
    "\n",
    "def generate_synthetic_data(llm, sample_df, topic, rows=1000):\n",
    "\t# generate synthetic data using LLM\n",
    "\tpass\n"
   ]
  },
  {
   "cell_type": "code",
   "execution_count": null,
   "metadata": {},
   "outputs": [],
   "source": [
    "if os.path.exists(data_save_path):\n",
    "    df = pd.read_csv(data_save_path)\n",
    "else:\n",
    "\tsample_df = pd.DataFrame({\n",
    "\t\t'product_id': [\n",
    "\t\t\t1, 2, 3, 4, 5,\n",
    "\t\t\t1, 2, 3, 4, 5,\n",
    "\t\t\t1, 2, 3, 4, 5,\n",
    "        ],\n",
    "\t\t'sales': [\n",
    "\t\t\t100, 200, 300, 400, 500,\n",
    "\t\t\t600, 700, 600, 900, 500,\n",
    "\t\t\t300, 200, 300, 400, 500,\n",
    "\t\t],\n",
    "\t})\n",
    "\t# repeat all the rows 10 times\n",
    "\tsample_df = pd.concat([sample_df]*10, ignore_index=True)\n",
    "\t# replace 'date' column with random dates in ascending order from 2020 to today\n",
    "\tsample_df['date'] = pd.date_range(start='2020-01-01', end='2024-05-05',\n",
    "\t\t\t\t\t\t\t\t\t\tperiods=len(sample_df))\n",
    "\trows = 100\n",
    "\tdf = generate_synthetic_data(llm, sample_df, topic, rows=rows)\n",
    "\tdf['date'] = df['date'].dt.date  # include only date without time\n",
    "\tdf = df.sort_values('date').reset_index(drop=True)  # sort by date\n",
    "\tdf.to_csv(data_save_path, index=False)\n",
    "\n",
    "df.head()"
   ]
  }
 ],
 "metadata": {
  "kernelspec": {
   "display_name": ".venv",
   "language": "python",
   "name": "python3"
  },
  "language_info": {
   "codemirror_mode": {
    "name": "ipython",
    "version": 3
   },
   "file_extension": ".py",
   "mimetype": "text/x-python",
   "name": "python",
   "nbconvert_exporter": "python",
   "pygments_lexer": "ipython3",
   "version": "3.10.12"
  }
 },
 "nbformat": 4,
 "nbformat_minor": 2
}
