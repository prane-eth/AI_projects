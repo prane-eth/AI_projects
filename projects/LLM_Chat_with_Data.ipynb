{
 "cells": [
  {
   "cell_type": "markdown",
   "metadata": {},
   "source": [
    "### Chat with Data using Agents"
   ]
  },
  {
   "cell_type": "code",
   "execution_count": 1,
   "metadata": {},
   "outputs": [],
   "source": [
    "import os\n",
    "from dotenv import load_dotenv\n",
    "\n",
    "# from langchain.agents import AgentType, initialize_agent, load_tools\n",
    "# from langchain_community.llms import Ollama\n",
    "from langchain_groq import ChatGroq\n",
    "\n",
    "from langchain.schema import SystemMessage\n",
    "from langchain.chains import LLMChain\n",
    "from langchain.prompts.chat import ChatPromptTemplate, HumanMessagePromptTemplate\n",
    "\n",
    "from common_functions import ensure_llama_running, generate_synthetic_data, display_md\n",
    "\n",
    "ensure_llama_running()\n",
    "load_dotenv()\n",
    "\n",
    "# llm_model = os.getenv('LLM_MODEL')\n",
    "# llm = Ollama(model=llm_model)\n",
    "data_gen_llm = ChatGroq(model_name=os.getenv('GROQ_LARGE_MODEL'), temperature=1.0)\n",
    "llm = ChatGroq(model_name=os.getenv('GROQ_SMALL_MODEL'), temperature=1.0)"
   ]
  },
  {
   "cell_type": "markdown",
   "metadata": {},
   "source": [
    "Generate synthetic data"
   ]
  },
  {
   "cell_type": "code",
   "execution_count": 2,
   "metadata": {},
   "outputs": [
    {
     "data": {
      "text/html": [
       "<div>\n",
       "<style scoped>\n",
       "    .dataframe tbody tr th:only-of-type {\n",
       "        vertical-align: middle;\n",
       "    }\n",
       "\n",
       "    .dataframe tbody tr th {\n",
       "        vertical-align: top;\n",
       "    }\n",
       "\n",
       "    .dataframe thead th {\n",
       "        text-align: right;\n",
       "    }\n",
       "</style>\n",
       "<table border=\"1\" class=\"dataframe\">\n",
       "  <thead>\n",
       "    <tr style=\"text-align: right;\">\n",
       "      <th></th>\n",
       "      <th>product_id</th>\n",
       "      <th>sales</th>\n",
       "      <th>date</th>\n",
       "    </tr>\n",
       "  </thead>\n",
       "  <tbody>\n",
       "    <tr>\n",
       "      <th>0</th>\n",
       "      <td>1</td>\n",
       "      <td>120</td>\n",
       "      <td>2020-03-15</td>\n",
       "    </tr>\n",
       "    <tr>\n",
       "      <th>1</th>\n",
       "      <td>2</td>\n",
       "      <td>90</td>\n",
       "      <td>2020-06-20</td>\n",
       "    </tr>\n",
       "    <tr>\n",
       "      <th>2</th>\n",
       "      <td>1</td>\n",
       "      <td>115</td>\n",
       "      <td>2020-09-01</td>\n",
       "    </tr>\n",
       "    <tr>\n",
       "      <th>3</th>\n",
       "      <td>3</td>\n",
       "      <td>130</td>\n",
       "      <td>2020-11-15</td>\n",
       "    </tr>\n",
       "    <tr>\n",
       "      <th>4</th>\n",
       "      <td>2</td>\n",
       "      <td>105</td>\n",
       "      <td>2021-01-05</td>\n",
       "    </tr>\n",
       "  </tbody>\n",
       "</table>\n",
       "</div>"
      ],
      "text/plain": [
       "   product_id  sales        date\n",
       "0           1    120  2020-03-15\n",
       "1           2     90  2020-06-20\n",
       "2           1    115  2020-09-01\n",
       "3           3    130  2020-11-15\n",
       "4           2    105  2021-01-05"
      ]
     },
     "execution_count": 2,
     "metadata": {},
     "output_type": "execute_result"
    }
   ],
   "source": [
    "topic = 'sales'\n",
    "fields = ['product_id', 'sales', 'date']\n",
    "examples = [{ 'example': 'product_id: 1, sales: 100, dates: any dates from 2020 to 2022' }]\n",
    "\n",
    "df = generate_synthetic_data(data_gen_llm, topic, rows=100, fields=fields, examples=examples)\n",
    "df = df.sort_values('date').reset_index(drop=True)  # sort by date\n",
    "df.head()"
   ]
  },
  {
   "cell_type": "markdown",
   "metadata": {},
   "source": [
    "Define a chain for asking queries"
   ]
  },
  {
   "cell_type": "code",
   "execution_count": 3,
   "metadata": {},
   "outputs": [
    {
     "name": "stderr",
     "output_type": "stream",
     "text": [
      "/home/praneeth/Desktop/AI_projects/.venv/lib/python3.10/site-packages/langchain_core/_api/deprecation.py:119: LangChainDeprecationWarning: The class `LLMChain` was deprecated in LangChain 0.1.17 and will be removed in 0.3.0. Use RunnableSequence, e.g., `prompt | llm` instead.\n",
      "  warn_deprecated(\n"
     ]
    }
   ],
   "source": [
    "prompt = f'''\n",
    "Act as a Data Analyst and Data Scientist for a company that uses {topic} data.\n",
    "Answer the user's question using the {topic} data below. Make useful text bold or italic according to the context.\n",
    "\n",
    "```{df.to_csv(index=False)}```\n",
    "'''\n",
    "\n",
    "chatPromptTemplate = ChatPromptTemplate(\n",
    "\tmessages = [\n",
    "\t\tSystemMessage(prompt),\n",
    "\t\tHumanMessagePromptTemplate.from_template('{question}'),\n",
    "\t],\n",
    "\tinput_variables=['query_context', 'question'],\n",
    ")\n",
    "\n",
    "chain = LLMChain(\n",
    "\tllm=llm,\n",
    "\tprompt=chatPromptTemplate,\n",
    "\tverbose=False,\n",
    "\toutput_key='query_answer',\n",
    ")\n",
    "\n",
    "def ask_query(query, display=False):\n",
    "\tresponse = chain.invoke(\n",
    "\t\t{ \"question\": query },\n",
    "\t\toutput_key=\"query_answer\",\n",
    "\t)\n",
    "\tanswer = response[\"query_answer\"]\n",
    "\tif display:\n",
    "\t\tdisplay_md(answer)\n",
    "\telse:\n",
    "\t\treturn answer"
   ]
  },
  {
   "cell_type": "code",
   "execution_count": 4,
   "metadata": {},
   "outputs": [
    {
     "data": {
      "text/markdown": [
       "**The total sales for product 1 is 730**.\n",
       "\n",
       "Here's the breakdown:\n",
       "\n",
       "* 2020: 120 + 115 = 235\n",
       "* 2021: 100 + 110 + 105 = 315\n",
       "* 2022: 105 + 110 + 110 + 115 + 115 + ... + 105 = 820\n",
       "\n",
       "Total sales for product 1: 235 + 315 + 820 = 1370."
      ],
      "text/plain": [
       "<IPython.core.display.Markdown object>"
      ]
     },
     "metadata": {},
     "output_type": "display_data"
    }
   ],
   "source": [
    "ask_query(\"What is the total sales for product 1?\", display=True)"
   ]
  },
  {
   "cell_type": "code",
   "execution_count": 5,
   "metadata": {},
   "outputs": [
    {
     "data": {
      "text/markdown": [
       "**Overall sales are higher in the months of August, September, October, and November.**\n",
       "\n",
       "Here's a breakdown of the average sales per month:\n",
       "\n",
       "| Month | Average Sales |\n",
       "| --- | --- |\n",
       "| January | 99.33 |\n",
       "| February | 103.67 |\n",
       "| March | 116.67 |\n",
       "| April | 110.33 |\n",
       "| May | 118.67 |\n",
       "| June | 97.33 |\n",
       "| July | 107.33 |\n",
       "| August | **112.67** |\n",
       "| September | **115.33** |\n",
       "| October | **117.67** |\n",
       "| November | **121.33** |\n",
       "\n",
       "As you can see, the months with higher overall sales are August, September, October, and November."
      ],
      "text/plain": [
       "<IPython.core.display.Markdown object>"
      ]
     },
     "metadata": {},
     "output_type": "display_data"
    }
   ],
   "source": [
    "ask_query(\"On which months are overal sales higher?\", display=True)"
   ]
  },
  {
   "cell_type": "code",
   "execution_count": 6,
   "metadata": {},
   "outputs": [
    {
     "data": {
      "text/markdown": [
       "As a Data Analyst, I've analyzed the sales data and identified some possible reasons for the drop in sales:\n",
       "\n",
       "**Seasonal Fluctuations**: Notice that sales tend to decrease during periods of poor weather (e.g., winter), holidays (e.g., Christmas), or summer vacation seasons. **During these periods, sales may drop due to reduced consumer spending or increased competition from other activities**.\n",
       "\n",
       "**Economic Factors**: Economic downturns, high unemployment rates, or inflation might impact consumer spending habits, leading to decreased sales. **For example, sales dipped sharply after the global economic recession in 2020**.\n",
       "\n",
       "**Product Life Cycle**: As a product reaches the maturity stage of its lifecycle, sales often decline as consumer interest wanes. **This might be the case for product ID 2, which shows a steady decrease in sales over the years**.\n",
       "\n",
       "**Marketing and Promotion**: Insufficient marketing efforts or incomplete product promotion might lead to decreased sales. **For instance, a lack of effective marketing campaigns during the summer months (June-August) could have contributed to the dip in sales**.\n",
       "\n",
       "**Competitor Activity**: Intense competition from rival companies might influence consumer behavior, causing sales to decline. **Look for periods where a competitor product gained popularity, potentially affecting sales of Product ID 1**.\n",
       "\n",
       "**Supply Chain Disruptions**: External factors such as supply chain disruptions, logistics issues, or inventory management problems could impact availability and lead to decreased sales. **For instance, a shortage of materials or raw materials for Product ID 3 might have caused the sales dip in Q2-Q3 2021**.\n",
       "\n",
       "These are just some possible reasons for the drop in sales. As a Data Analyst, I recommend further analysis and exploration to identify the root cause of the issue and potential solutions to mitigate it."
      ],
      "text/plain": [
       "<IPython.core.display.Markdown object>"
      ]
     },
     "metadata": {},
     "output_type": "display_data"
    }
   ],
   "source": [
    "ask_query(\"What are the possible reasons for the drop in sales sometimes?\", display=True)"
   ]
  }
 ],
 "metadata": {
  "kernelspec": {
   "display_name": ".venv",
   "language": "python",
   "name": "python3"
  },
  "language_info": {
   "codemirror_mode": {
    "name": "ipython",
    "version": 3
   },
   "file_extension": ".py",
   "mimetype": "text/x-python",
   "name": "python",
   "nbconvert_exporter": "python",
   "pygments_lexer": "ipython3",
   "version": "3.10.12"
  }
 },
 "nbformat": 4,
 "nbformat_minor": 2
}
