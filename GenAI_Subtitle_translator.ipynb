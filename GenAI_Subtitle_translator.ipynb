{
 "cells": [
  {
   "cell_type": "code",
   "execution_count": 51,
   "metadata": {},
   "outputs": [],
   "source": [
    "# %pip install langchain"
   ]
  },
  {
   "cell_type": "markdown",
   "metadata": {},
   "source": [
    "Before you run this, please install [Ollama](https://ollama.com/download) and run\n",
    "`ollama pull` and `ollama pull gemma:2b`"
   ]
  },
  {
   "cell_type": "markdown",
   "metadata": {},
   "source": [
    "#### Imports"
   ]
  },
  {
   "cell_type": "code",
   "execution_count": 52,
   "metadata": {},
   "outputs": [],
   "source": [
    "import time\n",
    "from langchain_core.prompts import ChatPromptTemplate\n",
    "from langchain_core.output_parsers import StrOutputParser\n",
    "from langchain_community.llms import Ollama\n",
    "\n",
    "from common_functions import load_data_from_url"
   ]
  },
  {
   "cell_type": "markdown",
   "metadata": {},
   "source": [
    "#### Data collection"
   ]
  },
  {
   "cell_type": "code",
   "execution_count": 53,
   "metadata": {},
   "outputs": [
    {
     "name": "stdout",
     "output_type": "stream",
     "text": [
      "1\n",
      "00:02:17,400 --> 00:02:20,400\n",
      "Senator, we're making\n",
      "our final approach into Coruscant.\n",
      "\n",
      "2\n",
      "01:02:20\n"
     ]
    }
   ],
   "source": [
    "srt_content = load_data_from_url(\"https://raw.githubusercontent.com/mantas-done/subtitles/master/tests/files/srt.srt\")\n",
    "print(srt_content[:100])"
   ]
  },
  {
   "cell_type": "markdown",
   "metadata": {},
   "source": [
    "#### Creating the model"
   ]
  },
  {
   "cell_type": "code",
   "execution_count": 54,
   "metadata": {},
   "outputs": [
    {
     "data": {
      "text/plain": [
       "Ollama(model='gemma:2b')"
      ]
     },
     "execution_count": 54,
     "metadata": {},
     "output_type": "execute_result"
    }
   ],
   "source": [
    "llm = Ollama(model=\"gemma:2b\")\n",
    "llm"
   ]
  },
  {
   "cell_type": "markdown",
   "metadata": {},
   "source": [
    "Define the prompt"
   ]
  },
  {
   "cell_type": "code",
   "execution_count": 59,
   "metadata": {},
   "outputs": [],
   "source": [
    "destination_languages = ['Spanish', 'Hindi', 'Telugu']\n",
    "\n",
    "# prompt can also be saved to a file and used as a template\n",
    "prompt = \"\"\"\n",
    "User provides the text from an SRT file. Please translate it to the language mentioned below.\n",
    "Maintain the SRT format.\n",
    "\"\"\"\n",
    "\n",
    "prompt = prompt.strip().replace(\"\\n\", \" \")"
   ]
  },
  {
   "cell_type": "code",
   "execution_count": 60,
   "metadata": {},
   "outputs": [
    {
     "name": "stdout",
     "output_type": "stream",
     "text": [
      "Functions ready\n"
     ]
    }
   ],
   "source": [
    "CHARACTER_LIMIT = 2000\n",
    "\n",
    "promptTemplate = ChatPromptTemplate.from_messages([\n",
    "\t(\"system\", prompt),\n",
    "\t(\"system\", \"Language: {language}\"),\n",
    "\t(\"user\", \"{srt_content}\"),\n",
    "])\n",
    "chain = promptTemplate | llm | StrOutputParser()  # Parse output as string\n",
    "# Different operations are chained together to form a 'pipeline'.\n",
    "# The output of one operation is passed as input to the next.\n",
    "\n",
    "def translate_srt(language):\n",
    "    print(f\"Translating to {language}\")\n",
    "    translated_subtitles = chain.invoke({ \"srt_content\": srt_content, \"language\": language })\n",
    "    return translated_subtitles\n",
    "\n",
    "print(\"Functions ready\")"
   ]
  },
  {
   "cell_type": "code",
   "execution_count": 61,
   "metadata": {},
   "outputs": [
    {
     "name": "stdout",
     "output_type": "stream",
     "text": [
      "Translating to Spanish\n",
      "Senador, nos estamos acercando en el último enfoque en Coruscant.\n",
      "\n",
      "2\n",
      "1:02:20,500 --> 1:02:22,500\n",
      "Muy bien, Capitán.\n",
      "\n",
      "Translated to Spanish\n",
      "\n",
      "\n",
      "\n",
      "Translating to Hindi\n",
      "संगत, हम unsere最終 उपयुक्त entry को Coruscant में ला रहे हैं।\n",
      "\n",
      "01:02:20,500 --> 01:02:22,500\n",
      "हाँ, लेफ्टेंसर, आप खूब great रहे।\n",
      "\n",
      "Translated to Hindi\n",
      "\n",
      "\n",
      "\n",
      "Translating to Telugu\n",
      "Senator, we're making our final approach into Coruscant.\n",
      "\n",
      "2\n",
      "01:02:20,500 --> 01:02:22,500\n",
      "Very good, Lieutenant.\n",
      "\n",
      "Translated to Telugu\n",
      "\n",
      "\n",
      "\n"
     ]
    }
   ],
   "source": [
    "for language in destination_languages:\n",
    "\ttranslated_subtitles = translate_srt(language)\n",
    "\tprint(translated_subtitles)\n",
    "\tprint(\"\\nTranslated to\", language)\n",
    "\tprint(\"\\n\\n\")"
   ]
  }
 ],
 "metadata": {
  "kernelspec": {
   "display_name": "Python 3",
   "language": "python",
   "name": "python3"
  },
  "language_info": {
   "codemirror_mode": {
    "name": "ipython",
    "version": 3
   },
   "file_extension": ".py",
   "mimetype": "text/x-python",
   "name": "python",
   "nbconvert_exporter": "python",
   "pygments_lexer": "ipython3",
   "version": "3.10.12"
  }
 },
 "nbformat": 4,
 "nbformat_minor": 2
}
