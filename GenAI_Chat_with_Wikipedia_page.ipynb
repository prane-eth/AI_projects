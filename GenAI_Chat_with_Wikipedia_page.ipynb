{
 "cells": [
  {
   "cell_type": "code",
   "execution_count": 1,
   "metadata": {},
   "outputs": [],
   "source": [
    "# %pip install langchain Wikipedia-API"
   ]
  },
  {
   "cell_type": "markdown",
   "metadata": {},
   "source": [
    "#### Imports"
   ]
  },
  {
   "cell_type": "code",
   "execution_count": 2,
   "metadata": {},
   "outputs": [],
   "source": [
    "import time\n",
    "from IPython.display import display, Markdown\n",
    "from wikipediaapi import Wikipedia\n",
    "from langchain_core.prompts import ChatPromptTemplate\n",
    "from langchain_core.output_parsers import StrOutputParser\n",
    "from langchain_community.llms import Ollama"
   ]
  },
  {
   "cell_type": "markdown",
   "metadata": {},
   "source": [
    "#### Data collection"
   ]
  },
  {
   "cell_type": "code",
   "execution_count": 3,
   "metadata": {},
   "outputs": [
    {
     "name": "stdout",
     "output_type": "stream",
     "text": [
      "Python is a high-level, general-purpose programming language. Its design philosophy emphasizes code \n"
     ]
    }
   ],
   "source": [
    "wikipedia = Wikipedia('MyProjectName (merlin@example.com)', 'en')\n",
    "\n",
    "def get_wikipedia_page(page_name):\n",
    "\tpage = wikipedia.page(page_name)\n",
    "\t\n",
    "\tif page.exists() and len(page.text) > 0:\n",
    "\t\treturn page.text\n",
    "\telse:\n",
    "\t\treturn None\n",
    "\n",
    "page_content = get_wikipedia_page('Python (programming language)')\n",
    "if page_content is None:\n",
    "\traise ValueError('Page not found')\n",
    "print(page_content[:100])"
   ]
  },
  {
   "cell_type": "markdown",
   "metadata": {},
   "source": [
    "#### Creating the model"
   ]
  },
  {
   "cell_type": "markdown",
   "metadata": {},
   "source": [
    "Before you run this, please install [Ollama](https://ollama.com/download) and run\n",
    "`ollama pull` and `ollama pull llama2`"
   ]
  },
  {
   "cell_type": "code",
   "execution_count": 4,
   "metadata": {},
   "outputs": [
    {
     "data": {
      "text/plain": [
       "Ollama()"
      ]
     },
     "execution_count": 4,
     "metadata": {},
     "output_type": "execute_result"
    }
   ],
   "source": [
    "llm = Ollama(model=\"llama2\")\n",
    "llm"
   ]
  },
  {
   "cell_type": "code",
   "execution_count": 5,
   "metadata": {},
   "outputs": [
    {
     "name": "stdout",
     "output_type": "stream",
     "text": [
      "Functions ready\n"
     ]
    }
   ],
   "source": [
    "CHARACTER_LIMIT = 2000\n",
    "# prompt can also be saved to a file and used as a template\n",
    "prompt = \"\"\"\n",
    "content from wikipedia page is mentioned below. Answer the user's question using the content.\n",
    "Keep the answers very short and to the point.\n",
    "If user asks something not related to the content, avoid answering even partially\n",
    "and apologize the user for not answering.\n",
    "Avoid using technical jargon.\n",
    "Avoid using words like \"Hi\", \"According to\", \"In my opinion\", \"I think\", \"I believe\", etc unless mandatory.\n",
    "Keep the answers very short and to the point.\n",
    "\"\"\"  # emphasizing on a short answer for a faster response and saving CPU time\n",
    "\n",
    "prompt = prompt.strip().replace(\"\\n\", \" \")\n",
    "\n",
    "promptTemplate = ChatPromptTemplate.from_messages([\n",
    "\t(\"system\", prompt),\n",
    "\t(\"system\", page_content[:CHARACTER_LIMIT]),\n",
    "\t(\"user\", \"{question}\"),\n",
    "])\n",
    "chain = promptTemplate | llm | StrOutputParser()\n",
    "\n",
    "def answer_question(question):\n",
    "\treturn chain.invoke({\"question\": question})\n",
    "\n",
    "CHARACTERS_PER_LINE = 80\n",
    "\n",
    "def test_for_question(question):\n",
    "\tprint(f\"Question: {question}\")\n",
    "\tanswer = answer_question(question)\n",
    "\tanswer = f\"Answer: {answer}\"\n",
    "\tdisplay(Markdown(answer))\n",
    "\ttime.sleep(2)  # CPU cooldown break\n",
    "\n",
    "print(\"Functions ready\")"
   ]
  },
  {
   "cell_type": "markdown",
   "metadata": {},
   "source": [
    "#### Testing with some queries"
   ]
  },
  {
   "cell_type": "code",
   "execution_count": 6,
   "metadata": {},
   "outputs": [
    {
     "name": "stdout",
     "output_type": "stream",
     "text": [
      "Question: what is python?\n"
     ]
    },
    {
     "data": {
      "text/markdown": [
       "Answer: Python is a high-level, general-purpose programming language that emphasizes code readability with significant indentation. It's dynamically typed and garbage-collected, supporting multiple paradigms like procedural, object-oriented, and functional programming."
      ],
      "text/plain": [
       "<IPython.core.display.Markdown object>"
      ]
     },
     "metadata": {},
     "output_type": "display_data"
    }
   ],
   "source": [
    "test_for_question(\"what is python?\")"
   ]
  },
  {
   "cell_type": "code",
   "execution_count": 7,
   "metadata": {},
   "outputs": [
    {
     "name": "stdout",
     "output_type": "stream",
     "text": [
      "Question: why python? why not javascript?\n"
     ]
    },
    {
     "data": {
      "text/markdown": [
       "Answer: Python is a popular programming language due to its ease of use, readability, and extensive standard library. It's often preferred over JavaScript for several reasons:\n",
       "\n",
       "1. Syntax: Python has a simpler syntax than JavaScript, making it easier to learn and understand.\n",
       "2. Dynamically typed vs statically typed: Python is dynamically typed, which means you don't need to declare variables before using them. JavaScript, on the other hand, is statically typed, requiring explicit type declarations.\n",
       "3. Memory management: Python uses automatic memory management through garbage collection, reducing the risk of memory leaks and making it easier to write programs that handle large amounts of data. JavaScript also has automatic memory management through its garbage collector, but it's not as efficient as Python's.\n",
       "4. Cross-platform compatibility: Python can run on multiple operating systems without modification, while JavaScript is primarily associated with the web and can be more challenging to use on other platforms.\n",
       "5. Libraries and frameworks: Python has a vast collection of libraries and frameworks for various tasks, such as machine learning, data analysis, and web development. JavaScript also has a rich ecosystem of libraries and frameworks, but Python's are often considered more mature and robust.\n",
       "6. Learning curve: Many developers find Python easier to learn and use than JavaScript, especially for beginners.\n",
       "7. Job prospects: Both languages have strong job prospects, but Python is often preferred in the industry due to its versatility and wide range of applications.\n",
       "\n",
       "Ultimately, the choice between Python and JavaScript depends on your specific needs, goals, and preferences as a developer."
      ],
      "text/plain": [
       "<IPython.core.display.Markdown object>"
      ]
     },
     "metadata": {},
     "output_type": "display_data"
    }
   ],
   "source": [
    "test_for_question(\"why python? why not javascript?\")"
   ]
  },
  {
   "cell_type": "code",
   "execution_count": 8,
   "metadata": {},
   "outputs": [
    {
     "name": "stdout",
     "output_type": "stream",
     "text": [
      "Question: what is garbage collector in java?\n"
     ]
    },
    {
     "data": {
      "text/markdown": [
       "Answer: A garbage collector in Java is a component that automatically reclaims memory occupied by objects that are no longer needed or that have reached the end of their lifecycle. It frees up memory for use by other objects, improving the overall performance and efficiency of the program."
      ],
      "text/plain": [
       "<IPython.core.display.Markdown object>"
      ]
     },
     "metadata": {},
     "output_type": "display_data"
    }
   ],
   "source": [
    "# Unrelated question\n",
    "test_for_question(\"what is garbage collector in java?\")"
   ]
  },
  {
   "cell_type": "code",
   "execution_count": 9,
   "metadata": {},
   "outputs": [
    {
     "name": "stdout",
     "output_type": "stream",
     "text": [
      "Question: quien inventó python\n"
     ]
    },
    {
     "data": {
      "text/markdown": [
       "Answer: Guido van Rossum es el creador de Python."
      ],
      "text/plain": [
       "<IPython.core.display.Markdown object>"
      ]
     },
     "metadata": {},
     "output_type": "display_data"
    }
   ],
   "source": [
    "# Asking in Spanish - who invented python\n",
    "test_for_question(\"quien inventó python\")"
   ]
  },
  {
   "cell_type": "code",
   "execution_count": 10,
   "metadata": {},
   "outputs": [
    {
     "name": "stdout",
     "output_type": "stream",
     "text": [
      "Question: पाइथॉन का आविष्कार किसने किया\n"
     ]
    },
    {
     "data": {
      "text/markdown": [
       "Answer: Guido van Rossum conceived Python in the late 1980s as a successor to the ABC programming language."
      ],
      "text/plain": [
       "<IPython.core.display.Markdown object>"
      ]
     },
     "metadata": {},
     "output_type": "display_data"
    }
   ],
   "source": [
    "# Asking in Hindi - who invented python\n",
    "test_for_question(\"पाइथॉन का आविष्कार किसने किया\")"
   ]
  }
 ],
 "metadata": {
  "kernelspec": {
   "display_name": "Python 3",
   "language": "python",
   "name": "python3"
  },
  "language_info": {
   "codemirror_mode": {
    "name": "ipython",
    "version": 3
   },
   "file_extension": ".py",
   "mimetype": "text/x-python",
   "name": "python",
   "nbconvert_exporter": "python",
   "pygments_lexer": "ipython3",
   "version": "3.10.12"
  }
 },
 "nbformat": 4,
 "nbformat_minor": 2
}
