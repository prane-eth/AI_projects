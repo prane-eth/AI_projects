{
 "cells": [
  {
   "cell_type": "code",
   "execution_count": 1,
   "metadata": {},
   "outputs": [],
   "source": [
    "# %pip install langchain Wikipedia-API"
   ]
  },
  {
   "cell_type": "markdown",
   "metadata": {},
   "source": [
    "#### Data collection"
   ]
  },
  {
   "cell_type": "code",
   "execution_count": 2,
   "metadata": {},
   "outputs": [
    {
     "name": "stdout",
     "output_type": "stream",
     "text": [
      "Python is a high-level, general-purpose programming language. Its design philosophy emphasizes code \n"
     ]
    }
   ],
   "source": [
    "from wikipediaapi import Wikipedia\n",
    "wikipedia = Wikipedia('MyProjectName (merlin@example.com)', 'en')\n",
    "\n",
    "def get_wikipedia_page(page_name):\n",
    "\tpage = wikipedia.page(page_name)\n",
    "\t\n",
    "\tif page.exists() and len(page.text) > 0:\n",
    "\t\treturn page.text\n",
    "\telse:\n",
    "\t\treturn None\n",
    "\n",
    "page_content = get_wikipedia_page('Python (programming language)')\n",
    "if page_content is None:\n",
    "\traise ValueError('Page not found')\n",
    "print(page_content[:100])"
   ]
  },
  {
   "cell_type": "markdown",
   "metadata": {},
   "source": [
    "#### Creating the model"
   ]
  },
  {
   "cell_type": "code",
   "execution_count": 3,
   "metadata": {},
   "outputs": [],
   "source": [
    "from langchain_community.llms import Ollama\n",
    "llm = Ollama(model=\"llama2\")"
   ]
  },
  {
   "cell_type": "code",
   "execution_count": 33,
   "metadata": {},
   "outputs": [
    {
     "name": "stdout",
     "output_type": "stream",
     "text": [
      "Question: what is python?\n",
      "Answer: \n",
      "Python is a high-level, interpreted programming language that is widely used for various purposes such as web development, scientific computing, data analysis, artificial intelligence, and more. Here are some key features of Python:\n",
      "\n",
      "1. Easy to learn: Python has a simple syntax and is relatively easy to learn compared to other programming languages. This makes it an ideal language for beginners and experts alike.\n",
      "2. Versatile: Python can be used for a wide range of applications such as web development, scientific computing, data analysis, artificial intelligence, and more.\n",
      "3. Cross-platform compatibility: Python code can run on multiple operating systems including Windows, macOS, and Linux.\n",
      "4. Large community: Python has a large and active community of developers, which means there are many resources available for learning and troubleshooting.\n",
      "5. Extensive libraries: Python has a vast collection of libraries and frameworks that make it easy to perform various tasks such as data analysis, machine learning, web development, and more. Some popular libraries include NumPy, pandas, and scikit-learn.\n",
      "6. Object-oriented programming: Python is an object-oriented language that supports encapsulation, inheritance, and polymorphism, making it easy to write reusable code.\n",
      "7. Dynamic typing: Python is a dynamically typed language, which means you don't need to specify the data type of a variable when declaring it. This makes it easier to write code and reduce errors.\n",
      "8. Multi-paradigm programming: Python supports multiple programming paradigms such as procedural, object-oriented, and functional programming, making it a versatile language.\n",
      "9. Extensive use in data science: Python is widely used in the field of data science due to its extensive libraries and tools for data analysis, machine learning, and visualization.\n",
      "10. Used in many industries: Python is used in a variety of industries such as finance, healthcare, education, and more, making it a versatile language with many practical applications.\n",
      "\n",
      "Overall, Python is a powerful and versatile language that is widely used in various fields due to its ease of use, flexibility, and extensive libraries and frameworks.\n"
     ]
    }
   ],
   "source": [
    "def answer_question(question):\n",
    "\tresults = llm.generate([question])  # , \"content from page:\", page_content[100]\n",
    "\tres_messages = results.dict()['generations']\n",
    "\tres_text = ''\n",
    "\tfor res1 in res_messages:\n",
    "\t\tfor res2 in res1:\n",
    "\t\t\tres_text += res2['text']\n",
    "\treturn res_text\n",
    "\n",
    "question = \"what is python?\"\n",
    "answer = answer_question(question)\n",
    "\n",
    "print(f\"Question: {question}\")\n",
    "print(f\"Answer: {answer}\")"
   ]
  }
 ],
 "metadata": {
  "kernelspec": {
   "display_name": "Python 3",
   "language": "python",
   "name": "python3"
  },
  "language_info": {
   "codemirror_mode": {
    "name": "ipython",
    "version": 3
   },
   "file_extension": ".py",
   "mimetype": "text/x-python",
   "name": "python",
   "nbconvert_exporter": "python",
   "pygments_lexer": "ipython3",
   "version": "3.10.12"
  }
 },
 "nbformat": 4,
 "nbformat_minor": 2
}
