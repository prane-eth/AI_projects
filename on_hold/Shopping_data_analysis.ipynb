{
  "cells": [
    {
      "cell_type": "markdown",
      "metadata": {},
      "source": [
        "Project status: In Progress"
      ]
    },
    {
      "cell_type": "markdown",
      "metadata": {},
      "source": [
        "#### Documentation:"
      ]
    },
    {
      "cell_type": "markdown",
      "metadata": {},
      "source": [
        "Why this project:\n",
        "- **Recommendations**: Predict what the customer wants to buy, and recommend what else they can buy\n",
        "\t- We can understand more about the customer using their behaviour, frequency, and preferences.\n",
        "\t- For example, if a customer buys a phone, we can recommend a phone cover, screen guard, etc.\n",
        "- **Advertisements**: Sponsor the recommended products which customers are likely to buy, along with a discount\n",
        "- Identify products that are frequently bought together\n",
        "- **Abandoned carts**: Find list of searches or carts or user opening the project page, that are not converted to sales\n",
        "\t- If a customer searches for a product, but does not buy it, we can predict the reason, like the price is cheaper in another website.\n",
        "- **Empty results**: Find the list of searches that returned no results, and find most searched products that are not in our inventory.\n",
        "\t- With this data, we can stock-up those products\n",
        "- **Demand of the new products**: Find whether newly introduced products have more demand compared to products that have a long history of sales\n",
        "- Identify users who don't want to order, so we can send them coupons\n",
        "- **Sales forecasting**: Predict the time period of the year with highest sales (for example, Winter holidays)\n",
        "- **Price Optimization**: Determine the optimal price point for a product that maximizes profit.\n",
        "- **Identifying Trends**: Identify current market trends and customer preferences. (for example, what are being sold more in summer than rest of the year)"
      ]
    },
    {
      "cell_type": "markdown",
      "metadata": {},
      "source": [
        "### Importing packages"
      ]
    },
    {
      "cell_type": "code",
      "execution_count": 7,
      "metadata": {},
      "outputs": [],
      "source": [
        "# %pip install pandas numpy scikit-learn matplotlib seaborn"
      ]
    },
    {
      "cell_type": "code",
      "execution_count": 8,
      "metadata": {},
      "outputs": [],
      "source": [
        "import pandas as pd\n",
        "import numpy as np\n",
        "import matplotlib.pyplot as plt\n",
        "import seaborn as sns\n",
        "import scipy.stats as stats\n",
        "from sklearn.preprocessing import MinMaxScaler\n",
        "\n",
        "import string\n",
        "import itertools"
      ]
    },
    {
      "cell_type": "markdown",
      "metadata": {},
      "source": [
        "### Defining constant values"
      ]
    },
    {
      "cell_type": "code",
      "execution_count": 9,
      "metadata": {},
      "outputs": [],
      "source": [
        "n_products = 10_000  # 100_000\n",
        "# number of active customers\n",
        "n_customers = 100 * 100  # 1000\n",
        "n_activities = n_customers * 100\n",
        "\n",
        "RANDOM_SEED = 42\n",
        "np.random.seed(RANDOM_SEED)"
      ]
    },
    {
      "cell_type": "markdown",
      "metadata": {},
      "source": [
        "### Emulating the real data"
      ]
    },
    {
      "cell_type": "code",
      "execution_count": 10,
      "metadata": {},
      "outputs": [
        {
          "data": {
            "text/plain": [
              "DatetimeIndex(['2024-01-20 13:58:00', '2024-01-20 13:58:00',\n",
              "               '2024-01-20 13:58:00', '2024-01-20 13:58:00'],\n",
              "              dtype='datetime64[ns]', freq=None)"
            ]
          },
          "execution_count": 10,
          "metadata": {},
          "output_type": "execute_result"
        }
      ],
      "source": [
        "# create random timestamps\n",
        "\n",
        "end_timestamp = pd.Timestamp.now()\n",
        "start_timestamp = end_timestamp - pd.DateOffset(months=2)\n",
        "\n",
        "timestamps = pd.date_range(\n",
        "\tstart=start_timestamp, end=end_timestamp, periods=n_activities\n",
        ").round('min')  # round to minutes\n",
        "\n",
        "timestamps[:4]"
      ]
    },
    {
      "cell_type": "code",
      "execution_count": 11,
      "metadata": {},
      "outputs": [
        {
          "data": {
            "text/html": [
              "<div>\n",
              "<style scoped>\n",
              "    .dataframe tbody tr th:only-of-type {\n",
              "        vertical-align: middle;\n",
              "    }\n",
              "\n",
              "    .dataframe tbody tr th {\n",
              "        vertical-align: top;\n",
              "    }\n",
              "\n",
              "    .dataframe thead th {\n",
              "        text-align: right;\n",
              "    }\n",
              "</style>\n",
              "<table border=\"1\" class=\"dataframe\">\n",
              "  <thead>\n",
              "    <tr style=\"text-align: right;\">\n",
              "      <th></th>\n",
              "      <th>name</th>\n",
              "      <th>price</th>\n",
              "      <th>introduced_at</th>\n",
              "    </tr>\n",
              "  </thead>\n",
              "  <tbody>\n",
              "    <tr>\n",
              "      <th>0</th>\n",
              "      <td>aaa</td>\n",
              "      <td>15895</td>\n",
              "      <td>2009-01-20 13:58:00</td>\n",
              "    </tr>\n",
              "    <tr>\n",
              "      <th>1</th>\n",
              "      <td>aab</td>\n",
              "      <td>960</td>\n",
              "      <td>2009-01-21 03:07:00</td>\n",
              "    </tr>\n",
              "    <tr>\n",
              "      <th>2</th>\n",
              "      <td>aac</td>\n",
              "      <td>38258</td>\n",
              "      <td>2009-01-21 16:16:00</td>\n",
              "    </tr>\n",
              "    <tr>\n",
              "      <th>3</th>\n",
              "      <td>aad</td>\n",
              "      <td>44832</td>\n",
              "      <td>2009-01-22 05:25:00</td>\n",
              "    </tr>\n",
              "    <tr>\n",
              "      <th>4</th>\n",
              "      <td>aae</td>\n",
              "      <td>11384</td>\n",
              "      <td>2009-01-22 18:33:00</td>\n",
              "    </tr>\n",
              "  </tbody>\n",
              "</table>\n",
              "</div>"
            ],
            "text/plain": [
              "  name  price       introduced_at\n",
              "0  aaa  15895 2009-01-20 13:58:00\n",
              "1  aab    960 2009-01-21 03:07:00\n",
              "2  aac  38258 2009-01-21 16:16:00\n",
              "3  aad  44832 2009-01-22 05:25:00\n",
              "4  aae  11384 2009-01-22 18:33:00"
            ]
          },
          "execution_count": 11,
          "metadata": {},
          "output_type": "execute_result"
        }
      ],
      "source": [
        "# generate products\n",
        "\n",
        "# Define the characters to use in product codes\n",
        "characters = list(string.ascii_letters)  # all letters a-z, A-Z\n",
        "\n",
        "# Generate all possible product codes of length 3\n",
        "product_codes = [\n",
        "    \"\".join(product) for product in itertools.product(characters, repeat=3)\n",
        "]\n",
        "\n",
        "# Repeat the product codes until we have n_products number of products\n",
        "products = list(itertools.islice(itertools.cycle(product_codes), n_products))\n",
        "\n",
        "# Generate product timestamps from 15 years before start_timestamp up to start_timestamp\n",
        "product_timestamps = pd.date_range(\n",
        "    start=start_timestamp - pd.DateOffset(years=15),\n",
        "    end=start_timestamp,\n",
        "    periods=n_products,\n",
        ").round(\"min\")\n",
        "\n",
        "# prices - generate random prices from 100 to 50_000 - with no decimal places\n",
        "prices = np.random.randint(100, 50_000, size=n_products)\n",
        "\n",
        "products_df = pd.DataFrame(\n",
        "    {\"name\": products, \"price\": prices, \"introduced_at\": product_timestamps}\n",
        ")\n",
        "products_df.head()"
      ]
    },
    {
      "cell_type": "code",
      "execution_count": 12,
      "metadata": {},
      "outputs": [
        {
          "ename": "KeyboardInterrupt",
          "evalue": "",
          "output_type": "error",
          "traceback": [
            "\u001b[0;31m---------------------------------------------------------------------------\u001b[0m",
            "\u001b[0;31mKeyboardInterrupt\u001b[0m                         Traceback (most recent call last)",
            "Cell \u001b[0;32mIn[12], line 21\u001b[0m\n\u001b[1;32m     16\u001b[0m \tresultCount_probabilities \u001b[38;5;241m=\u001b[39m [\u001b[38;5;241m0.1\u001b[39m] \u001b[38;5;241m+\u001b[39m [\u001b[38;5;241m0.3\u001b[39m] \u001b[38;5;241m+\u001b[39m [\u001b[38;5;241m0.6\u001b[39m\u001b[38;5;241m/\u001b[39m\u001b[38;5;241m98\u001b[39m]\u001b[38;5;241m*\u001b[39m\u001b[38;5;241m98\u001b[39m\n\u001b[1;32m     17\u001b[0m \tresultCount \u001b[38;5;241m=\u001b[39m np\u001b[38;5;241m.\u001b[39mrandom\u001b[38;5;241m.\u001b[39mchoice(\u001b[38;5;28mrange\u001b[39m(\u001b[38;5;241m100\u001b[39m), p\u001b[38;5;241m=\u001b[39mresultCount_probabilities)\n\u001b[1;32m     19\u001b[0m \tuser_search_data\u001b[38;5;241m.\u001b[39mappend({\n\u001b[1;32m     20\u001b[0m \t\t\u001b[38;5;124m'\u001b[39m\u001b[38;5;124mcustomerID\u001b[39m\u001b[38;5;124m'\u001b[39m: customer_id,\n\u001b[0;32m---> 21\u001b[0m \t\t\u001b[38;5;124m'\u001b[39m\u001b[38;5;124mkeyword\u001b[39m\u001b[38;5;124m'\u001b[39m: \u001b[43mnp\u001b[49m\u001b[38;5;241;43m.\u001b[39;49m\u001b[43mrandom\u001b[49m\u001b[38;5;241;43m.\u001b[39;49m\u001b[43mchoice\u001b[49m\u001b[43m(\u001b[49m\u001b[43mproducts\u001b[49m\u001b[43m)\u001b[49m,\n\u001b[1;32m     22\u001b[0m \t\t\u001b[38;5;124m'\u001b[39m\u001b[38;5;124mresultCount\u001b[39m\u001b[38;5;124m'\u001b[39m: \u001b[38;5;28;01mNone\u001b[39;00m \u001b[38;5;28;01mif\u001b[39;00m resultCount \u001b[38;5;241m==\u001b[39m \u001b[38;5;241m0\u001b[39m \u001b[38;5;28;01melse\u001b[39;00m resultCount,\n\u001b[1;32m     23\u001b[0m \t\t\u001b[38;5;124m'\u001b[39m\u001b[38;5;124mtimestamp\u001b[39m\u001b[38;5;124m'\u001b[39m: timestamps[activity_idx],\n\u001b[1;32m     24\u001b[0m \t})\n\u001b[1;32m     26\u001b[0m \u001b[38;5;28;01melif\u001b[39;00m activity \u001b[38;5;241m==\u001b[39m \u001b[38;5;124m'\u001b[39m\u001b[38;5;124madd_to_cart\u001b[39m\u001b[38;5;124m'\u001b[39m:\n\u001b[1;32m     27\u001b[0m \tadd_to_cart_data\u001b[38;5;241m.\u001b[39mappend({\n\u001b[1;32m     28\u001b[0m \t\t\u001b[38;5;124m'\u001b[39m\u001b[38;5;124mcustomerID\u001b[39m\u001b[38;5;124m'\u001b[39m: customer_id,\n\u001b[1;32m     29\u001b[0m \t\t\u001b[38;5;124m'\u001b[39m\u001b[38;5;124mproductID\u001b[39m\u001b[38;5;124m'\u001b[39m: np\u001b[38;5;241m.\u001b[39mrandom\u001b[38;5;241m.\u001b[39mrandint(\u001b[38;5;241m1\u001b[39m, n_products \u001b[38;5;241m+\u001b[39m \u001b[38;5;241m1\u001b[39m),\n\u001b[1;32m     30\u001b[0m \t\t\u001b[38;5;124m'\u001b[39m\u001b[38;5;124mtimestamp\u001b[39m\u001b[38;5;124m'\u001b[39m: timestamps[activity_idx],\n\u001b[1;32m     31\u001b[0m \t})\n",
            "File \u001b[0;32mnumpy/random/mtrand.pyx:937\u001b[0m, in \u001b[0;36mnumpy.random.mtrand.RandomState.choice\u001b[0;34m()\u001b[0m\n",
            "\u001b[0;31mKeyboardInterrupt\u001b[0m: "
          ]
        }
      ],
      "source": [
        "user_search_data = []\n",
        "add_to_cart_data = []\n",
        "remove_from_cart_data = []\n",
        "cart_order_data = []\n",
        "\n",
        "for activity_idx in range(n_activities):\n",
        "\tcustomer_id = np.random.randint(1, n_customers + 1)\n",
        "\tactivity = np.random.choice(['search', 'add_to_cart', 'place_order', 'remove_from_cart'], p=[0.7, 0.15, 0.1, 0.05])\n",
        "\n",
        "\t# remove_from_cart can be done only if there are products in the cart\n",
        "\tif activity == 'remove_from_cart' and len(add_to_cart_data) == 0:\n",
        "\t\tactivity = 'add_to_cart'\n",
        "\n",
        "\tif activity == 'search':\n",
        "\t\t# 10% chance for 0 results. 30% for only 1 result, and the rest distributed among 40-100 results\n",
        "\t\tresultCount_probabilities = [0.1] + [0.3] + [0.6/98]*98\n",
        "\t\tresultCount = np.random.choice(range(100), p=resultCount_probabilities)\n",
        "\n",
        "\t\tuser_search_data.append({\n",
        "\t\t\t'customerID': customer_id,\n",
        "\t\t\t'keyword': np.random.choice(products),\n",
        "\t\t\t'resultCount': None if resultCount == 0 else resultCount,\n",
        "\t\t\t'timestamp': timestamps[activity_idx],\n",
        "\t\t})\n",
        "\t\n",
        "\telif activity == 'add_to_cart':\n",
        "\t\tadd_to_cart_data.append({\n",
        "\t\t\t'customerID': customer_id,\n",
        "\t\t\t'productID': np.random.randint(1, n_products + 1),\n",
        "\t\t\t'timestamp': timestamps[activity_idx],\n",
        "\t\t})\n",
        "\t\n",
        "\telif activity == 'place_order':\n",
        "\t\t# Use a Poisson distribution for the number of products to order\n",
        "\t\tn_products_in_cart = stats.poisson(mu=2).rvs()  # mu is the mean\n",
        "\t\tn_products_in_cart = max(min(n_products_in_cart, 5), 1)  # Ensure n_products_to_order is between 1 and 5\n",
        "\t\tproduct_ids = np.random.choice(n_products, n_products_in_cart, replace=True)  # Allow duplicate product IDs in a single order\n",
        "\t\t\n",
        "\t\tcart_order_data.append({\n",
        "\t\t\t'customerID': customer_id,\n",
        "\t\t\t'productIDs': product_ids.tolist(),\n",
        "\t\t\t'timestamp': timestamps[activity_idx],\n",
        "\t\t})\n",
        "\t\n",
        "\telif activity == 'remove_from_cart':\n",
        "\t\t# select a random product from add_to_cart_data\n",
        "\t\tsample = np.random.choice(add_to_cart_data)\n",
        "\n",
        "\t\tremove_from_cart_data.append({\n",
        "\t\t\t'customerID': sample['customerID'],\n",
        "\t\t\t'productID': sample['productID'],\n",
        "\t\t\t'timestamp': timestamps[activity_idx],\n",
        "\t\t})\n",
        "\t\n",
        "\telse:\n",
        "\t\traise ValueError(f\"Unknown activity: {activity}\")\n",
        "\n",
        "user_search_df = pd.DataFrame(user_search_data)\n",
        "add_to_cart_df = pd.DataFrame(add_to_cart_data)\n",
        "remove_from_cart_df = pd.DataFrame(remove_from_cart_data)\n",
        "cart_order_df = pd.DataFrame(cart_order_data)\n",
        "\n",
        "user_search_df.head()"
      ]
    },
    {
      "cell_type": "code",
      "execution_count": null,
      "metadata": {},
      "outputs": [],
      "source": [
        "add_to_cart_df.head()"
      ]
    },
    {
      "cell_type": "code",
      "execution_count": null,
      "metadata": {},
      "outputs": [],
      "source": [
        "remove_from_cart_df.head()"
      ]
    },
    {
      "cell_type": "code",
      "execution_count": null,
      "metadata": {},
      "outputs": [],
      "source": [
        "cart_order_df.head()"
      ]
    },
    {
      "cell_type": "markdown",
      "metadata": {},
      "source": [
        "### Data pre-processing"
      ]
    },
    {
      "cell_type": "code",
      "execution_count": null,
      "metadata": {},
      "outputs": [],
      "source": [
        "# Common functions\n",
        "\n",
        "def feature_engineering_timestamps(df):\n",
        "\t# Feature engineering\n",
        "\t# 0: 10pm-6am: night = N, 1: 6am-12pm: morning = M, 2: 12pm-6pm: afternoon = A, 3: 6pm-10pm: evening = E\n",
        "\tdf['time_of_day'] = df['timestamp'].apply(lambda x: 'N' if x.hour < 6 else 'M' if x.hour < 12 else 'A' if x.hour < 18 else 'E')\n",
        "\tdf['is_weekend'] = df['timestamp'].apply(lambda x: x.dayofweek >= 5)\n",
        "\n",
        "def customer_id_int(df):\n",
        "\t# Convert customerID to int\n",
        "\tdf['customerID'] = df['customerID'].astype('int')\n"
      ]
    },
    {
      "cell_type": "code",
      "execution_count": null,
      "metadata": {},
      "outputs": [],
      "source": [
        "# products_df\n",
        "\n",
        "scaler = MinMaxScaler()\n",
        "products_df[[\"scaled_price\"]] = scaler.fit_transform(products_df[[\"price\"]])\n",
        "cost_levels = 5\n",
        "products_df[\"cost_level\"] = pd.qcut(\n",
        "    products_df[\"price\"], cost_levels, labels=range(1, cost_levels + 1)\n",
        ")\n",
        "\n",
        "# use introduced_at to categorize into levels\n",
        "introduced_at_levels = 5\n",
        "products_df[[\"introduced_at_scaled\"]] = scaler.fit_transform(\n",
        "    products_df[[\"introduced_at\"]]\n",
        ")\n",
        "\n",
        "# # One-hot encoding\n",
        "# products_df = pd.get_dummies(products_df, columns=['cost_level'])\n",
        "\n",
        "# total_sold using cart_order_df\n",
        "sales_count_dict = {}\n",
        "for order in cart_order_df[\"productIDs\"].to_list():\n",
        "    for product_id in order:\n",
        "        sales_count_dict[product_id] = sales_count_dict.get(product_id, 0) + 1\n",
        "products_df[\"total_sold\"] = products_df.index.to_series().apply(\n",
        "    lambda x: sales_count_dict.get(x, 0)\n",
        ")\n",
        "products_df[[\"total_sold_scaled\"]] = scaler.fit_transform(products_df[[\"total_sold\"]])\n",
        "\n",
        "products_df.head()\n",
        "products_df[products_df[\"total_sold\"] > 1].head()"
      ]
    },
    {
      "cell_type": "code",
      "execution_count": null,
      "metadata": {},
      "outputs": [],
      "source": [
        "# user_search_df\n",
        "customer_id_int(user_search_df)\n",
        "feature_engineering_timestamps(user_search_df)\n",
        "\n",
        "# fill NA in resultCount with 0\n",
        "user_search_df['resultCount'] = user_search_df['resultCount'].fillna(0)\n",
        "\n",
        "# replace resultCount with no_result using resultCount\n",
        "user_search_df['no_result'] = user_search_df['resultCount'].apply(lambda x: True if x == 0 else False)\n",
        "user_search_df.drop(columns=['resultCount'], inplace=True)\n",
        "\n",
        "# remove duplicates\n",
        "user_search_df.drop_duplicates(inplace=True)\n",
        "\n",
        "# if keyword is empty string, replace with None\n",
        "user_search_df['keyword'] = user_search_df['keyword'].replace('', np.nan)\n",
        "# drop if keyword is NA\n",
        "user_search_df.dropna(subset=['keyword'], inplace=True)\n",
        "\n",
        "\n",
        "user_search_df.head()"
      ]
    },
    {
      "cell_type": "code",
      "execution_count": null,
      "metadata": {},
      "outputs": [],
      "source": [
        "# add_to_cart_df\n",
        "\n",
        "# add column 'is_removed' and use data from remove_from_cart_df\n",
        "# match by customerID and productID\n",
        "add_to_cart_df['is_removed'] = add_to_cart_df.apply(\n",
        "\tlambda x: (\n",
        "\t\tTrue\n",
        "\t\tif remove_from_cart_df[\n",
        "\t\t\t(remove_from_cart_df['customerID'] == x['customerID'])\n",
        "\t\t\t& (remove_from_cart_df['productID'] == x['productID'])\n",
        "\t\t].shape[0]\n",
        "\t\t> 0\n",
        "\t\telse False\n",
        "\t),\n",
        "\taxis=1,\n",
        ")\n",
        "\n",
        "customer_id_int(add_to_cart_df)\n",
        "\n",
        "feature_engineering_timestamps(add_to_cart_df)\n",
        "\n",
        "add_to_cart_df.head()"
      ]
    },
    {
      "cell_type": "code",
      "execution_count": null,
      "metadata": {},
      "outputs": [],
      "source": [
        "# remove_from_cart_df\n",
        "customer_id_int(remove_from_cart_df)\n",
        "feature_engineering_timestamps(remove_from_cart_df)\n",
        "\n",
        "remove_from_cart_df.head()"
      ]
    },
    {
      "cell_type": "code",
      "execution_count": null,
      "metadata": {},
      "outputs": [],
      "source": [
        "# cart_order_df\n",
        "customer_id_int(cart_order_df)\n",
        "feature_engineering_timestamps(cart_order_df)\n",
        "\n",
        "cart_order_df.head()"
      ]
    },
    {
      "cell_type": "markdown",
      "metadata": {},
      "source": [
        "### Exploratory Data Analysis (EDA)"
      ]
    },
    {
      "cell_type": "code",
      "execution_count": null,
      "metadata": {},
      "outputs": [],
      "source": [
        "# products_df\n",
        "sns.pairplot(products_df)\n",
        "plt.show()"
      ]
    }
  ],
  "metadata": {
    "kernelspec": {
      "display_name": "Python 3 (ipykernel)",
      "language": "python",
      "name": "python3"
    },
    "language_info": {
      "codemirror_mode": {
        "name": "ipython",
        "version": 3
      },
      "file_extension": ".py",
      "mimetype": "text/x-python",
      "name": "python",
      "nbconvert_exporter": "python",
      "pygments_lexer": "ipython3",
      "version": "3.10.13"
    },
    "orig_nbformat": 4
  },
  "nbformat": 4,
  "nbformat_minor": 2
}
