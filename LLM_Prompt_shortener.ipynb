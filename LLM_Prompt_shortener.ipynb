{
 "cells": [
  {
   "cell_type": "code",
   "execution_count": 1,
   "metadata": {},
   "outputs": [
    {
     "name": "stdout",
     "output_type": "stream",
     "text": [
      "Running on local URL:  http://127.0.0.1:7860\n",
      "\n",
      "To create a public link, set `share=True` in `launch()`.\n"
     ]
    },
    {
     "data": {
      "text/html": [
       "<div><iframe src=\"http://127.0.0.1:7860/\" width=\"100%\" height=\"500\" allow=\"autoplay; camera; microphone; clipboard-read; clipboard-write;\" frameborder=\"0\" allowfullscreen></iframe></div>"
      ],
      "text/plain": [
       "<IPython.core.display.HTML object>"
      ]
     },
     "metadata": {},
     "output_type": "display_data"
    },
    {
     "data": {
      "text/plain": []
     },
     "execution_count": 1,
     "metadata": {},
     "output_type": "execute_result"
    },
    {
     "name": "stderr",
     "output_type": "stream",
     "text": [
      "None of PyTorch, TensorFlow >= 2.0, or Flax have been found. Models won't be available and only tokenizers, configuration and file/data utilities can be used.\n"
     ]
    },
    {
     "name": "stdout",
     "output_type": "stream",
     "text": [
      "Initial number of tokens: 107\n",
      "Shorten prompt result: \n",
      " You are a scientist who invents the first functional time machine capable of sending individuals forward in time. Your journey begins as you push the start button on your invention, feeling the weight of responsibility as the future rests solely on your shoulders.\n",
      "\n",
      "As you accelerate through space and time, you experience a surreal blend of sights, sounds, and sensations. The world around you distorts as you hurtle towards the distant horizon, causing time to slow down and warp your perception.\n",
      "\n",
      "Arriving in the future, you find yourself amidst an era marked by technological advancements that surpass anything humanity has achieved so far. Robotics, artificial intelligence, and genetic engineering have transformed society into a world where the impossible became possible.\n",
      "\n",
      "As you navigate this unfamiliar world, you encounter challenges and opportunities alike. You learn about societal changes such Freetown's reliance on renewable energy and the formation of democratic governments in some regions.\n",
      "\n",
      "The lessons you learn during your journey are profound. Time becomes sacred and valuable as its nature is revealed: it can neither be created nor destroyed but only transformed into other forms, such as memories or information.\n",
      "\n",
      "You also come to understand that humanity's relationship with time is a reflection of their values and beliefs. Through the lens of time travel, you witness firsthand how our understanding of time affects our perceptions of life and the universe.\n",
      "\n",
      "In conclusion, your journey into the future through time travel serves as an eye-opening experience. You are left humbled by the nature of existence and the power of human ingenuity in shaping society's trajectory.\n",
      "Number of tokens before cleanup: 107\n",
      "Number of tokens after cleanup: 98\n"
     ]
    }
   ],
   "source": [
    "import gradio as gr\n",
    "from common_functions import shorten_prompt\n",
    "\n",
    "interface=gr.Interface(\n",
    "    fn=shorten_prompt,\n",
    "    inputs=[gr.Textbox(lines=4, placeholder=\"Enter prompt here\")],\n",
    "    outputs=\"text\"\n",
    ")\n",
    "interface.launch()"
   ]
  },
  {
   "cell_type": "markdown",
   "metadata": {},
   "source": [
    "No prompt? You can try this:\n",
    "\n",
    "Imagine a world where time travel is possible, but only in one direction—forward. You are a scientist who invents the first functional time machine, capable of sending individuals forward in time.\n",
    "\n",
    "Write a story detailing your journey into the future. Describe the sights, sounds, and sensations you experience as you navigate this unfamiliar world. What societal changes have occurred? How has technology evolved? And most importantly, what profound lessons do you learn about the nature of time, humanity, and existence itself during your time-travel adventure?"
   ]
  }
 ],
 "metadata": {
  "kernelspec": {
   "display_name": ".venv",
   "language": "python",
   "name": "python3"
  },
  "language_info": {
   "codemirror_mode": {
    "name": "ipython",
    "version": 3
   },
   "file_extension": ".py",
   "mimetype": "text/x-python",
   "name": "python",
   "nbconvert_exporter": "python",
   "pygments_lexer": "ipython3",
   "version": "3.10.12"
  }
 },
 "nbformat": 4,
 "nbformat_minor": 2
}
