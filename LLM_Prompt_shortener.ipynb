{
 "cells": [
  {
   "cell_type": "code",
   "execution_count": 1,
   "metadata": {},
   "outputs": [
    {
     "name": "stdout",
     "output_type": "stream",
     "text": [
      "Running on local URL:  http://127.0.0.1:7860\n",
      "\n",
      "To create a public link, set `share=True` in `launch()`.\n"
     ]
    },
    {
     "data": {
      "text/html": [
       "<div><iframe src=\"http://127.0.0.1:7860/\" width=\"100%\" height=\"500\" allow=\"autoplay; camera; microphone; clipboard-read; clipboard-write;\" frameborder=\"0\" allowfullscreen></iframe></div>"
      ],
      "text/plain": [
       "<IPython.core.display.HTML object>"
      ]
     },
     "metadata": {},
     "output_type": "display_data"
    },
    {
     "data": {
      "text/plain": []
     },
     "execution_count": 1,
     "metadata": {},
     "output_type": "execute_result"
    },
    {
     "name": "stderr",
     "output_type": "stream",
     "text": [
      "None of PyTorch, TensorFlow >= 2.0, or Flax have been found. Models won't be available and only tokenizers, configuration and file/data utilities can be used.\n"
     ]
    },
    {
     "name": "stdout",
     "output_type": "stream",
     "text": [
      "Initial number of tokens: 107\n",
      "Shorten prompt result: \n",
      " As an AI model, I will provide a concise answer based on the given prompt.\n",
      "\n",
      "Forward-time travel allows me to witness history unfold before my very eyes. Visiting different points in time, I am amazed at how technology has advanced throughout human existence. Societal changes are evident as well - from ancient civilizations to modern cities. Witnessing wars and technological advancements firsthand, I learn about the nature of time, humanity, and existence itself. Through this adventure, I realize that our understanding of the past is limited compared to what we could potentially learn in future time-travel journeys.\n",
      "Number of tokens before cleanup: 107\n",
      "Number of tokens after cleanup: 98\n"
     ]
    }
   ],
   "source": [
    "import gradio as gr\n",
    "from common_functions import shorten_prompt\n",
    "\n",
    "interface=gr.Interface(\n",
    "    fn=shorten_prompt,\n",
    "    inputs=[gr.Textbox(lines=4, placeholder=\"Enter prompt here\")],\n",
    "\toutputs=[\n",
    "        gr.Textbox(label=\"Cleaned Prompt\"),\n",
    "        gr.Number(label=\"Input Token Count\"),\n",
    "        gr.Number(label=\"Output Token Count\"),\n",
    "\t\tgr.Number(label=\"Percent Saved\"),\n",
    "    ],\n",
    ")\n",
    "interface.launch()"
   ]
  },
  {
   "cell_type": "markdown",
   "metadata": {},
   "source": [
    "No prompt? You can try this:\n",
    "\n",
    "Imagine a world where time travel is possible, but only in one direction—forward. You are a scientist who invents the first functional time machine, capable of sending individuals forward in time.\n",
    "\n",
    "Write a story detailing your journey into the future. Describe the sights, sounds, and sensations you experience as you navigate this unfamiliar world. What societal changes have occurred? How has technology evolved? And most importantly, what profound lessons do you learn about the nature of time, humanity, and existence itself during your time-travel adventure?"
   ]
  }
 ],
 "metadata": {
  "kernelspec": {
   "display_name": ".venv",
   "language": "python",
   "name": "python3"
  },
  "language_info": {
   "codemirror_mode": {
    "name": "ipython",
    "version": 3
   },
   "file_extension": ".py",
   "mimetype": "text/x-python",
   "name": "python",
   "nbconvert_exporter": "python",
   "pygments_lexer": "ipython3",
   "version": "3.10.12"
  }
 },
 "nbformat": 4,
 "nbformat_minor": 2
}
