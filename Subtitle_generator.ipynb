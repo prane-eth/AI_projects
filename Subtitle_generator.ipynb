{
 "cells": [
  {
   "cell_type": "markdown",
   "metadata": {},
   "source": [
    "#### Installing packages"
   ]
  },
  {
   "cell_type": "code",
   "execution_count": 14,
   "metadata": {},
   "outputs": [],
   "source": [
    "# %pip install yt-dlp pydub > /dev/null"
   ]
  },
  {
   "cell_type": "code",
   "execution_count": 15,
   "metadata": {},
   "outputs": [],
   "source": [
    "# !sudo apt update && sudo apt install -y ffmpeg"
   ]
  },
  {
   "cell_type": "markdown",
   "metadata": {},
   "source": [
    "#### Importing packages"
   ]
  },
  {
   "cell_type": "code",
   "execution_count": 16,
   "metadata": {},
   "outputs": [],
   "source": [
    "import os\n",
    "import subprocess"
   ]
  },
  {
   "cell_type": "markdown",
   "metadata": {},
   "source": [
    "#### Defining constants"
   ]
  },
  {
   "cell_type": "code",
   "execution_count": 17,
   "metadata": {},
   "outputs": [],
   "source": [
    "media_dir = 'media'\n",
    "chunks_dir = f'{media_dir}/chunks'\n",
    "\n",
    "# create directories if they dont exist\n",
    "os.makedirs(media_dir, exist_ok=True)\n",
    "os.makedirs(chunks_dir, exist_ok=True)"
   ]
  },
  {
   "cell_type": "markdown",
   "metadata": {},
   "source": [
    "#### Downloading video"
   ]
  },
  {
   "cell_type": "code",
   "execution_count": 18,
   "metadata": {},
   "outputs": [],
   "source": [
    "filename = f'{media_dir}/Telugu_trailer.mp4'\n",
    "youtube_url = 'https://www.youtube.com/watch?v=7kpGQ_hbU30'\n",
    "if not os.path.exists(filename):\n",
    "\tos.system(f\"yt-dlp -f '18/best' --output '{filename}' '{youtube_url}'\")"
   ]
  },
  {
   "cell_type": "markdown",
   "metadata": {},
   "source": [
    "#### Extracting audio"
   ]
  },
  {
   "cell_type": "code",
   "execution_count": 19,
   "metadata": {},
   "outputs": [],
   "source": [
    "# extract audio\n",
    "file_format = filename.split('.')[-1]\n",
    "audio_filename = filename.replace(file_format, 'mp3')\n",
    "if os.path.exists(audio_filename):\n",
    "\tos.remove(audio_filename)\n",
    "try:\n",
    "    subprocess.check_output(f\"ffmpeg -i '{filename}' -vn -acodec libmp3lame '{audio_filename}' > /dev/null 2>&1\", shell=True)\n",
    "except subprocess.CalledProcessError as e:\n",
    "    print(f\"Command '{e.cmd}' returned non-zero exit status {e.returncode}\")"
   ]
  },
  {
   "cell_type": "markdown",
   "metadata": {},
   "source": [
    "#### Splitting audio into chunks"
   ]
  },
  {
   "cell_type": "code",
   "execution_count": 20,
   "metadata": {},
   "outputs": [
    {
     "name": "stdout",
     "output_type": "stream",
     "text": [
      "exporting chunk 0 to media/chunks/chunk0.mp3\n",
      "exporting chunk 1 to media/chunks/chunk1.mp3\n",
      "exporting chunk 2 to media/chunks/chunk2.mp3\n",
      "exporting chunk 3 to media/chunks/chunk3.mp3\n",
      "exporting chunk 4 to media/chunks/chunk4.mp3\n",
      "Chunk 0: Start Time = 0 ms, End Time = 1813 ms\n",
      "Chunk 1: Start Time = 1813 ms, End Time = 15366 ms\n",
      "Chunk 2: Start Time = 15366 ms, End Time = 26535 ms\n",
      "Chunk 3: Start Time = 26535 ms, End Time = 26996 ms\n",
      "Chunk 4: Start Time = 26996 ms, End Time = 29094 ms\n"
     ]
    }
   ],
   "source": [
    "# split audio into chunks\n",
    "\n",
    "# split by silence or change in voice\n",
    "from pydub import AudioSegment\n",
    "from pydub.silence import split_on_silence\n",
    "\n",
    "# delete all files in chunks_dir\n",
    "for file in os.listdir(chunks_dir):\n",
    "\tos.remove(f\"{chunks_dir}/{file}\")\n",
    "\n",
    "audio = AudioSegment.from_file(audio_filename)\n",
    "\n",
    "chunks = split_on_silence(\n",
    "    audio,\n",
    "    min_silence_len=200,\n",
    "    silence_thresh=-30,  # silence threshold in dB\n",
    ")\n",
    "\n",
    "# save chunks to files and note down timestamps\n",
    "timestamps = []\n",
    "current_time = 0  # start time of the first chunk\n",
    "\n",
    "audio_file_format = audio_filename.split('.')[-1]\n",
    "\n",
    "for i, chunk in enumerate(chunks):\n",
    "    chunk_filename = f\"{chunks_dir}/chunk{i}.{audio_file_format}\"\n",
    "    print(f\"exporting chunk {i} to {chunk_filename}\")\n",
    "    chunk.export(chunk_filename, format=audio_file_format)\n",
    "\n",
    "    # note down timestamp\n",
    "    chunk_length_ms = len(chunk)  # length of chunk in milliseconds\n",
    "    timestamps.append((current_time, current_time + chunk_length_ms))\n",
    "    current_time += chunk_length_ms  # update current_time for next chunk\n",
    "\n",
    "# print timestamps\n",
    "for i, (start_time, end_time) in enumerate(timestamps):\n",
    "    print(f\"Chunk {i}: Start Time = {start_time} ms, End Time = {end_time} ms\")"
   ]
  },
  {
   "cell_type": "markdown",
   "metadata": {},
   "source": [
    "##### Attempt to split by change in voice"
   ]
  },
  {
   "cell_type": "code",
   "execution_count": 21,
   "metadata": {},
   "outputs": [],
   "source": [
    "# %pip install pyAudioAnalysis hmmlearn eyed3 imblearn tqdm"
   ]
  },
  {
   "cell_type": "code",
   "execution_count": 22,
   "metadata": {},
   "outputs": [],
   "source": [
    "# import warnings\n",
    "# from pyAudioAnalysis import audioSegmentation as aS\n",
    "# from pydub import AudioSegment\n",
    "\n",
    "# warnings.filterwarnings(\"ignore\")\n",
    "\n",
    "# audio_file_format = audio_filename.split('.')[-1]\n",
    "# audio = AudioSegment.from_file(audio_filename, format=audio_file_format)\n",
    "\n",
    "# print(f\"Loaded audio file {audio_filename} with format {audio_file_format}\")\n",
    "\n",
    "# best_acc = 0\n",
    "# best_chunks = None\n",
    "# best_n_speakers = None\n",
    "\n",
    "# # try different numbers of speakers\n",
    "# for n_speakers in range(2, 5):  # start the range from 2 instead of 1\n",
    "# \tprint(f\"Trying with {n_speakers} speakers\")\n",
    "# \ttry:\n",
    "# \t\t# perform speaker diarization\n",
    "# \t\tflags, class_names, acc, CM = aS.speaker_diarization(audio_filename, n_speakers, mid_window=2.0, mid_step=0.2, short_window=0.05, lda_dim=min(35, n_speakers-1, 10))  # reduce lda_dim to a smaller value\n",
    "# \texcept ValueError as e:\n",
    "# \t\tprint(f\"ValueError encountered with {n_speakers} speakers: {e}\")\n",
    "# \t\tcontinue\n",
    "\n",
    "# \tprint(f\"Accuracy with {n_speakers} speakers: {acc}\")\n",
    "\n",
    "# \t# if this number of speakers gives a better accuracy, save the chunks\n",
    "# \tif acc > best_acc:\n",
    "# \t\tprint(f\"Better accuracy found with {n_speakers} speakers\")\n",
    "# \t\tbest_acc = acc\n",
    "# \t\tbest_n_speakers = n_speakers\n",
    "\n",
    "# \t\t# flags contains the speaker for each frame, split the audio based on change in speaker\n",
    "# \t\tchunks = []\n",
    "# \t\tstart = 0\n",
    "# \t\tcurrent_speaker = flags[0]\n",
    "# \t\tfor i, speaker in enumerate(flags):\n",
    "# \t\t\tif speaker != current_speaker:\n",
    "# \t\t\t\t# save the chunk of the previous speaker\n",
    "# \t\t\t\tchunk = audio[start:i]\n",
    "# \t\t\t\tchunks.append(chunk)\n",
    "# \t\t\t\t# start a new chunk for the new speaker\n",
    "# \t\t\t\tstart = i\n",
    "# \t\t\t\tcurrent_speaker = speaker\n",
    "# \t\t# save the last chunk\n",
    "# \t\tchunks.append(audio[start:])\n",
    "\n",
    "# \t\tbest_chunks = chunks\n",
    "\n",
    "# # delete all files in chunks_dir\n",
    "# for file in os.listdir(chunks_dir):\n",
    "# \tprint(f\"Deleting file {file} in {chunks_dir}\")\n",
    "# \tos.remove(f\"{chunks_dir}/{file}\")\n",
    "\n",
    "# # save chunks to files\n",
    "# if best_chunks is not None:\n",
    "# \tfor i, chunk in enumerate(best_chunks):\n",
    "# \t\tchunk_filename = f\"{chunks_dir}/chunk{i}.{audio_file_format}\"\n",
    "# \t\tprint(f\"Saving chunk {i} to {chunk_filename}\")\n",
    "# \t\tchunk.export(chunk_filename, format=audio_file_format)\n",
    "# else:\n",
    "# \tprint(\"No chunks to save\")"
   ]
  },
  {
   "cell_type": "markdown",
   "metadata": {},
   "source": [
    "### Generating subtitles"
   ]
  },
  {
   "cell_type": "code",
   "execution_count": 23,
   "metadata": {},
   "outputs": [],
   "source": [
    "# %pip install SpeechRecognition"
   ]
  },
  {
   "cell_type": "code",
   "execution_count": 42,
   "metadata": {},
   "outputs": [
    {
     "name": "stdout",
     "output_type": "stream",
     "text": [
      "Could not understand audio from chunk 0\n",
      "chunk 1 --> మీరు ఈరోజు ఇల్లు ఖాళీ చేయాలి ప్రాణంగా చూసుకుంటూ నెయ్యి ఇంటిని ఎవరు తీసుకుంటారు ఈ గౌతమ్ పాట\n",
      "chunk 2 --> 13 కోట్ 25 రోడ్డు\n",
      "Could not understand audio from chunk 3\n",
      "Could not understand audio from chunk 4\n"
     ]
    }
   ],
   "source": [
    "import speech_recognition as sr\n",
    "from pydub import AudioSegment\n",
    "from pycaption import CaptionSet, SRTWriter, Caption, CaptionNode\n",
    "from datetime import timedelta\n",
    "import os\n",
    "\n",
    "# Initialize the recognizer\n",
    "r = sr.Recognizer()\n",
    "\n",
    "# Initialize the CaptionSet with an empty dictionary\n",
    "caption_set = CaptionSet({})\n",
    "\n",
    "lang_code = 'te-IN'\n",
    "caption_set.set_captions(lang_code, [])\n",
    "\n",
    "# Iterate over the chunks\n",
    "for i, (start_time, end_time) in enumerate(timestamps):\n",
    "\t# Load the chunk\n",
    "\taudio_file_path = f\"{chunks_dir}/chunk{i}.{audio_file_format}\"\n",
    "\twav_audio_file_path = f\"{chunks_dir}/chunk{i}.wav\"\n",
    "\n",
    "\t# Convert audio file to wav\n",
    "\tAudioSegment.from_file(audio_file_path, format=audio_file_format).export(wav_audio_file_path, format=\"wav\")\n",
    "\n",
    "\t# Transcribe the audio chunk\n",
    "\twith sr.AudioFile(wav_audio_file_path) as source:\n",
    "\t\taudio = r.record(source)\n",
    "\ttry:\n",
    "\t\ttext = r.recognize_google(audio, language=lang_code)\n",
    "\t\tprint(f\"chunk {i} --> {text}\")\n",
    "\texcept sr.UnknownValueError:\n",
    "\t\tprint(f\"Could not understand audio from chunk {i}\")\n",
    "\t\ttext = \"\"\n",
    "\n",
    "\t# Convert start_time and end_time to microseconds\n",
    "\tstart_time_microseconds = start_time * 1000\n",
    "\tend_time_microseconds = end_time * 1000\n",
    "\n",
    "\t# Add the transcription to the CaptionSet only if text is not empty\n",
    "\tif text:\n",
    "\t\tcaption_set.get_captions(lang_code).append(\n",
    "\t\t\tCaption(\n",
    "\t\t\t\tstart=start_time_microseconds,\n",
    "\t\t\t\tend=end_time_microseconds,\n",
    "\t\t\t\tnodes=[CaptionNode.create_text(text)],\n",
    "\t\t\t)\n",
    "\t\t)\n",
    "\n",
    "\t# Delete the wav file after processing\n",
    "\tos.remove(wav_audio_file_path)\n",
    "\n",
    "# Write the CaptionSet to an SRT file\n",
    "with open(\"media/subtitles.srt\", \"w\") as subtitle_file:\n",
    "\tsubtitle_file.write(SRTWriter().write(caption_set))"
   ]
  }
 ],
 "metadata": {
  "kernelspec": {
   "display_name": "Python 3",
   "language": "python",
   "name": "python3"
  },
  "language_info": {
   "codemirror_mode": {
    "name": "ipython",
    "version": 3
   },
   "file_extension": ".py",
   "mimetype": "text/x-python",
   "name": "python",
   "nbconvert_exporter": "python",
   "pygments_lexer": "ipython3",
   "version": "3.10.13"
  }
 },
 "nbformat": 4,
 "nbformat_minor": 2
}
