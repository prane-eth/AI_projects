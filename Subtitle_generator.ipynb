{
 "cells": [
  {
   "cell_type": "markdown",
   "metadata": {},
   "source": [
    "#### Installing packages"
   ]
  },
  {
   "cell_type": "code",
   "execution_count": 10,
   "metadata": {},
   "outputs": [],
   "source": [
    "# %pip install yt-dlp pydub > /dev/null"
   ]
  },
  {
   "cell_type": "code",
   "execution_count": 11,
   "metadata": {},
   "outputs": [],
   "source": [
    "# !sudo apt update && sudo apt install -y ffmpeg"
   ]
  },
  {
   "cell_type": "markdown",
   "metadata": {},
   "source": [
    "#### Importing packages"
   ]
  },
  {
   "cell_type": "code",
   "execution_count": 12,
   "metadata": {},
   "outputs": [],
   "source": [
    "import os\n",
    "import subprocess"
   ]
  },
  {
   "cell_type": "markdown",
   "metadata": {},
   "source": [
    "#### Defining constants"
   ]
  },
  {
   "cell_type": "code",
   "execution_count": 13,
   "metadata": {},
   "outputs": [],
   "source": [
    "media_dir = 'media'\n",
    "chunks_dir = f'{media_dir}/chunks'\n",
    "\n",
    "# create directories if they dont exist\n",
    "os.makedirs(media_dir, exist_ok=True)\n",
    "os.makedirs(chunks_dir, exist_ok=True)"
   ]
  },
  {
   "cell_type": "markdown",
   "metadata": {},
   "source": [
    "#### Downloading video"
   ]
  },
  {
   "cell_type": "code",
   "execution_count": 14,
   "metadata": {},
   "outputs": [],
   "source": [
    "filename = f'{media_dir}/Telugu_trailer.mp4'\n",
    "youtube_url = 'https://www.youtube.com/watch?v=7kpGQ_hbU30'\n",
    "if not os.path.exists(filename):\n",
    "\tos.system(f\"yt-dlp -f '18/best' --output '{filename}' '{youtube_url}'\")"
   ]
  },
  {
   "cell_type": "markdown",
   "metadata": {},
   "source": [
    "#### Extracting audio"
   ]
  },
  {
   "cell_type": "code",
   "execution_count": 15,
   "metadata": {},
   "outputs": [],
   "source": [
    "# extract audio\n",
    "file_format = filename.split('.')[-1]\n",
    "audio_filename = filename.replace(file_format, 'mp3')\n",
    "if os.path.exists(audio_filename):\n",
    "\tos.remove(audio_filename)\n",
    "try:\n",
    "    subprocess.check_output(f\"ffmpeg -i '{filename}' -vn -acodec libmp3lame '{audio_filename}' > /dev/null 2>&1\", shell=True)\n",
    "except subprocess.CalledProcessError as e:\n",
    "    print(f\"Command '{e.cmd}' returned non-zero exit status {e.returncode}\")"
   ]
  },
  {
   "cell_type": "markdown",
   "metadata": {},
   "source": [
    "#### Splitting audio into chunks"
   ]
  },
  {
   "cell_type": "code",
   "execution_count": 57,
   "metadata": {},
   "outputs": [
    {
     "name": "stdout",
     "output_type": "stream",
     "text": [
      "exporting chunk 0 to media/chunks/chunk0.mp3\n",
      "exporting chunk 1 to media/chunks/chunk1.mp3\n",
      "exporting chunk 2 to media/chunks/chunk2.mp3\n",
      "exporting chunk 3 to media/chunks/chunk3.mp3\n",
      "exporting chunk 4 to media/chunks/chunk4.mp3\n"
     ]
    }
   ],
   "source": [
    "# split audio into chunks\n",
    "\n",
    "# split by silence or change in voice\n",
    "from pydub import AudioSegment\n",
    "from pydub.silence import split_on_silence\n",
    "\n",
    "# delete all files in chunks_dir\n",
    "for file in os.listdir(chunks_dir):\n",
    "\tos.remove(f\"{chunks_dir}/{file}\")\n",
    "\n",
    "audio = AudioSegment.from_file(audio_filename)\n",
    "\n",
    "chunks = split_on_silence(\n",
    "    audio,\n",
    "    min_silence_len=200,\n",
    "    silence_thresh=-30,  # silence threshold in dB\n",
    ")\n",
    "\n",
    "# save chunks to files\n",
    "for i, chunk in enumerate(chunks):\n",
    "    chunk_filename = f\"{chunks_dir}/chunk{i}.mp3\"\n",
    "    print(f\"exporting chunk {i} to {chunk_filename}\")\n",
    "    chunk.export(chunk_filename, format=\"mp3\")"
   ]
  },
  {
   "cell_type": "markdown",
   "metadata": {},
   "source": [
    "#### Attempt to split by change in voice"
   ]
  },
  {
   "cell_type": "code",
   "execution_count": 46,
   "metadata": {},
   "outputs": [],
   "source": [
    "# %pip install pyAudioAnalysis hmmlearn eyed3 imblearn tqdm"
   ]
  },
  {
   "cell_type": "code",
   "execution_count": 47,
   "metadata": {},
   "outputs": [],
   "source": [
    "# import warnings\n",
    "# from pyAudioAnalysis import audioSegmentation as aS\n",
    "# from pydub import AudioSegment\n",
    "\n",
    "# warnings.filterwarnings(\"ignore\")\n",
    "\n",
    "# audio_file_format = audio_filename.split('.')[-1]\n",
    "# audio = AudioSegment.from_file(audio_filename, format=audio_file_format)\n",
    "\n",
    "# print(f\"Loaded audio file {audio_filename} with format {audio_file_format}\")\n",
    "\n",
    "# best_acc = 0\n",
    "# best_chunks = None\n",
    "# best_n_speakers = None\n",
    "\n",
    "# # try different numbers of speakers\n",
    "# for n_speakers in range(2, 5):  # start the range from 2 instead of 1\n",
    "# \tprint(f\"Trying with {n_speakers} speakers\")\n",
    "# \ttry:\n",
    "# \t\t# perform speaker diarization\n",
    "# \t\tflags, class_names, acc, CM = aS.speaker_diarization(audio_filename, n_speakers, mid_window=2.0, mid_step=0.2, short_window=0.05, lda_dim=min(35, n_speakers-1, 10))  # reduce lda_dim to a smaller value\n",
    "# \texcept ValueError as e:\n",
    "# \t\tprint(f\"ValueError encountered with {n_speakers} speakers: {e}\")\n",
    "# \t\tcontinue\n",
    "\n",
    "# \tprint(f\"Accuracy with {n_speakers} speakers: {acc}\")\n",
    "\n",
    "# \t# if this number of speakers gives a better accuracy, save the chunks\n",
    "# \tif acc > best_acc:\n",
    "# \t\tprint(f\"Better accuracy found with {n_speakers} speakers\")\n",
    "# \t\tbest_acc = acc\n",
    "# \t\tbest_n_speakers = n_speakers\n",
    "\n",
    "# \t\t# flags contains the speaker for each frame, split the audio based on change in speaker\n",
    "# \t\tchunks = []\n",
    "# \t\tstart = 0\n",
    "# \t\tcurrent_speaker = flags[0]\n",
    "# \t\tfor i, speaker in enumerate(flags):\n",
    "# \t\t\tif speaker != current_speaker:\n",
    "# \t\t\t\t# save the chunk of the previous speaker\n",
    "# \t\t\t\tchunk = audio[start:i]\n",
    "# \t\t\t\tchunks.append(chunk)\n",
    "# \t\t\t\t# start a new chunk for the new speaker\n",
    "# \t\t\t\tstart = i\n",
    "# \t\t\t\tcurrent_speaker = speaker\n",
    "# \t\t# save the last chunk\n",
    "# \t\tchunks.append(audio[start:])\n",
    "\n",
    "# \t\tbest_chunks = chunks\n",
    "\n",
    "# # delete all files in chunks_dir\n",
    "# for file in os.listdir(chunks_dir):\n",
    "# \tprint(f\"Deleting file {file} in {chunks_dir}\")\n",
    "# \tos.remove(f\"{chunks_dir}/{file}\")\n",
    "\n",
    "# # save chunks to files\n",
    "# if best_chunks is not None:\n",
    "# \tfor i, chunk in enumerate(best_chunks):\n",
    "# \t\tchunk_filename = f\"{chunks_dir}/chunk{i}.{audio_file_format}\"\n",
    "# \t\tprint(f\"Saving chunk {i} to {chunk_filename}\")\n",
    "# \t\tchunk.export(chunk_filename, format=audio_file_format)\n",
    "# else:\n",
    "# \tprint(\"No chunks to save\")"
   ]
  }
 ],
 "metadata": {
  "kernelspec": {
   "display_name": "Python 3",
   "language": "python",
   "name": "python3"
  },
  "language_info": {
   "codemirror_mode": {
    "name": "ipython",
    "version": 3
   },
   "file_extension": ".py",
   "mimetype": "text/x-python",
   "name": "python",
   "nbconvert_exporter": "python",
   "pygments_lexer": "ipython3",
   "version": "3.10.13"
  }
 },
 "nbformat": 4,
 "nbformat_minor": 2
}
