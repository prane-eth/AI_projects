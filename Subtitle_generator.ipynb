{
 "cells": [
  {
   "cell_type": "code",
   "execution_count": 1,
   "metadata": {},
   "outputs": [],
   "source": [
    "import os"
   ]
  },
  {
   "cell_type": "code",
   "execution_count": 2,
   "metadata": {},
   "outputs": [
    {
     "name": "stdout",
     "output_type": "stream",
     "text": [
      "Defaulting to user installation because normal site-packages is not writeable\n",
      "Requirement already satisfied: youtube-dl in /home/praneeth/.local/lib/python3.10/site-packages (2021.12.17)\n",
      "Note: you may need to restart the kernel to use updated packages.\n"
     ]
    }
   ],
   "source": [
    "# install youtube-dl using pip\n",
    "%pip install youtube-dl"
   ]
  },
  {
   "cell_type": "code",
   "execution_count": 3,
   "metadata": {},
   "outputs": [
    {
     "name": "stderr",
     "output_type": "stream",
     "text": [
      "UsageError: Line magic function `%youtube-dl` not found.\n"
     ]
    }
   ],
   "source": [
    "file = \"Telugu_trailer.mp4\"\n",
    "# if file doesnt exist, download from https://www.youtube.com/watch?v=7kpGQ_hbU30\n",
    "if not os.path.exists(file):\n",
    "\t%youtube-dl -f 'bestvideo[ext=mp4]' --output \"Telugu_trailer.%(ext)s\" \"https://www.youtube.com/watch?v=7kpGQ_hbU30\""
   ]
  }
 ],
 "metadata": {
  "kernelspec": {
   "display_name": "Python 3",
   "language": "python",
   "name": "python3"
  },
  "language_info": {
   "codemirror_mode": {
    "name": "ipython",
    "version": 3
   },
   "file_extension": ".py",
   "mimetype": "text/x-python",
   "name": "python",
   "nbconvert_exporter": "python",
   "pygments_lexer": "ipython3",
   "version": "3.10.12"
  }
 },
 "nbformat": 4,
 "nbformat_minor": 2
}
