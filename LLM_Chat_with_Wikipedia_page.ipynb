{
 "cells": [
  {
   "cell_type": "code",
   "execution_count": 1,
   "metadata": {},
   "outputs": [],
   "source": [
    "# %pip install Wikipedia-API langchain chainlit"
   ]
  },
  {
   "cell_type": "markdown",
   "metadata": {},
   "source": [
    "Before you run this, please install [Ollama](https://ollama.com/download) and run\n",
    "`ollama pull` and `ollama pull llama2`"
   ]
  },
  {
   "cell_type": "markdown",
   "metadata": {},
   "source": [
    "#### Imports"
   ]
  },
  {
   "cell_type": "code",
   "execution_count": 2,
   "metadata": {},
   "outputs": [
    {
     "name": "stderr",
     "output_type": "stream",
     "text": [
      "Python-dotenv could not parse statement starting at line 2\n"
     ]
    },
    {
     "name": "stdout",
     "output_type": "stream",
     "text": [
      "2024-04-05 14:25:20 - Loaded .env file\n"
     ]
    }
   ],
   "source": [
    "import os\n",
    "import sys\n",
    "import time\n",
    "from IPython.display import display, Markdown\n",
    "from wikipediaapi import Wikipedia\n",
    "from langchain_core.prompts import ChatPromptTemplate\n",
    "from langchain_community.llms import Ollama\n",
    "from langchain.schema.runnable.config import RunnableConfig\n",
    "from langchain_core.output_parsers import StrOutputParser\n",
    "import chainlit as cl\n",
    "\n",
    "default_filename = 'LLM_Chat_with_Wikipedia_page.ipynb'\n",
    "filename = os.path.basename(globals().get('__vsc_ipynb_file__', default_filename))\n",
    "\n",
    "HOSTING_MODE = True"
   ]
  },
  {
   "cell_type": "markdown",
   "metadata": {},
   "source": [
    "#### Data collection"
   ]
  },
  {
   "cell_type": "code",
   "execution_count": 3,
   "metadata": {},
   "outputs": [
    {
     "name": "stdout",
     "output_type": "stream",
     "text": [
      "2024-04-05 14:25:20 - Wikipedia: language=en, user_agent: MyProject (test@example.com) (Wikipedia-API/0.6.0; https://github.com/martin-majlis/Wikipedia-API/), extract_format=ExtractFormat.WIKI\n",
      "2024-04-05 14:25:20 - Request URL: https://en.wikipedia.org/w/api.php?action=query&prop=info&titles=Python (programming language)&inprop=protection|talkid|watched|watchers|visitingwatchers|notificationtimestamp|subjectid|url|readable|preload|displaytitle\n",
      "2024-04-05 14:25:21 - Request URL: https://en.wikipedia.org/w/api.php?action=query&prop=extracts&titles=Python (programming language)&explaintext=1&exsectionformat=wiki\n",
      "Python is a high-level, general-purpose programming language. Its design philosophy emphasizes code ...\n"
     ]
    }
   ],
   "source": [
    "wikipedia = Wikipedia('MyProject (test@example.com)', 'en')\n",
    "\n",
    "def get_wikipedia_page(page_name):\n",
    "\tpage = wikipedia.page(page_name)\n",
    "\t\n",
    "\tif page.exists() and len(page.text) > 0:\n",
    "\t\treturn page.text\n",
    "\telse:\n",
    "\t\treturn None\n",
    "\n",
    "page_content = get_wikipedia_page('Python (programming language)')\n",
    "if page_content is None:\n",
    "\traise ValueError('Page not found')\n",
    "print(page_content[:100] + '...')"
   ]
  },
  {
   "cell_type": "markdown",
   "metadata": {},
   "source": [
    "#### Creating the model"
   ]
  },
  {
   "cell_type": "code",
   "execution_count": 4,
   "metadata": {},
   "outputs": [
    {
     "data": {
      "text/plain": [
       "Ollama()"
      ]
     },
     "execution_count": 4,
     "metadata": {},
     "output_type": "execute_result"
    }
   ],
   "source": [
    "llm = Ollama(model=\"llama2\")\n",
    "llm"
   ]
  },
  {
   "cell_type": "markdown",
   "metadata": {},
   "source": [
    "Define the prompt"
   ]
  },
  {
   "cell_type": "code",
   "execution_count": 5,
   "metadata": {},
   "outputs": [],
   "source": [
    "# prompt can also be saved to a file and used as a template\n",
    "prompt = \"\"\"\n",
    "Answer the user's question using the content from wikipedia page.\n",
    "If user asks something not related to the content, avoid answering.\n",
    "Avoid technical jargon.\n",
    "Avoid words like \"Hi\", \"According to\", \"In my opinion\", etc unless mandatory.\n",
    "Keep the answers very short and to the point upto 25 words.\n",
    "\"\"\"  # emphasizing on a short answer for a faster response and saving CPU time\n",
    "\n",
    "prompt = prompt.strip().replace(\"\\n\", \" \")"
   ]
  },
  {
   "cell_type": "code",
   "execution_count": 6,
   "metadata": {},
   "outputs": [
    {
     "name": "stdout",
     "output_type": "stream",
     "text": [
      "Functions ready\n"
     ]
    }
   ],
   "source": [
    "CHARACTER_LIMIT = 2000\n",
    "\n",
    "promptTemplate = ChatPromptTemplate.from_messages([\n",
    "\t(\"system\", prompt),\n",
    "\t(\"system\", page_content[:CHARACTER_LIMIT]),\n",
    "\t(\"user\", \"{question}\"),\n",
    "])\n",
    "chain = promptTemplate | llm | StrOutputParser()  # Parse output as string\n",
    "# Different operations are chained together to form a 'pipeline'.\n",
    "# The output of one operation is passed as input to the next.\n",
    "\n",
    "def answer_question(question):\n",
    "\treturn chain.invoke({ \"question\": question })\n",
    "\n",
    "def test_for_question(question):\n",
    "\tprint(f\"Question: {question}\")\n",
    "\tanswer = answer_question(question)\n",
    "\tanswer = f\"Answer: {answer}\"\n",
    "\tdisplay(Markdown(answer))\n",
    "\ttime.sleep(2)  # CPU cooldown break\n",
    "\treturn answer\n",
    "\n",
    "print(\"Functions ready\")"
   ]
  },
  {
   "cell_type": "markdown",
   "metadata": {},
   "source": [
    "#### Testing with some queries (disabled in hosting mode)"
   ]
  },
  {
   "cell_type": "code",
   "execution_count": 7,
   "metadata": {},
   "outputs": [],
   "source": [
    "if HOSTING_MODE:\n",
    "\tprint(\"Testing is disabled in hosting mode\")\n",
    "else:\n",
    "\ttest_for_question(\"what is python?\")\n",
    "\n",
    "\ttest_for_question(\"why python? why not javascript?\")\n",
    "\n",
    "\t# Unrelated question\n",
    "\ttest_for_question(\"what is garbage collector in java?\")\n",
    "\n",
    "\t# Asking in Spanish - who invented python\n",
    "\ttest_for_question(\"quien inventó python\")\n",
    "\n",
    "\t# Asking in Hindi - who invented python\n",
    "\ttest_for_question(\"पाइथॉन का आविष्कार किसने किया\")"
   ]
  },
  {
   "cell_type": "markdown",
   "metadata": {},
   "source": [
    "#### Hosting with Chainlit"
   ]
  },
  {
   "cell_type": "code",
   "execution_count": 8,
   "metadata": {},
   "outputs": [
    {
     "name": "stdout",
     "output_type": "stream",
     "text": [
      "Chainlit ready\n"
     ]
    }
   ],
   "source": [
    "@cl.on_chat_start\n",
    "async def on_chat_start():\n",
    "\tcl.user_session.set(\"runnable\", chain)\n",
    "\n",
    "@cl.on_message\n",
    "async def on_message(message: cl.Message):\n",
    "\trunnable = cl.user_session.get(\"runnable\")  ## type: Runnable\n",
    "\tmsg = cl.Message(content=\"\")\n",
    "\n",
    "\tasync for chunk in runnable.astream(\n",
    "\t\t{ \"question\": message.content },\n",
    "\t\tconfig=RunnableConfig(callbacks=[cl.LangchainCallbackHandler()]),\n",
    "\t):\n",
    "\t\tawait msg.stream_token(chunk)\n",
    "\n",
    "\tawait msg.send()\n",
    "\n",
    "print(\"Chainlit ready\")"
   ]
  },
  {
   "cell_type": "code",
   "execution_count": 9,
   "metadata": {},
   "outputs": [
    {
     "name": "stderr",
     "output_type": "stream",
     "text": [
      "[NbConvertApp] Converting notebook LLM_Chat_with_Wikipedia_page.ipynb to script\n",
      "[NbConvertApp] Writing 3586 bytes to __pycache__/LLM_Chat_with_Wikipedia_page.ipynb.py\n",
      "Python-dotenv could not parse statement starting at line 2\n"
     ]
    },
    {
     "name": "stdout",
     "output_type": "stream",
     "text": [
      "2024-04-05 14:25:24 - Loaded .env file\n",
      "2024-04-05 14:25:25 - Wikipedia: language=en, user_agent: MyProject (test@example.com) (Wikipedia-API/0.6.0; https://github.com/martin-majlis/Wikipedia-API/), extract_format=ExtractFormat.WIKI\n",
      "2024-04-05 14:25:25 - Request URL: https://en.wikipedia.org/w/api.php?action=query&prop=info&titles=Python (programming language)&inprop=protection|talkid|watched|watchers|visitingwatchers|notificationtimestamp|subjectid|url|readable|preload|displaytitle\n",
      "2024-04-05 14:25:26 - Request URL: https://en.wikipedia.org/w/api.php?action=query&prop=extracts&titles=Python (programming language)&explaintext=1&exsectionformat=wiki\n",
      "Python is a high-level, general-purpose programming language. Its design philosophy emphasizes code ...\n",
      "Functions ready\n",
      "Chainlit ready\n",
      "2024-04-05 14:25:27 - Your app is available at http://localhost:8000\n",
      "Opening in existing browser session.\n",
      "2024-04-05 14:25:29 - Translation file for en-GB not found. Using default translation en-US.\n",
      "2024-04-05 14:25:29 - Translated markdown file for en-GB not found. Defaulting to chainlit.md.\n",
      "2024-04-05 14:26:18 - Translation file for en-GB not found. Using default translation en-US.\n",
      "2024-04-05 14:26:33 - Translation file for en-GB not found. Using default translation en-US.\n"
     ]
    }
   ],
   "source": [
    "is_notebook = 'ipykernel' in sys.modules\n",
    "if is_notebook:\n",
    "\tfrom common_functions import host_chainlit\n",
    "\thost_chainlit(filename, HOSTING_MODE)"
   ]
  }
 ],
 "metadata": {
  "kernelspec": {
   "display_name": "Python 3",
   "language": "python",
   "name": "python3"
  },
  "language_info": {
   "codemirror_mode": {
    "name": "ipython",
    "version": 3
   },
   "file_extension": ".py",
   "mimetype": "text/x-python",
   "name": "python",
   "nbconvert_exporter": "python",
   "pygments_lexer": "ipython3",
   "version": "3.10.12"
  }
 },
 "nbformat": 4,
 "nbformat_minor": 2
}
